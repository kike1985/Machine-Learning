{
 "cells": [
  {
   "cell_type": "code",
   "execution_count": 1,
   "id": "2dfcf987",
   "metadata": {
    "ExecuteTime": {
     "end_time": "2023-01-07T02:49:18.189368Z",
     "start_time": "2023-01-07T02:49:18.160368Z"
    }
   },
   "outputs": [
    {
     "name": "stdout",
     "output_type": "stream",
     "text": [
      "Last updated: 2023-01-06T21:49:18.178367-05:00\n",
      "\n",
      "Python implementation: CPython\n",
      "Python version       : 3.9.15\n",
      "IPython version      : 8.7.0\n",
      "\n",
      "Compiler    : MSC v.1929 64 bit (AMD64)\n",
      "OS          : Windows\n",
      "Release     : 10\n",
      "Machine     : AMD64\n",
      "Processor   : Intel64 Family 6 Model 158 Stepping 10, GenuineIntel\n",
      "CPU cores   : 12\n",
      "Architecture: 64bit\n",
      "\n"
     ]
    }
   ],
   "source": [
    "%load_ext watermark\n",
    "%watermark"
   ]
  },
  {
   "cell_type": "code",
   "execution_count": 2,
   "id": "2b248b48",
   "metadata": {
    "ExecuteTime": {
     "end_time": "2023-01-07T02:49:18.871366Z",
     "start_time": "2023-01-07T02:49:18.193368Z"
    }
   },
   "outputs": [],
   "source": [
    "import numpy as np\n",
    "\n",
    "import pandas as pd\n",
    "\n",
    "import cv2\n",
    "\n",
    "from PIL import Image\n",
    "\n",
    "import os\n",
    "\n",
    "from io import BytesIO\n",
    "\n",
    "import base64\n",
    "\n",
    "import IPython\n",
    "from IPython.display import HTML\n",
    "\n",
    "from gtts import gTTS\n",
    "\n",
    "from deep_translator import GoogleTranslator\n",
    "\n",
    "import pytesseract\n",
    "\n",
    "from progressbar import ProgressBar\n",
    "\n",
    "from concurrent.futures import ThreadPoolExecutor"
   ]
  },
  {
   "cell_type": "code",
   "execution_count": 3,
   "id": "b96cf6cf",
   "metadata": {
    "ExecuteTime": {
     "end_time": "2023-01-07T02:49:18.903366Z",
     "start_time": "2023-01-07T02:49:18.874371Z"
    }
   },
   "outputs": [
    {
     "data": {
      "image/png": "[encoded data removed]",
      "text/plain": [
       "<PIL.PngImagePlugin.PngImageFile image mode=RGBA size=79x67>"
      ]
     },
     "execution_count": 3,
     "metadata": {},
     "output_type": "execute_result"
    }
   ],
   "source": [
    "path = '_resources/img/blank.png'\n",
    "# path = '_resources/img/Screenshot_20210528-100908.png'\n",
    "\n",
    "img = Image.open(path)\n",
    "img.thumbnail((300, 600))\n",
    "img"
   ]
  },
  {
   "cell_type": "code",
   "execution_count": 4,
   "id": "f68c1e13",
   "metadata": {
    "ExecuteTime": {
     "end_time": "2023-01-07T02:49:18.982368Z",
     "start_time": "2023-01-07T02:49:18.905366Z"
    }
   },
   "outputs": [
    {
     "data": {
      "text/plain": [
       "''"
      ]
     },
     "execution_count": 4,
     "metadata": {},
     "output_type": "execute_result"
    }
   ],
   "source": [
    "def image_to_string(path):\n",
    "    img = cv2.imread(path)\n",
    "\n",
    "    gray = cv2.cvtColor(img, cv2.COLOR_RGB2GRAY)\n",
    "    gray, img_bin = cv2.threshold(gray, 128, 255,\n",
    "                                  cv2.THRESH_BINARY | cv2.THRESH_OTSU)\n",
    "    gray = cv2.bitwise_not(img_bin)\n",
    "\n",
    "    kernel = np.ones((2, 1), np.uint8)\n",
    "    img = cv2.erode(gray, kernel, iterations=1)\n",
    "    img = cv2.dilate(img, kernel, iterations=1)\n",
    "\n",
    "    return pytesseract.image_to_string(img)\n",
    "\n",
    "\n",
    "image_to_string(path)"
   ]
  },
  {
   "cell_type": "code",
   "execution_count": 5,
   "id": "18a2ce7f",
   "metadata": {
    "ExecuteTime": {
     "end_time": "2023-01-07T02:49:18.998368Z",
     "start_time": "2023-01-07T02:49:18.984369Z"
    },
    "scrolled": true
   },
   "outputs": [
    {
     "data": {
      "text/plain": [
       "'<img src=\"data:image/png;base64,iVBORw0KGgoAAAANSUhEUgAAAE8AAABDCAYAAADd9lj9AAAAqElEQVR4nO3QwQnAMBDAsCT773vPZof6UQrSBMZ7Zp7FK+frgD8zLzAvMC8wLzAvMC8wLzAvMC8wLzAvMC8wLzAvMC8wLzAvMC8wLzAvMC8wLzAvMC8wLzAvMC8wLzAvMC8wLzAvMC8wLzAvMC8wLzAvMC8wLzAvMC8wLzAvMC8wLzAvMC8wLzAvMC8wLzAvMC8wLzAvMC8wLzAvMC8wLzAvMC8wLzAvuNz6BGr5AmAeAAAAAElFTkSuQmCC\">'"
      ]
     },
     "execution_count": 5,
     "metadata": {},
     "output_type": "execute_result"
    }
   ],
   "source": [
    "def b64encode(path):\n",
    "    img = Image.open(path)\n",
    "    img.thumbnail((600, 1000))\n",
    "\n",
    "    with BytesIO() as buffer:\n",
    "        img.save(buffer, 'png')\n",
    "        img_encode = base64.b64encode(buffer.getvalue()).decode()\n",
    "\n",
    "    return f'<img src=\"data:image/png;base64,{img_encode}\">'\n",
    "\n",
    "\n",
    "b64encode(path)"
   ]
  },
  {
   "cell_type": "markdown",
   "id": "c1cc6651",
   "metadata": {},
   "source": [
    "Se obtienen los textos a partir de las imágenes."
   ]
  },
  {
   "cell_type": "code",
   "execution_count": 6,
   "id": "e1acff82",
   "metadata": {
    "ExecuteTime": {
     "end_time": "2023-01-07T02:49:19.014367Z",
     "start_time": "2023-01-07T02:49:19.000369Z"
    }
   },
   "outputs": [
    {
     "name": "stdout",
     "output_type": "stream",
     "text": [
      "Couldn't find program: 'echo'\n"
     ]
    }
   ],
   "source": [
    "%%script echo Comentar para ejecutar la celda\n",
    "\n",
    "raw_text_df = pd.DataFrame(columns=['name', 'image', 'text'])\n",
    "raw_text_df.set_index(keys='name', inplace=True)\n",
    "\n",
    "img_path = os.listdir('_resources/img')\n",
    "\n",
    "bar = ProgressBar(maxval=len(img_path)).start()\n",
    "i = 0\n",
    "\n",
    "\n",
    "def gen_string(name):\n",
    "    path = f'_resources/img/{name}'\n",
    "\n",
    "    img = b64encode(path)\n",
    "    text = image_to_string(path)\n",
    "\n",
    "    name = name.split('.')[0]\n",
    "    raw_text_df.loc[name] = [img, text]\n",
    "\n",
    "    global i\n",
    "    i += 1\n",
    "    bar.update(i)\n",
    "\n",
    "\n",
    "# max_workers=1 para que se ejecute en el mismo orden\n",
    "with ThreadPoolExecutor(max_workers=1) as executor:\n",
    "    futures = [executor.submit(gen_string, name)\n",
    "               for name in img_path if name != 'desktop.ini']\n",
    "\n",
    "bar.finish()\n",
    "\n",
    "raw_text_df['status'] = False\n",
    "raw_text_df.reset_index(inplace=True)\n",
    "raw_text_df.head(10)"
   ]
  },
  {
   "cell_type": "code",
   "execution_count": 7,
   "id": "0036422f",
   "metadata": {
    "ExecuteTime": {
     "end_time": "2023-01-07T02:49:19.030395Z",
     "start_time": "2023-01-07T02:49:19.016369Z"
    }
   },
   "outputs": [
    {
     "name": "stdout",
     "output_type": "stream",
     "text": [
      "Couldn't find program: 'echo'\n"
     ]
    }
   ],
   "source": [
    "%%script echo Comentar para ejecutar la celda\n",
    "\n",
    "raw_text_df.to_csv('_resources/raw_data.csv')\n",
    "\n",
    "with open('_resources/raw_data.html', 'w') as file:\n",
    "    html_string = raw_text_df.to_html(escape=False)\n",
    "    file.write(html_string)\n",
    "    del html_string"
   ]
  },
  {
   "cell_type": "markdown",
   "id": "4a19f9a2",
   "metadata": {},
   "source": [
    "- Se debe hacer una copia del html guardado anteriormente (`raw_data.html`).\n",
    "- Se debe editar el html copiado (`data.html`)."
   ]
  },
  {
   "cell_type": "markdown",
   "id": "c46de613",
   "metadata": {},
   "source": [
    "Se carga el html editado."
   ]
  },
  {
   "cell_type": "code",
   "execution_count": 8,
   "id": "5715a033",
   "metadata": {
    "ExecuteTime": {
     "end_time": "2023-01-07T02:49:26.478401Z",
     "start_time": "2023-01-07T02:49:19.031369Z"
    }
   },
   "outputs": [
    {
     "data": {
      "text/html": [
       "<div>\n",
       "<style scoped>\n",
       "    .dataframe tbody tr th:only-of-type {\n",
       "        vertical-align: middle;\n",
       "    }\n",
       "\n",
       "    .dataframe tbody tr th {\n",
       "        vertical-align: top;\n",
       "    }\n",
       "\n",
       "    .dataframe thead th {\n",
       "        text-align: right;\n",
       "    }\n",
       "</style>\n",
       "<table border=\"1\" class=\"dataframe\">\n",
       "  <thead>\n",
       "    <tr style=\"text-align: right;\">\n",
       "      <th></th>\n",
       "      <th>name</th>\n",
       "      <th>text</th>\n",
       "      <th>status</th>\n",
       "    </tr>\n",
       "  </thead>\n",
       "  <tbody>\n",
       "    <tr>\n",
       "      <th>0</th>\n",
       "      <td>Screenshot_20210528-100908</td>\n",
       "      <td>Remember, you talk about two or more things. Y...</td>\n",
       "      <td>True</td>\n",
       "    </tr>\n",
       "    <tr>\n",
       "      <th>1</th>\n",
       "      <td>Screenshot_20210528-100918</td>\n",
       "      <td>You talk about things that happened and didn't...</td>\n",
       "      <td>True</td>\n",
       "    </tr>\n",
       "    <tr>\n",
       "      <th>2</th>\n",
       "      <td>Screenshot_20210528-100924</td>\n",
       "      <td>You talk about many things that happened in th...</td>\n",
       "      <td>True</td>\n",
       "    </tr>\n",
       "    <tr>\n",
       "      <th>3</th>\n",
       "      <td>Screenshot_20210528-101214</td>\n",
       "      <td>You talk about things that happened in the pas...</td>\n",
       "      <td>True</td>\n",
       "    </tr>\n",
       "    <tr>\n",
       "      <th>4</th>\n",
       "      <td>Screenshot_20210528-103610</td>\n",
       "      <td>You talk about the present. You talk about why...</td>\n",
       "      <td>True</td>\n",
       "    </tr>\n",
       "    <tr>\n",
       "      <th>5</th>\n",
       "      <td>Screenshot_20210528-103849</td>\n",
       "      <td>You talk about why things happened. You say: -...</td>\n",
       "      <td>True</td>\n",
       "    </tr>\n",
       "    <tr>\n",
       "      <th>6</th>\n",
       "      <td>Screenshot_20210528-104141</td>\n",
       "      <td>Good job! You know many sentences! You talk ab...</td>\n",
       "      <td>True</td>\n",
       "    </tr>\n",
       "    <tr>\n",
       "      <th>7</th>\n",
       "      <td>Screenshot_20210530-161202</td>\n",
       "      <td>Remember: working, eating, watching, playing, ...</td>\n",
       "      <td>True</td>\n",
       "    </tr>\n",
       "    <tr>\n",
       "      <th>8</th>\n",
       "      <td>Screenshot_20210530-161416</td>\n",
       "      <td>You talk about the future. This is happening l...</td>\n",
       "      <td>True</td>\n",
       "    </tr>\n",
       "    <tr>\n",
       "      <th>9</th>\n",
       "      <td>Screenshot_20210530-161534</td>\n",
       "      <td>You ask questions about the future. I answer q...</td>\n",
       "      <td>True</td>\n",
       "    </tr>\n",
       "  </tbody>\n",
       "</table>\n",
       "</div>"
      ],
      "text/plain": [
       "                         name  \\\n",
       "0  Screenshot_20210528-100908   \n",
       "1  Screenshot_20210528-100918   \n",
       "2  Screenshot_20210528-100924   \n",
       "3  Screenshot_20210528-101214   \n",
       "4  Screenshot_20210528-103610   \n",
       "5  Screenshot_20210528-103849   \n",
       "6  Screenshot_20210528-104141   \n",
       "7  Screenshot_20210530-161202   \n",
       "8  Screenshot_20210530-161416   \n",
       "9  Screenshot_20210530-161534   \n",
       "\n",
       "                                                text  status  \n",
       "0  Remember, you talk about two or more things. Y...    True  \n",
       "1  You talk about things that happened and didn't...    True  \n",
       "2  You talk about many things that happened in th...    True  \n",
       "3  You talk about things that happened in the pas...    True  \n",
       "4  You talk about the present. You talk about why...    True  \n",
       "5  You talk about why things happened. You say: -...    True  \n",
       "6  Good job! You know many sentences! You talk ab...    True  \n",
       "7  Remember: working, eating, watching, playing, ...    True  \n",
       "8  You talk about the future. This is happening l...    True  \n",
       "9  You ask questions about the future. I answer q...    True  "
      ]
     },
     "execution_count": 8,
     "metadata": {},
     "output_type": "execute_result"
    }
   ],
   "source": [
    "df = pd.read_html('_resources/data.html')[0][['name', 'text', 'status']]\n",
    "# df.iloc[593].status = False  # Arreglar luego\n",
    "\n",
    "df.head(10)"
   ]
  },
  {
   "cell_type": "markdown",
   "id": "f9777ff2",
   "metadata": {},
   "source": [
    "Se actualizan los índices a formato xxxx para que los audios mantengan el orden necesario."
   ]
  },
  {
   "cell_type": "code",
   "execution_count": 9,
   "id": "0d14f417",
   "metadata": {
    "ExecuteTime": {
     "end_time": "2023-01-07T02:49:26.494385Z",
     "start_time": "2023-01-07T02:49:26.481368Z"
    },
    "hide_input": false
   },
   "outputs": [
    {
     "data": {
      "text/html": [
       "<div>\n",
       "<style scoped>\n",
       "    .dataframe tbody tr th:only-of-type {\n",
       "        vertical-align: middle;\n",
       "    }\n",
       "\n",
       "    .dataframe tbody tr th {\n",
       "        vertical-align: top;\n",
       "    }\n",
       "\n",
       "    .dataframe thead th {\n",
       "        text-align: right;\n",
       "    }\n",
       "</style>\n",
       "<table border=\"1\" class=\"dataframe\">\n",
       "  <thead>\n",
       "    <tr style=\"text-align: right;\">\n",
       "      <th></th>\n",
       "      <th>name</th>\n",
       "      <th>text</th>\n",
       "      <th>status</th>\n",
       "    </tr>\n",
       "  </thead>\n",
       "  <tbody>\n",
       "    <tr>\n",
       "      <th>0000</th>\n",
       "      <td>Screenshot_20210528-100908</td>\n",
       "      <td>Remember, you talk about two or more things. Y...</td>\n",
       "      <td>True</td>\n",
       "    </tr>\n",
       "    <tr>\n",
       "      <th>0001</th>\n",
       "      <td>Screenshot_20210528-100918</td>\n",
       "      <td>You talk about things that happened and didn't...</td>\n",
       "      <td>True</td>\n",
       "    </tr>\n",
       "    <tr>\n",
       "      <th>0002</th>\n",
       "      <td>Screenshot_20210528-100924</td>\n",
       "      <td>You talk about many things that happened in th...</td>\n",
       "      <td>True</td>\n",
       "    </tr>\n",
       "    <tr>\n",
       "      <th>0003</th>\n",
       "      <td>Screenshot_20210528-101214</td>\n",
       "      <td>You talk about things that happened in the pas...</td>\n",
       "      <td>True</td>\n",
       "    </tr>\n",
       "    <tr>\n",
       "      <th>0004</th>\n",
       "      <td>Screenshot_20210528-103610</td>\n",
       "      <td>You talk about the present. You talk about why...</td>\n",
       "      <td>True</td>\n",
       "    </tr>\n",
       "    <tr>\n",
       "      <th>0005</th>\n",
       "      <td>Screenshot_20210528-103849</td>\n",
       "      <td>You talk about why things happened. You say: -...</td>\n",
       "      <td>True</td>\n",
       "    </tr>\n",
       "    <tr>\n",
       "      <th>0006</th>\n",
       "      <td>Screenshot_20210528-104141</td>\n",
       "      <td>Good job! You know many sentences! You talk ab...</td>\n",
       "      <td>True</td>\n",
       "    </tr>\n",
       "    <tr>\n",
       "      <th>0007</th>\n",
       "      <td>Screenshot_20210530-161202</td>\n",
       "      <td>Remember: working, eating, watching, playing, ...</td>\n",
       "      <td>True</td>\n",
       "    </tr>\n",
       "    <tr>\n",
       "      <th>0008</th>\n",
       "      <td>Screenshot_20210530-161416</td>\n",
       "      <td>You talk about the future. This is happening l...</td>\n",
       "      <td>True</td>\n",
       "    </tr>\n",
       "    <tr>\n",
       "      <th>0009</th>\n",
       "      <td>Screenshot_20210530-161534</td>\n",
       "      <td>You ask questions about the future. I answer q...</td>\n",
       "      <td>True</td>\n",
       "    </tr>\n",
       "  </tbody>\n",
       "</table>\n",
       "</div>"
      ],
      "text/plain": [
       "                            name  \\\n",
       "0000  Screenshot_20210528-100908   \n",
       "0001  Screenshot_20210528-100918   \n",
       "0002  Screenshot_20210528-100924   \n",
       "0003  Screenshot_20210528-101214   \n",
       "0004  Screenshot_20210528-103610   \n",
       "0005  Screenshot_20210528-103849   \n",
       "0006  Screenshot_20210528-104141   \n",
       "0007  Screenshot_20210530-161202   \n",
       "0008  Screenshot_20210530-161416   \n",
       "0009  Screenshot_20210530-161534   \n",
       "\n",
       "                                                   text  status  \n",
       "0000  Remember, you talk about two or more things. Y...    True  \n",
       "0001  You talk about things that happened and didn't...    True  \n",
       "0002  You talk about many things that happened in th...    True  \n",
       "0003  You talk about things that happened in the pas...    True  \n",
       "0004  You talk about the present. You talk about why...    True  \n",
       "0005  You talk about why things happened. You say: -...    True  \n",
       "0006  Good job! You know many sentences! You talk ab...    True  \n",
       "0007  Remember: working, eating, watching, playing, ...    True  \n",
       "0008  You talk about the future. This is happening l...    True  \n",
       "0009  You ask questions about the future. I answer q...    True  "
      ]
     },
     "execution_count": 9,
     "metadata": {},
     "output_type": "execute_result"
    }
   ],
   "source": [
    "df.index = df.index.to_series().apply(lambda x: str(x).zfill(4))\n",
    "df.head(10)"
   ]
  },
  {
   "cell_type": "markdown",
   "id": "ba614ae9",
   "metadata": {},
   "source": [
    "Se generan los audios a partir de los textos."
   ]
  },
  {
   "cell_type": "code",
   "execution_count": 10,
   "id": "12c759d8",
   "metadata": {
    "ExecuteTime": {
     "end_time": "2023-01-07T02:49:26.842366Z",
     "start_time": "2023-01-07T02:49:26.497389Z"
    }
   },
   "outputs": [
    {
     "name": "stderr",
     "output_type": "stream",
     "text": [
      "100% |########################################################################|\n"
     ]
    }
   ],
   "source": [
    "bar = ProgressBar(maxval=df.shape[0]).start()\n",
    "i = 0\n",
    "\n",
    "\n",
    "def save_audio(row):\n",
    "    path = f'_resources/audio/{row.name}.mp3'\n",
    "\n",
    "    try:\n",
    "        if row.status == False or os.path.exists(path) == True:\n",
    "            raise ValueError()\n",
    "\n",
    "        gtts = gTTS(text=row.text, lang='en', slow=True)\n",
    "        gtts.save(path)\n",
    "    except ValueError:\n",
    "        pass\n",
    "    except Exception as e:\n",
    "        print(e)\n",
    "        os.remove(path)\n",
    "    finally:\n",
    "        global i\n",
    "        i += 1\n",
    "        bar.update(i)\n",
    "\n",
    "\n",
    "# max_workers=1 para que no nos de denegación de servicio\n",
    "with ThreadPoolExecutor(max_workers=1) as executor:\n",
    "    futures = [executor.submit(save_audio, row)\n",
    "               for _, row in df.iterrows()]\n",
    "\n",
    "    executor.shutdown(wait=True)\n",
    "\n",
    "bar.finish()"
   ]
  },
  {
   "cell_type": "markdown",
   "id": "a4291299",
   "metadata": {},
   "source": [
    "Se traducen los textos a Español."
   ]
  },
  {
   "cell_type": "code",
   "execution_count": 11,
   "id": "adcb4921",
   "metadata": {
    "ExecuteTime": {
     "end_time": "2023-01-07T02:49:26.873368Z",
     "start_time": "2023-01-07T02:49:26.845374Z"
    }
   },
   "outputs": [
    {
     "data": {
      "text/html": [
       "<div>\n",
       "<style scoped>\n",
       "    .dataframe tbody tr th:only-of-type {\n",
       "        vertical-align: middle;\n",
       "    }\n",
       "\n",
       "    .dataframe tbody tr th {\n",
       "        vertical-align: top;\n",
       "    }\n",
       "\n",
       "    .dataframe thead th {\n",
       "        text-align: right;\n",
       "    }\n",
       "</style>\n",
       "<table border=\"1\" class=\"dataframe\">\n",
       "  <thead>\n",
       "    <tr style=\"text-align: right;\">\n",
       "      <th></th>\n",
       "      <th>es</th>\n",
       "    </tr>\n",
       "  </thead>\n",
       "  <tbody>\n",
       "    <tr>\n",
       "      <th>0000</th>\n",
       "      <td>Recuerda, hablas de dos o más cosas. Tú dices:...</td>\n",
       "    </tr>\n",
       "    <tr>\n",
       "      <th>0001</th>\n",
       "      <td>Hablas de cosas que sucedieron y no sucedieron...</td>\n",
       "    </tr>\n",
       "    <tr>\n",
       "      <th>0002</th>\n",
       "      <td>Hablas de muchas cosas que sucedieron en el pa...</td>\n",
       "    </tr>\n",
       "    <tr>\n",
       "      <th>0003</th>\n",
       "      <td>Hablas de cosas que sucedieron en el pasado. D...</td>\n",
       "    </tr>\n",
       "    <tr>\n",
       "      <th>0004</th>\n",
       "      <td>Hablas del presente. Hablas de por qué pasan l...</td>\n",
       "    </tr>\n",
       "    <tr>\n",
       "      <th>0005</th>\n",
       "      <td>Hablas de por qué sucedieron las cosas. Dices:...</td>\n",
       "    </tr>\n",
       "    <tr>\n",
       "      <th>0006</th>\n",
       "      <td>¡Buen trabajo! ¡Sabes muchas frases! Hablas de...</td>\n",
       "    </tr>\n",
       "    <tr>\n",
       "      <th>0007</th>\n",
       "      <td>Recuerda: trabajar, comer, mirar, jugar, tomar...</td>\n",
       "    </tr>\n",
       "    <tr>\n",
       "      <th>0008</th>\n",
       "      <td>Hablas del futuro. Esto está pasando más tarde...</td>\n",
       "    </tr>\n",
       "    <tr>\n",
       "      <th>0009</th>\n",
       "      <td>Haces preguntas sobre el futuro. Respondo preg...</td>\n",
       "    </tr>\n",
       "  </tbody>\n",
       "</table>\n",
       "</div>"
      ],
      "text/plain": [
       "                                                     es\n",
       "0000  Recuerda, hablas de dos o más cosas. Tú dices:...\n",
       "0001  Hablas de cosas que sucedieron y no sucedieron...\n",
       "0002  Hablas de muchas cosas que sucedieron en el pa...\n",
       "0003  Hablas de cosas que sucedieron en el pasado. D...\n",
       "0004  Hablas del presente. Hablas de por qué pasan l...\n",
       "0005  Hablas de por qué sucedieron las cosas. Dices:...\n",
       "0006  ¡Buen trabajo! ¡Sabes muchas frases! Hablas de...\n",
       "0007  Recuerda: trabajar, comer, mirar, jugar, tomar...\n",
       "0008  Hablas del futuro. Esto está pasando más tarde...\n",
       "0009  Haces preguntas sobre el futuro. Respondo preg..."
      ]
     },
     "execution_count": 11,
     "metadata": {},
     "output_type": "execute_result"
    }
   ],
   "source": [
    "try:\n",
    "    es_df = pd.read_csv('_resources/es.csv')\n",
    "except:\n",
    "    es_df = pd.DataFrame(index=df.index, columns=['es'])\n",
    "\n",
    "es_df.index = es_df.index.to_series().apply(lambda x: str(x).zfill(4))\n",
    "es_df.head(10)"
   ]
  },
  {
   "cell_type": "code",
   "execution_count": 12,
   "id": "51266c45",
   "metadata": {
    "ExecuteTime": {
     "end_time": "2023-01-07T02:49:27.315367Z",
     "start_time": "2023-01-07T02:49:26.875372Z"
    }
   },
   "outputs": [
    {
     "name": "stderr",
     "output_type": "stream",
     "text": [
      "100% |########################################################################|\n"
     ]
    },
    {
     "data": {
      "text/html": [
       "<div>\n",
       "<style scoped>\n",
       "    .dataframe tbody tr th:only-of-type {\n",
       "        vertical-align: middle;\n",
       "    }\n",
       "\n",
       "    .dataframe tbody tr th {\n",
       "        vertical-align: top;\n",
       "    }\n",
       "\n",
       "    .dataframe thead th {\n",
       "        text-align: right;\n",
       "    }\n",
       "</style>\n",
       "<table border=\"1\" class=\"dataframe\">\n",
       "  <thead>\n",
       "    <tr style=\"text-align: right;\">\n",
       "      <th></th>\n",
       "      <th>es</th>\n",
       "    </tr>\n",
       "  </thead>\n",
       "  <tbody>\n",
       "    <tr>\n",
       "      <th>0000</th>\n",
       "      <td>Recuerda, hablas de dos o más cosas. Tú dices:...</td>\n",
       "    </tr>\n",
       "    <tr>\n",
       "      <th>0001</th>\n",
       "      <td>Hablas de cosas que sucedieron y no sucedieron...</td>\n",
       "    </tr>\n",
       "    <tr>\n",
       "      <th>0002</th>\n",
       "      <td>Hablas de muchas cosas que sucedieron en el pa...</td>\n",
       "    </tr>\n",
       "    <tr>\n",
       "      <th>0003</th>\n",
       "      <td>Hablas de cosas que sucedieron en el pasado. D...</td>\n",
       "    </tr>\n",
       "    <tr>\n",
       "      <th>0004</th>\n",
       "      <td>Hablas del presente. Hablas de por qué pasan l...</td>\n",
       "    </tr>\n",
       "    <tr>\n",
       "      <th>0005</th>\n",
       "      <td>Hablas de por qué sucedieron las cosas. Dices:...</td>\n",
       "    </tr>\n",
       "    <tr>\n",
       "      <th>0006</th>\n",
       "      <td>¡Buen trabajo! ¡Sabes muchas frases! Hablas de...</td>\n",
       "    </tr>\n",
       "    <tr>\n",
       "      <th>0007</th>\n",
       "      <td>Recuerda: trabajar, comer, mirar, jugar, tomar...</td>\n",
       "    </tr>\n",
       "    <tr>\n",
       "      <th>0008</th>\n",
       "      <td>Hablas del futuro. Esto está pasando más tarde...</td>\n",
       "    </tr>\n",
       "    <tr>\n",
       "      <th>0009</th>\n",
       "      <td>Haces preguntas sobre el futuro. Respondo preg...</td>\n",
       "    </tr>\n",
       "  </tbody>\n",
       "</table>\n",
       "</div>"
      ],
      "text/plain": [
       "                                                     es\n",
       "0000  Recuerda, hablas de dos o más cosas. Tú dices:...\n",
       "0001  Hablas de cosas que sucedieron y no sucedieron...\n",
       "0002  Hablas de muchas cosas que sucedieron en el pa...\n",
       "0003  Hablas de cosas que sucedieron en el pasado. D...\n",
       "0004  Hablas del presente. Hablas de por qué pasan l...\n",
       "0005  Hablas de por qué sucedieron las cosas. Dices:...\n",
       "0006  ¡Buen trabajo! ¡Sabes muchas frases! Hablas de...\n",
       "0007  Recuerda: trabajar, comer, mirar, jugar, tomar...\n",
       "0008  Hablas del futuro. Esto está pasando más tarde...\n",
       "0009  Haces preguntas sobre el futuro. Respondo preg..."
      ]
     },
     "execution_count": 12,
     "metadata": {},
     "output_type": "execute_result"
    }
   ],
   "source": [
    "translator = GoogleTranslator(source='en', target='es')\n",
    "\n",
    "filter_df = df[df.status == True]\n",
    "\n",
    "bar = ProgressBar(maxval=filter_df.shape[0]).start()\n",
    "i = 0\n",
    "\n",
    "\n",
    "def translate(row):\n",
    "    try:\n",
    "        if pd.isnull(es_df.loc[row.name].es) == False:\n",
    "            raise ValueError()\n",
    "\n",
    "        es_df.loc[row.name] = translator.translate(row.text)\n",
    "    except ValueError:\n",
    "        pass\n",
    "    except Exception as e:\n",
    "        print(e)\n",
    "    finally:\n",
    "        global i\n",
    "        i += 1\n",
    "        bar.update(i)\n",
    "\n",
    "# max_workers=1 porque translator.translate no acepta multihilo y traduce texto que no se encuentra en su ámbito.\n",
    "with ThreadPoolExecutor(max_workers=1) as executor:\n",
    "    futures = [executor.submit(translate, row)\n",
    "               for _, row in filter_df.iterrows()]\n",
    "\n",
    "    executor.shutdown(wait=True)\n",
    "\n",
    "bar.finish()\n",
    "\n",
    "es_df.head(10)"
   ]
  },
  {
   "cell_type": "code",
   "execution_count": 13,
   "id": "1327d4a2",
   "metadata": {
    "ExecuteTime": {
     "end_time": "2023-01-07T02:49:27.347196Z",
     "start_time": "2023-01-07T02:49:27.317370Z"
    }
   },
   "outputs": [],
   "source": [
    "es_df.to_csv(path_or_buf='_resources/es.csv', index=False)"
   ]
  },
  {
   "cell_type": "markdown",
   "id": "5646610b",
   "metadata": {},
   "source": [
    "Se construye la web final."
   ]
  },
  {
   "cell_type": "code",
   "execution_count": 14,
   "id": "7e619893",
   "metadata": {
    "ExecuteTime": {
     "end_time": "2023-01-07T02:49:31.781198Z",
     "start_time": "2023-01-07T02:49:27.349201Z"
    }
   },
   "outputs": [
    {
     "data": {
      "text/html": [
       "<div>\n",
       "<style scoped>\n",
       "    .dataframe tbody tr th:only-of-type {\n",
       "        vertical-align: middle;\n",
       "    }\n",
       "\n",
       "    .dataframe tbody tr th {\n",
       "        vertical-align: top;\n",
       "    }\n",
       "\n",
       "    .dataframe thead th {\n",
       "        text-align: right;\n",
       "    }\n",
       "</style>\n",
       "<table border=\"1\" class=\"dataframe\">\n",
       "  <thead>\n",
       "    <tr style=\"text-align: right;\">\n",
       "      <th></th>\n",
       "      <th>Unnamed: 0</th>\n",
       "      <th>name</th>\n",
       "      <th>image</th>\n",
       "      <th>text</th>\n",
       "      <th>status</th>\n",
       "    </tr>\n",
       "  </thead>\n",
       "  <tbody>\n",
       "    <tr>\n",
       "      <th>0</th>\n",
       "      <td>0</td>\n",
       "      <td>Screenshot_20210528-100908</td>\n",
       "      <td>&lt;img src=\"data:image/png;base64,iVBORw0KGgoAAA...</td>\n",
       "      <td>vw 90%\\nx Lesson ws\\nGD 6/29\\nInstructions:\\nR...</td>\n",
       "      <td>False</td>\n",
       "    </tr>\n",
       "    <tr>\n",
       "      <th>1</th>\n",
       "      <td>1</td>\n",
       "      <td>Screenshot_20210528-100918</td>\n",
       "      <td>&lt;img src=\"data:image/png;base64,iVBORw0KGgoAAA...</td>\n",
       "      <td>10:09 ™ @ 4s 90%\\nx Lesson x\\nGD 8/29\\n\\nInstr...</td>\n",
       "      <td>False</td>\n",
       "    </tr>\n",
       "    <tr>\n",
       "      <th>2</th>\n",
       "      <td>2</td>\n",
       "      <td>Screenshot_20210528-100924</td>\n",
       "      <td>&lt;img src=\"data:image/png;base64,iVBORw0KGgoAAA...</td>\n",
       "      <td>Pa @ 4A fho0%\\nx Lesson ws\\n\\nD&gt; 10/29\\n\\nInst...</td>\n",
       "      <td>False</td>\n",
       "    </tr>\n",
       "    <tr>\n",
       "      <th>3</th>\n",
       "      <td>3</td>\n",
       "      <td>Screenshot_20210528-101214</td>\n",
       "      <td>&lt;img src=\"data:image/png;base64,iVBORw0KGgoAAA...</td>\n",
       "      <td>Pd 90%\\nx Lesson Ss\\nD&gt; 12/29\\nInstructions:\\n...</td>\n",
       "      <td>False</td>\n",
       "    </tr>\n",
       "    <tr>\n",
       "      <th>4</th>\n",
       "      <td>4</td>\n",
       "      <td>Screenshot_20210528-103610</td>\n",
       "      <td>&lt;img src=\"data:image/png;base64,iVBORw0KGgoAAA...</td>\n",
       "      <td>vw 88%\\nx Lesson ws\\nGD 8/29\\nInstructions:\\nR...</td>\n",
       "      <td>False</td>\n",
       "    </tr>\n",
       "  </tbody>\n",
       "</table>\n",
       "</div>"
      ],
      "text/plain": [
       "   Unnamed: 0                        name  \\\n",
       "0           0  Screenshot_20210528-100908   \n",
       "1           1  Screenshot_20210528-100918   \n",
       "2           2  Screenshot_20210528-100924   \n",
       "3           3  Screenshot_20210528-101214   \n",
       "4           4  Screenshot_20210528-103610   \n",
       "\n",
       "                                               image  \\\n",
       "0  <img src=\"data:image/png;base64,iVBORw0KGgoAAA...   \n",
       "1  <img src=\"data:image/png;base64,iVBORw0KGgoAAA...   \n",
       "2  <img src=\"data:image/png;base64,iVBORw0KGgoAAA...   \n",
       "3  <img src=\"data:image/png;base64,iVBORw0KGgoAAA...   \n",
       "4  <img src=\"data:image/png;base64,iVBORw0KGgoAAA...   \n",
       "\n",
       "                                                text  status  \n",
       "0  vw 90%\\nx Lesson ws\\nGD 6/29\\nInstructions:\\nR...   False  \n",
       "1  10:09 ™ @ 4s 90%\\nx Lesson x\\nGD 8/29\\n\\nInstr...   False  \n",
       "2  Pa @ 4A fho0%\\nx Lesson ws\\n\\nD> 10/29\\n\\nInst...   False  \n",
       "3  Pd 90%\\nx Lesson Ss\\nD> 12/29\\nInstructions:\\n...   False  \n",
       "4  vw 88%\\nx Lesson ws\\nGD 8/29\\nInstructions:\\nR...   False  "
      ]
     },
     "execution_count": 14,
     "metadata": {},
     "output_type": "execute_result"
    }
   ],
   "source": [
    "raw_text_df = pd.read_csv('_resources/raw_data.csv')\n",
    "raw_text_df.head()"
   ]
  },
  {
   "cell_type": "code",
   "execution_count": 15,
   "id": "86933539",
   "metadata": {
    "ExecuteTime": {
     "end_time": "2023-01-07T02:49:31.813197Z",
     "start_time": "2023-01-07T02:49:31.782200Z"
    }
   },
   "outputs": [
    {
     "data": {
      "text/html": [
       "<div>\n",
       "<style scoped>\n",
       "    .dataframe tbody tr th:only-of-type {\n",
       "        vertical-align: middle;\n",
       "    }\n",
       "\n",
       "    .dataframe tbody tr th {\n",
       "        vertical-align: top;\n",
       "    }\n",
       "\n",
       "    .dataframe thead th {\n",
       "        text-align: right;\n",
       "    }\n",
       "</style>\n",
       "<table border=\"1\" class=\"dataframe\">\n",
       "  <thead>\n",
       "    <tr style=\"text-align: right;\">\n",
       "      <th></th>\n",
       "      <th>name</th>\n",
       "      <th>image</th>\n",
       "      <th>text</th>\n",
       "      <th>es</th>\n",
       "    </tr>\n",
       "  </thead>\n",
       "  <tbody>\n",
       "    <tr>\n",
       "      <th>0000</th>\n",
       "      <td>Screenshot_20210528-100908</td>\n",
       "      <td>&lt;img src=\"data:image/png;base64,iVBORw0KGgoAAA...</td>\n",
       "      <td>Remember, you talk about two or more things. Y...</td>\n",
       "      <td>Recuerda, hablas de dos o más cosas. Tú dices:...</td>\n",
       "    </tr>\n",
       "    <tr>\n",
       "      <th>0001</th>\n",
       "      <td>Screenshot_20210528-100918</td>\n",
       "      <td>&lt;img src=\"data:image/png;base64,iVBORw0KGgoAAA...</td>\n",
       "      <td>You talk about things that happened and didn't...</td>\n",
       "      <td>Hablas de cosas que sucedieron y no sucedieron...</td>\n",
       "    </tr>\n",
       "    <tr>\n",
       "      <th>0002</th>\n",
       "      <td>Screenshot_20210528-100924</td>\n",
       "      <td>&lt;img src=\"data:image/png;base64,iVBORw0KGgoAAA...</td>\n",
       "      <td>You talk about many things that happened in th...</td>\n",
       "      <td>Hablas de muchas cosas que sucedieron en el pa...</td>\n",
       "    </tr>\n",
       "    <tr>\n",
       "      <th>0003</th>\n",
       "      <td>Screenshot_20210528-101214</td>\n",
       "      <td>&lt;img src=\"data:image/png;base64,iVBORw0KGgoAAA...</td>\n",
       "      <td>You talk about things that happened in the pas...</td>\n",
       "      <td>Hablas de cosas que sucedieron en el pasado. D...</td>\n",
       "    </tr>\n",
       "    <tr>\n",
       "      <th>0004</th>\n",
       "      <td>Screenshot_20210528-103610</td>\n",
       "      <td>&lt;img src=\"data:image/png;base64,iVBORw0KGgoAAA...</td>\n",
       "      <td>You talk about the present. You talk about why...</td>\n",
       "      <td>Hablas del presente. Hablas de por qué pasan l...</td>\n",
       "    </tr>\n",
       "  </tbody>\n",
       "</table>\n",
       "</div>"
      ],
      "text/plain": [
       "                            name  \\\n",
       "0000  Screenshot_20210528-100908   \n",
       "0001  Screenshot_20210528-100918   \n",
       "0002  Screenshot_20210528-100924   \n",
       "0003  Screenshot_20210528-101214   \n",
       "0004  Screenshot_20210528-103610   \n",
       "\n",
       "                                                  image  \\\n",
       "0000  <img src=\"data:image/png;base64,iVBORw0KGgoAAA...   \n",
       "0001  <img src=\"data:image/png;base64,iVBORw0KGgoAAA...   \n",
       "0002  <img src=\"data:image/png;base64,iVBORw0KGgoAAA...   \n",
       "0003  <img src=\"data:image/png;base64,iVBORw0KGgoAAA...   \n",
       "0004  <img src=\"data:image/png;base64,iVBORw0KGgoAAA...   \n",
       "\n",
       "                                                   text  \\\n",
       "0000  Remember, you talk about two or more things. Y...   \n",
       "0001  You talk about things that happened and didn't...   \n",
       "0002  You talk about many things that happened in th...   \n",
       "0003  You talk about things that happened in the pas...   \n",
       "0004  You talk about the present. You talk about why...   \n",
       "\n",
       "                                                     es  \n",
       "0000  Recuerda, hablas de dos o más cosas. Tú dices:...  \n",
       "0001  Hablas de cosas que sucedieron y no sucedieron...  \n",
       "0002  Hablas de muchas cosas que sucedieron en el pa...  \n",
       "0003  Hablas de cosas que sucedieron en el pasado. D...  \n",
       "0004  Hablas del presente. Hablas de por qué pasan l...  "
      ]
     },
     "execution_count": 15,
     "metadata": {},
     "output_type": "execute_result"
    }
   ],
   "source": [
    "raw_text_df.index = raw_text_df.index.to_series().apply(lambda x: str(x).zfill(4))\n",
    "\n",
    "final_df = df.merge(right=raw_text_df, how='inner', left_index=True,\n",
    "                    right_index=True, suffixes=('', '_y'), validate='1:1')\n",
    "final_df = final_df[final_df.status == True][['name', 'image', 'text']]\n",
    "\n",
    "final_df = final_df.merge(right=es_df, how='inner',\n",
    "                          left_index=True, right_index=True)\n",
    "\n",
    "final_df.head()"
   ]
  },
  {
   "cell_type": "code",
   "execution_count": 16,
   "id": "fded589c",
   "metadata": {
    "ExecuteTime": {
     "end_time": "2023-01-07T02:49:32.018198Z",
     "start_time": "2023-01-07T02:49:31.815217Z"
    }
   },
   "outputs": [
    {
     "data": {
      "text/html": [
       "\n",
       "                <audio  controls=\"controls\" >\n",
       "                    <source src=\"data:audio/mpeg;base64,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\" type=\"audio/mpeg\" />\n",
       "                    Your browser does not support the audio element.\n",
       "                </audio>\n",
       "              "
      ],
      "text/plain": [
       "<IPython.lib.display.Audio object>"
      ]
     },
     "execution_count": 16,
     "metadata": {},
     "output_type": "execute_result"
    }
   ],
   "source": [
    "IPython.display.Audio('_resources/audio/0000.mp3')"
   ]
  },
  {
   "cell_type": "code",
   "execution_count": 17,
   "id": "c9609877",
   "metadata": {
    "ExecuteTime": {
     "end_time": "2023-01-07T02:49:32.049200Z",
     "start_time": "2023-01-07T02:49:32.020200Z"
    }
   },
   "outputs": [
    {
     "data": {
      "text/html": [
       "<div>\n",
       "<style scoped>\n",
       "    .dataframe tbody tr th:only-of-type {\n",
       "        vertical-align: middle;\n",
       "    }\n",
       "\n",
       "    .dataframe tbody tr th {\n",
       "        vertical-align: top;\n",
       "    }\n",
       "\n",
       "    .dataframe thead th {\n",
       "        text-align: right;\n",
       "    }\n",
       "</style>\n",
       "<table border=\"1\" class=\"dataframe\">\n",
       "  <thead>\n",
       "    <tr style=\"text-align: right;\">\n",
       "      <th></th>\n",
       "      <th>image</th>\n",
       "      <th>text</th>\n",
       "      <th>es</th>\n",
       "    </tr>\n",
       "  </thead>\n",
       "  <tbody>\n",
       "    <tr>\n",
       "      <th>0000</th>\n",
       "      <td>&lt;img src=\"data:image/png;base64,iVBORw0KGgoAAA...</td>\n",
       "      <td>Remember, you talk about two or more things. Y...</td>\n",
       "      <td>Recuerda, hablas de dos o más cosas. Tú dices:...</td>\n",
       "    </tr>\n",
       "    <tr>\n",
       "      <th>0001</th>\n",
       "      <td>&lt;img src=\"data:image/png;base64,iVBORw0KGgoAAA...</td>\n",
       "      <td>You talk about things that happened and didn't...</td>\n",
       "      <td>Hablas de cosas que sucedieron y no sucedieron...</td>\n",
       "    </tr>\n",
       "    <tr>\n",
       "      <th>0002</th>\n",
       "      <td>&lt;img src=\"data:image/png;base64,iVBORw0KGgoAAA...</td>\n",
       "      <td>You talk about many things that happened in th...</td>\n",
       "      <td>Hablas de muchas cosas que sucedieron en el pa...</td>\n",
       "    </tr>\n",
       "    <tr>\n",
       "      <th>0003</th>\n",
       "      <td>&lt;img src=\"data:image/png;base64,iVBORw0KGgoAAA...</td>\n",
       "      <td>You talk about things that happened in the pas...</td>\n",
       "      <td>Hablas de cosas que sucedieron en el pasado. D...</td>\n",
       "    </tr>\n",
       "    <tr>\n",
       "      <th>0004</th>\n",
       "      <td>&lt;img src=\"data:image/png;base64,iVBORw0KGgoAAA...</td>\n",
       "      <td>You talk about the present. You talk about why...</td>\n",
       "      <td>Hablas del presente. Hablas de por qué pasan l...</td>\n",
       "    </tr>\n",
       "  </tbody>\n",
       "</table>\n",
       "</div>"
      ],
      "text/plain": [
       "                                                  image  \\\n",
       "0000  <img src=\"data:image/png;base64,iVBORw0KGgoAAA...   \n",
       "0001  <img src=\"data:image/png;base64,iVBORw0KGgoAAA...   \n",
       "0002  <img src=\"data:image/png;base64,iVBORw0KGgoAAA...   \n",
       "0003  <img src=\"data:image/png;base64,iVBORw0KGgoAAA...   \n",
       "0004  <img src=\"data:image/png;base64,iVBORw0KGgoAAA...   \n",
       "\n",
       "                                                   text  \\\n",
       "0000  Remember, you talk about two or more things. Y...   \n",
       "0001  You talk about things that happened and didn't...   \n",
       "0002  You talk about many things that happened in th...   \n",
       "0003  You talk about things that happened in the pas...   \n",
       "0004  You talk about the present. You talk about why...   \n",
       "\n",
       "                                                     es  \n",
       "0000  Recuerda, hablas de dos o más cosas. Tú dices:...  \n",
       "0001  Hablas de cosas que sucedieron y no sucedieron...  \n",
       "0002  Hablas de muchas cosas que sucedieron en el pa...  \n",
       "0003  Hablas de cosas que sucedieron en el pasado. D...  \n",
       "0004  Hablas del presente. Hablas de por qué pasan l...  "
      ]
     },
     "execution_count": 17,
     "metadata": {},
     "output_type": "execute_result"
    }
   ],
   "source": [
    "def make_audio(row):\n",
    "    data = f'<audio controls><source src=\"audio/{row.name}.mp3\" type=\"audio/mpeg\">Not audio support.</audio>'\n",
    "#     data = f'<audio controls><source src=\"_resources/audio/{row.name}.mp3\" type=\"audio/mpeg\">Not audio support.</audio>'\n",
    "    return data\n",
    "\n",
    "# Se puede agregar el audio pero la web no soporta más de 1000 WebMediaPlayer en una misma página.\n",
    "# final_df['audio'] = final_df.apply(make_audio, axis=1)\n",
    "final_df = final_df[['image', 'text', 'es']]\n",
    "final_df.head()"
   ]
  },
  {
   "cell_type": "code",
   "execution_count": 18,
   "id": "14f1bcbb",
   "metadata": {
    "ExecuteTime": {
     "end_time": "2023-01-07T02:49:45.869859Z",
     "start_time": "2023-01-07T02:49:32.051198Z"
    },
    "hide_input": false
   },
   "outputs": [
    {
     "data": {
      "text/plain": [
       "array(['¡Buen trabajo! Puedes hablar del pasado. Puedes usar palabras nuevas. - Acabamos de cenar en grande. Estábamos cansados \\u200b\\u200bdespués de la cena. - Ir de compras fue emocionante. Gracias. Te veo luego. - Acaba de terminar el trabajo. Fue largo. - La venta fue genial. Te veo pronto. - Acabo de hablar con mi hermano. El estaba bien.',\n",
       "       'Puedes hablar de las cosas que tienes. A veces tienes más que tus amigos. A veces tienes menos que tus amigos. Dices: - Ella tiene más comida sana que yo. - Tiene menos videojuegos que Stephen. - Estás más emocionado que Susie. - Están menos cansados \\u200b\\u200bque nosotros.',\n",
       "       'Puedes hablar de algo que sucedió muchas veces en el pasado, pero que no está sucediendo ahora. Puedes decir: solía. - Solía \\u200b\\u200besquiar todos los inviernos. - Solías bailar todos los fines de semana. - Solía \\u200b\\u200bmontar a caballo con sus amigos. - Solía \\u200b\\u200btener el pelo negro. - Solíamos caminar en ese bosque. - Solían tomar fotos de la playa.',\n",
       "       'Recuerda: hablas de algo que sucedió muchas veces en el pasado, pero que no está sucediendo ahora. Tú dices: solía. - Solía \\u200b\\u200bescribir cartas. Ahora, escribo correos electrónicos. - Solíamos ir a la oficina de correos todos los días. Ahora vamos todas las semanas. - Ian siempre escuchaba de su tía. Ahora, a veces tiene noticias de su tía. - Solían cantar juntos. Ahora, están en diferentes bandas.',\n",
       "       'Puedes hablar de algo que sucederá en un futuro lejano. No sucederá hoy ni mañana. Ocurrirá el próximo mes o el próximo año. Puedes hablar de algo que sucederá mucho más tarde. Dices: - Iré a la universidad el próximo año. - Comprará una casa después de comenzar su nuevo trabajo. - Tendrán hijos después de haber estado casados \\u200b\\u200bpor varios años.',\n",
       "       'Recuerde: puede hablar sobre cosas que sucedieron muchas veces en el pasado. Tú dices: solía. - Solía \\u200b\\u200bir a esquiar todos los inviernos. Ahora, voy a Hawai en el invierno. - Solíamos jugar cerca del lago cuando éramos jóvenes. - Les encantaba comer perritos calientes en los partidos de béisbol. - Le encantaba recibir cupcakes con glaseado rosa.',\n",
       "       'Recuerda: Puedes hablar de cosas que hiciste en el pasado. Tú dices: solía. - Solía \\u200b\\u200btocar la guitarra. Puedes hablar sobre la frecuencia con la que solías hacer cosas en el pasado. Dices: - A menudo solíamos tocar la guitarra. - Siempre iba en autobús al trabajo, pero ahora toma el tren. - Nunca fue a esquiar cuando era niño. Vivía en Miami. - Solían bailar en el club. - A veces solía comer en el café de Main St..',\n",
       "       'Recuerda: hablas de la frecuencia con la que hiciste algo en el pasado. Puedes poner algunas de las palabras en diferentes lugares de la oración. No puede mover las palabras siempre y nunca, pero puede mover las palabras a menudo, generalmente y algunas veces. Dices: - Solía \\u200b\\u200bir a la playa a menudo. - A menudo, solía ir a la playa. - Solía \\u200b\\u200bir a la playa a veces. - A veces, solía ir a la playa.',\n",
       "       'Conoces a alguien y quieres comunicarte en el futuro. Antes de despedirse, puede pedir permanecer en contacto o mantenerse en contacto. Ellos son iguales. - Bianca dice: \"Realmente disfruté conocerte. ¿Podemos seguir en contacto?\" - Erin dice: \"¡Claro! Aquí está mi número de teléfono. ¡Hasta luego!\" - Luke dice: \"Mantengámonos en contacto. ¿Me puedes dar tu dirección de correo electrónico?\" - Dylan dice: \"Es dylan1@openenglish.com. ¡Nos vemos!\" Puedes decir esto de una manera más formal. Usted dice: manténgase en contacto. - Estamos muy interesados \\u200b\\u200ben su solicitud y nos gustaría seguir en contacto con usted en el futuro.',\n",
       "       'Puedes hablar de las cosas que hace la gente. - Hace tres esculturas nuevas a la semana. - Siempre hace las reservas para cenar temprano. - Usan vestidos negros para trabajar. Puedes decirlo de otra manera. Se puede hablar de lo que se hace. Quién lo hizo no es importante. - Se realizan tres esculturas nuevas a la semana. - Las reservas para la cena se realizan siempre con antelación. - Los uniformes son usados \\u200b\\u200bpor el servicio de limpieza.',\n",
       "       'Puedes hablar de una situación presente que te recuerde el pasado. - Esta recaudación de fondos me recuerda la fiesta de Hollywood de anoche. - Esto es como cuando recorrimos la Casa Blanca. Puede recordarle a alguien los eventos pasados \\u200b\\u200bde muchas maneras. - ¿Recuerdas cuando el Ayuntamiento tuvo una recaudación de fondos para reconstruir su techo? - ¿Recuerdas la fecha y hora de la gala de Hollywood? Me olvidé. - ¿Recuerdas el momento en que socializamos con los cantantes de Broadway en la recaudación de fondos? Fue muy divertido.',\n",
       "       'Puedes hablar de lo que podría pasar en el futuro. Tú dices: posiblemente. - Posiblemente podríamos ir al parque mañana si hace buen tiempo. - Posiblemente estarán muy cansados \\u200b\\u200bdespués del largo viaje. Puedes decirlo de otra manera. Tú dices: tal vez. - Tal vez lleguemos a ver la exhibición de arte contemporáneo. - Tal vez el museo tenga una cafetería donde podamos comer algo. También puede usar la palabra tal vez para hacer una recomendación. - Tal vez podríamos ir al edificio del Capitolio. - Tal vez deberíamos visitar algunos monumentos más.',\n",
       "       'Recuerda: Tú sabes dar ejemplos. Tú dices: por ejemplo. - Hay muchas cosas para ver y hacer en Las Vegas. Por ejemplo, hay casinos, museos, discotecas, espectáculos y buenos restaurantes. Se puede decir por ejemplo de otra manera. Tú dices: como. - Hay muchos lugares para ver en Las Vegas, como casinos, museos, clubes, espectáculos y buenos restaurantes. - La escuela ofrece muchos deportes, como fútbol, \\u200b\\u200bfútbol, \\u200b\\u200bbaloncesto y natación. - Cuando vamos de campamento, podemos ver muchos animales, como pájaros y ciervos.',\n",
       "       'En un deporte como el fútbol, \\u200b\\u200bel equipo hace un plan antes de jugar. Tienen un plan de juego. Puedes usar el plan de juego para hablar de muchos planes diferentes incluso cuando no estás hablando de un juego de deportes. - Este es el plan de juego. Saldremos de casa a las 14:00 y nos encontraremos con Karen en el aeropuerto a las 3:00. A veces, usted y un amigo tienen la misma idea. Puedes decir: Las grandes mentes piensan igual. - Jessica dice: \"Creo que hoy deberíamos hacer un picnic en el parque\". - Adam dice: \"Las grandes mentes piensan igual. ¡Ya comencé a hacer algunos sándwiches!\"',\n",
       "       'Recuerde: en un deporte como el fútbol, \\u200b\\u200bel equipo hace un plan antes de jugar. Tienen un plan de juego. Puedes usar la frase plan de juego para hablar de muchos planes diferentes incluso cuando no estás hablando de un juego deportivo. - Andy dice: \"¿Cuál es el plan de juego?\" - Danielle dice: \"Bueno, vamos a cenar después del trabajo, pero primero tenemos que recoger a Henry\". - Andy dice: \"¡Impresionante! Le enviaré un mensaje de texto a Henry y le haré saber el plan de juego también\".'],\n",
       "      dtype=object)"
      ]
     },
     "metadata": {},
     "output_type": "display_data"
    }
   ],
   "source": [
    "final_df.to_csv('_resources/final_data.csv')\n",
    "\n",
    "# Analizar los problemas luego.\n",
    "es_error = ['0114', '0501', '0519', '0553', '0647', '0674', '0710', '0711', '1239', '1255', '1340', '1438', '1511', '1515', '1689']\n",
    "display(final_df.iloc[es_error]['es'].values)\n",
    "final_df.loc[es_error, ['es']] = ''\n",
    "\n",
    "with open('_resources/final_data.html', 'w') as file:\n",
    "    html_string = final_df.to_html(escape=False)\n",
    "    file.write(html_string)\n",
    "    del html_string"
   ]
  }
 ],
 "metadata": {
  "hide_input": false,
  "kernelspec": {
   "display_name": "Python [conda env:env39]",
   "language": "python",
   "name": "conda-env-env39-py"
  },
  "language_info": {
   "codemirror_mode": {
    "name": "ipython",
    "version": 3
   },
   "file_extension": ".py",
   "mimetype": "text/x-python",
   "name": "python",
   "nbconvert_exporter": "python",
   "pygments_lexer": "ipython3",
   "version": "3.9.15"
  },
  "toc": {
   "base_numbering": 1,
   "nav_menu": {},
   "number_sections": true,
   "sideBar": true,
   "skip_h1_title": false,
   "title_cell": "Table of Contents",
   "title_sidebar": "Contents",
   "toc_cell": false,
   "toc_position": {},
   "toc_section_display": true,
   "toc_window_display": false
  }
 },
 "nbformat": 4,
 "nbformat_minor": 5
}
