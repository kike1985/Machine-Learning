{
 "cells": [
  {
   "cell_type": "markdown",
   "metadata": {},
   "source": [
    "<p style=\"text-align:center\">\n",
    "    <a href=\"https://skills.network/?utm_medium=Exinfluencer&utm_source=Exinfluencer&utm_content=000026UJ&utm_term=10006555&utm_id=NA-SkillsNetwork-Channel-SkillsNetworkCoursesIBMML321ENSkillsNetwork817-2022-01-01\" target=\"_blank\">\n",
    "    <img src=\"https://cf-courses-data.s3.us.cloud-object-storage.appdomain.cloud/assets/logos/SN_web_lightmode.png\" width=\"200\" alt=\"Skills Network Logo\"  />\n",
    "    </a>\n",
    "</p>\n"
   ]
  },
  {
   "cell_type": "markdown",
   "metadata": {},
   "source": [
    "# **Extract Bag of Words (BoW) Features from Course Textual Content**\n"
   ]
  },
  {
   "cell_type": "markdown",
   "metadata": {},
   "source": [
    "Estimated time needed: **60** minutes\n"
   ]
  },
  {
   "cell_type": "markdown",
   "metadata": {},
   "source": [
    "The main goal of recommender systems is to help users find items they potentially interested in. Depending on the recommendation tasks, an item can be a movie, a restaurant, or, in our case, an online course. \n",
    "\n",
    "Machine learning algorithms cannot work on an item directly so we first need to extract features and represent the items mathematically, i.e., with a feature vector.\n",
    "\n",
    "Many items are often described by text so they are associated with textual data, such as the titles and descriptions of a movie or course. Since machine learning algorithms can not process textual data directly, we need to transform the raw text into numeric feature vectors.\n"
   ]
  },
  {
   "cell_type": "markdown",
   "metadata": {},
   "source": [
    "![](https://cf-courses-data.s3.us.cloud-object-storage.appdomain.cloud/IBM-ML321EN-SkillsNetwork/labs/module_2/images/extract_textual_features.png)\n"
   ]
  },
  {
   "cell_type": "markdown",
   "metadata": {},
   "source": [
    "In this lab, you will be learning to extract the bag of words (BoW) features from course titles and descriptions. The BoW feature is a simple but effective feature characterizing textual data and is widely used in many textual machine learning tasks.\n"
   ]
  },
  {
   "cell_type": "markdown",
   "metadata": {},
   "source": [
    "## Objectives\n"
   ]
  },
  {
   "cell_type": "markdown",
   "metadata": {},
   "source": [
    "After completing this lab you will be able to:\n"
   ]
  },
  {
   "cell_type": "markdown",
   "metadata": {},
   "source": [
    "* Extract Bag of Words (BoW) features from course titles and descriptions\n",
    "* Build a course BoW dataset to be used for building a content-based recommender system later\n"
   ]
  },
  {
   "cell_type": "markdown",
   "metadata": {},
   "source": [
    "----\n"
   ]
  },
  {
   "cell_type": "markdown",
   "metadata": {},
   "source": [
    "## Prepare and setup the lab environment\n"
   ]
  },
  {
   "cell_type": "markdown",
   "metadata": {},
   "source": [
    "First, let's install and import required libraries:\n"
   ]
  },
  {
   "cell_type": "code",
   "execution_count": 1,
   "metadata": {},
   "outputs": [
    {
     "name": "stdout",
     "output_type": "stream",
     "text": [
      "Requirement already satisfied: nltk==3.6.7 in /home/jupyterlab/conda/envs/python/lib/python3.7/site-packages (3.6.7)\n",
      "Requirement already satisfied: joblib in /home/jupyterlab/conda/envs/python/lib/python3.7/site-packages (from nltk==3.6.7) (1.2.0)\n",
      "Requirement already satisfied: tqdm in /home/jupyterlab/conda/envs/python/lib/python3.7/site-packages (from nltk==3.6.7) (4.60.0)\n",
      "Requirement already satisfied: click in /home/jupyterlab/conda/envs/python/lib/python3.7/site-packages (from nltk==3.6.7) (8.1.3)\n",
      "Requirement already satisfied: regex>=2021.8.3 in /home/jupyterlab/conda/envs/python/lib/python3.7/site-packages (from nltk==3.6.7) (2022.10.31)\n",
      "Requirement already satisfied: importlib-metadata in /home/jupyterlab/conda/envs/python/lib/python3.7/site-packages (from click->nltk==3.6.7) (4.11.4)\n",
      "Requirement already satisfied: typing-extensions>=3.6.4 in /home/jupyterlab/conda/envs/python/lib/python3.7/site-packages (from importlib-metadata->click->nltk==3.6.7) (4.4.0)\n",
      "Requirement already satisfied: zipp>=0.5 in /home/jupyterlab/conda/envs/python/lib/python3.7/site-packages (from importlib-metadata->click->nltk==3.6.7) (3.11.0)\n",
      "Requirement already satisfied: gensim==4.1.2 in /home/jupyterlab/conda/envs/python/lib/python3.7/site-packages (4.1.2)\n",
      "Requirement already satisfied: numpy>=1.17.0 in /home/jupyterlab/conda/envs/python/lib/python3.7/site-packages (from gensim==4.1.2) (1.21.6)\n",
      "Requirement already satisfied: scipy>=0.18.1 in /home/jupyterlab/conda/envs/python/lib/python3.7/site-packages (from gensim==4.1.2) (1.7.3)\n",
      "Requirement already satisfied: smart-open>=1.8.1 in /home/jupyterlab/conda/envs/python/lib/python3.7/site-packages (from gensim==4.1.2) (6.3.0)\n"
     ]
    }
   ],
   "source": [
    "!pip install nltk==3.6.7\n",
    "!pip install gensim==4.1.2"
   ]
  },
  {
   "cell_type": "code",
   "execution_count": 2,
   "metadata": {},
   "outputs": [
    {
     "name": "stderr",
     "output_type": "stream",
     "text": [
      "/home/jupyterlab/conda/envs/python/lib/python3.7/site-packages/sklearn/utils/validation.py:37: DeprecationWarning: distutils Version classes are deprecated. Use packaging.version instead.\n",
      "  LARGE_SPARSE_SUPPORTED = LooseVersion(scipy_version) >= '0.14.0'\n",
      "/home/jupyterlab/conda/envs/python/lib/python3.7/site-packages/sklearn/feature_extraction/image.py:167: DeprecationWarning: `np.int` is a deprecated alias for the builtin `int`. To silence this warning, use `int` by itself. Doing this will not modify any behavior and is safe. When replacing `np.int`, you may wish to use e.g. `np.int64` or `np.int32` to specify the precision. If you wish to review your current use, check the release note link for additional information.\n",
      "Deprecated in NumPy 1.20; for more details and guidance: https://numpy.org/devdocs/release/1.20.0-notes.html#deprecations\n",
      "  dtype=np.int):\n",
      "/home/jupyterlab/conda/envs/python/lib/python3.7/site-packages/sklearn/linear_model/least_angle.py:35: DeprecationWarning: `np.float` is a deprecated alias for the builtin `float`. To silence this warning, use `float` by itself. Doing this will not modify any behavior and is safe. If you specifically wanted the numpy scalar type, use `np.float64` here.\n",
      "Deprecated in NumPy 1.20; for more details and guidance: https://numpy.org/devdocs/release/1.20.0-notes.html#deprecations\n",
      "  eps=np.finfo(np.float).eps,\n",
      "/home/jupyterlab/conda/envs/python/lib/python3.7/site-packages/sklearn/linear_model/least_angle.py:597: DeprecationWarning: `np.float` is a deprecated alias for the builtin `float`. To silence this warning, use `float` by itself. Doing this will not modify any behavior and is safe. If you specifically wanted the numpy scalar type, use `np.float64` here.\n",
      "Deprecated in NumPy 1.20; for more details and guidance: https://numpy.org/devdocs/release/1.20.0-notes.html#deprecations\n",
      "  eps=np.finfo(np.float).eps, copy_X=True, fit_path=True,\n",
      "/home/jupyterlab/conda/envs/python/lib/python3.7/site-packages/sklearn/linear_model/least_angle.py:836: DeprecationWarning: `np.float` is a deprecated alias for the builtin `float`. To silence this warning, use `float` by itself. Doing this will not modify any behavior and is safe. If you specifically wanted the numpy scalar type, use `np.float64` here.\n",
      "Deprecated in NumPy 1.20; for more details and guidance: https://numpy.org/devdocs/release/1.20.0-notes.html#deprecations\n",
      "  eps=np.finfo(np.float).eps, copy_X=True, fit_path=True,\n",
      "/home/jupyterlab/conda/envs/python/lib/python3.7/site-packages/sklearn/linear_model/least_angle.py:862: DeprecationWarning: `np.float` is a deprecated alias for the builtin `float`. To silence this warning, use `float` by itself. Doing this will not modify any behavior and is safe. If you specifically wanted the numpy scalar type, use `np.float64` here.\n",
      "Deprecated in NumPy 1.20; for more details and guidance: https://numpy.org/devdocs/release/1.20.0-notes.html#deprecations\n",
      "  eps=np.finfo(np.float).eps, positive=False):\n",
      "/home/jupyterlab/conda/envs/python/lib/python3.7/site-packages/sklearn/linear_model/least_angle.py:1097: DeprecationWarning: `np.float` is a deprecated alias for the builtin `float`. To silence this warning, use `float` by itself. Doing this will not modify any behavior and is safe. If you specifically wanted the numpy scalar type, use `np.float64` here.\n",
      "Deprecated in NumPy 1.20; for more details and guidance: https://numpy.org/devdocs/release/1.20.0-notes.html#deprecations\n",
      "  max_n_alphas=1000, n_jobs=None, eps=np.finfo(np.float).eps,\n",
      "/home/jupyterlab/conda/envs/python/lib/python3.7/site-packages/sklearn/linear_model/least_angle.py:1344: DeprecationWarning: `np.float` is a deprecated alias for the builtin `float`. To silence this warning, use `float` by itself. Doing this will not modify any behavior and is safe. If you specifically wanted the numpy scalar type, use `np.float64` here.\n",
      "Deprecated in NumPy 1.20; for more details and guidance: https://numpy.org/devdocs/release/1.20.0-notes.html#deprecations\n",
      "  max_n_alphas=1000, n_jobs=None, eps=np.finfo(np.float).eps,\n",
      "/home/jupyterlab/conda/envs/python/lib/python3.7/site-packages/sklearn/linear_model/least_angle.py:1480: DeprecationWarning: `np.float` is a deprecated alias for the builtin `float`. To silence this warning, use `float` by itself. Doing this will not modify any behavior and is safe. If you specifically wanted the numpy scalar type, use `np.float64` here.\n",
      "Deprecated in NumPy 1.20; for more details and guidance: https://numpy.org/devdocs/release/1.20.0-notes.html#deprecations\n",
      "  eps=np.finfo(np.float).eps, copy_X=True, positive=False):\n",
      "/home/jupyterlab/conda/envs/python/lib/python3.7/site-packages/sklearn/linear_model/randomized_l1.py:152: DeprecationWarning: `np.float` is a deprecated alias for the builtin `float`. To silence this warning, use `float` by itself. Doing this will not modify any behavior and is safe. If you specifically wanted the numpy scalar type, use `np.float64` here.\n",
      "Deprecated in NumPy 1.20; for more details and guidance: https://numpy.org/devdocs/release/1.20.0-notes.html#deprecations\n",
      "  precompute=False, eps=np.finfo(np.float).eps,\n",
      "/home/jupyterlab/conda/envs/python/lib/python3.7/site-packages/sklearn/linear_model/randomized_l1.py:320: DeprecationWarning: `np.float` is a deprecated alias for the builtin `float`. To silence this warning, use `float` by itself. Doing this will not modify any behavior and is safe. If you specifically wanted the numpy scalar type, use `np.float64` here.\n",
      "Deprecated in NumPy 1.20; for more details and guidance: https://numpy.org/devdocs/release/1.20.0-notes.html#deprecations\n",
      "  eps=np.finfo(np.float).eps, random_state=None,\n",
      "/home/jupyterlab/conda/envs/python/lib/python3.7/site-packages/sklearn/linear_model/randomized_l1.py:580: DeprecationWarning: `np.float` is a deprecated alias for the builtin `float`. To silence this warning, use `float` by itself. Doing this will not modify any behavior and is safe. If you specifically wanted the numpy scalar type, use `np.float64` here.\n",
      "Deprecated in NumPy 1.20; for more details and guidance: https://numpy.org/devdocs/release/1.20.0-notes.html#deprecations\n",
      "  eps=4 * np.finfo(np.float).eps, n_jobs=None,\n"
     ]
    }
   ],
   "source": [
    "import gensim\n",
    "import pandas as pd\n",
    "import nltk as nltk\n",
    "from nltk.corpus import stopwords\n",
    "from nltk.tokenize import word_tokenize\n",
    "from gensim import corpora\n",
    "\n",
    "%matplotlib inline"
   ]
  },
  {
   "cell_type": "markdown",
   "metadata": {},
   "source": [
    "Download stopwords\n"
   ]
  },
  {
   "cell_type": "code",
   "execution_count": 3,
   "metadata": {},
   "outputs": [
    {
     "name": "stderr",
     "output_type": "stream",
     "text": [
      "[nltk_data] Downloading package punkt to /home/jupyterlab/nltk_data...\n",
      "[nltk_data]   Package punkt is already up-to-date!\n",
      "[nltk_data] Downloading package stopwords to\n",
      "[nltk_data]     /home/jupyterlab/nltk_data...\n",
      "[nltk_data]   Package stopwords is already up-to-date!\n",
      "[nltk_data] Downloading package averaged_perceptron_tagger to\n",
      "[nltk_data]     /home/jupyterlab/nltk_data...\n",
      "[nltk_data]   Package averaged_perceptron_tagger is already up-to-\n",
      "[nltk_data]       date!\n"
     ]
    },
    {
     "data": {
      "text/plain": [
       "True"
      ]
     },
     "execution_count": 3,
     "metadata": {},
     "output_type": "execute_result"
    }
   ],
   "source": [
    "nltk.download('punkt')\n",
    "nltk.download('stopwords')\n",
    "nltk.download('averaged_perceptron_tagger')"
   ]
  },
  {
   "cell_type": "code",
   "execution_count": 4,
   "metadata": {},
   "outputs": [],
   "source": [
    "# also set a random state\n",
    "rs = 123"
   ]
  },
  {
   "cell_type": "markdown",
   "metadata": {},
   "source": [
    "### Bag of Words (BoW) features\n"
   ]
  },
  {
   "cell_type": "markdown",
   "metadata": {},
   "source": [
    "BoW features are essentially the counts or frequencies of each word that appears in a text (string). Let's illustrate it with some simple examples.\n"
   ]
  },
  {
   "cell_type": "markdown",
   "metadata": {},
   "source": [
    "Suppose we have two course descriptions as follows:\n"
   ]
  },
  {
   "cell_type": "code",
   "execution_count": 5,
   "metadata": {},
   "outputs": [],
   "source": [
    "course1 = \"this is an introduction data science course which introduces data science to beginners\""
   ]
  },
  {
   "cell_type": "code",
   "execution_count": 6,
   "metadata": {},
   "outputs": [],
   "source": [
    "course2 = \"machine learning for beginners\""
   ]
  },
  {
   "cell_type": "code",
   "execution_count": 7,
   "metadata": {},
   "outputs": [
    {
     "data": {
      "text/plain": [
       "['this is an introduction data science course which introduces data science to beginners',\n",
       " 'machine learning for beginners']"
      ]
     },
     "execution_count": 7,
     "metadata": {},
     "output_type": "execute_result"
    }
   ],
   "source": [
    "courses = [course1, course2]\n",
    "courses"
   ]
  },
  {
   "cell_type": "markdown",
   "metadata": {},
   "source": [
    "The first step is to split the two strings into words (tokens). A token in the text processing context means the smallest unit of text such as a word, a symbol/punctuation, or a phrase, etc. The process to transform a string into a collection of tokens is called `tokenization`.\n"
   ]
  },
  {
   "cell_type": "markdown",
   "metadata": {},
   "source": [
    "One common way to do ```tokenization``` is to use the Python built-in `split()` method of the `str` class.  However, in this lab, we want to leverage the `nltk` (Natural Language Toolkit) package, which is probably the most commonly used package to process text or natural language.\n"
   ]
  },
  {
   "cell_type": "markdown",
   "metadata": {},
   "source": [
    " More specifically, we will use the ```word_tokenize()``` method on the content of course (string):\n"
   ]
  },
  {
   "cell_type": "code",
   "execution_count": 8,
   "metadata": {},
   "outputs": [],
   "source": [
    "# Tokenize the two courses\n",
    "tokenized_courses = [word_tokenize(course) for course in courses]"
   ]
  },
  {
   "cell_type": "code",
   "execution_count": 9,
   "metadata": {},
   "outputs": [
    {
     "data": {
      "text/plain": [
       "[['this',\n",
       "  'is',\n",
       "  'an',\n",
       "  'introduction',\n",
       "  'data',\n",
       "  'science',\n",
       "  'course',\n",
       "  'which',\n",
       "  'introduces',\n",
       "  'data',\n",
       "  'science',\n",
       "  'to',\n",
       "  'beginners'],\n",
       " ['machine', 'learning', 'for', 'beginners']]"
      ]
     },
     "execution_count": 9,
     "metadata": {},
     "output_type": "execute_result"
    }
   ],
   "source": [
    "tokenized_courses"
   ]
  },
  {
   "cell_type": "markdown",
   "metadata": {},
   "source": [
    "As you can see from the cell output, two courses have been tokenized and turned into two token arrays.\n"
   ]
  },
  {
   "cell_type": "markdown",
   "metadata": {},
   "source": [
    "Next, we want to create a token dictionary to index all tokens. Basically, we want to assign a key/index for each token. One way to index tokens is to use the `gensim` package which is another popular package for processing textual data:\n"
   ]
  },
  {
   "cell_type": "code",
   "execution_count": 10,
   "metadata": {},
   "outputs": [],
   "source": [
    "# Create a token dictionary for the two courses\n",
    "tokens_dict = gensim.corpora.Dictionary(tokenized_courses)"
   ]
  },
  {
   "cell_type": "code",
   "execution_count": 11,
   "metadata": {},
   "outputs": [
    {
     "data": {
      "text/plain": [
       "<gensim.corpora.dictionary.Dictionary at 0x7f242427f910>"
      ]
     },
     "execution_count": 11,
     "metadata": {},
     "output_type": "execute_result"
    }
   ],
   "source": [
    "tokens_dict"
   ]
  },
  {
   "cell_type": "code",
   "execution_count": 12,
   "metadata": {},
   "outputs": [
    {
     "name": "stdout",
     "output_type": "stream",
     "text": [
      "{'an': 0, 'beginners': 1, 'course': 2, 'data': 3, 'introduces': 4, 'introduction': 5, 'is': 6, 'science': 7, 'this': 8, 'to': 9, 'which': 10, 'for': 11, 'learning': 12, 'machine': 13}\n"
     ]
    }
   ],
   "source": [
    "print(tokens_dict.token2id)"
   ]
  },
  {
   "cell_type": "markdown",
   "metadata": {},
   "source": [
    "With the token dictionary, we can easily count each token in the two example courses and output two BoW feature vectors. However, more conveniently, the `gensim` package provides us a `doc2bow` method to generate BoW features out-of-box.\n"
   ]
  },
  {
   "cell_type": "code",
   "execution_count": 13,
   "metadata": {},
   "outputs": [],
   "source": [
    "# Generate BoW features for each course\n",
    "courses_bow = [tokens_dict.doc2bow(course) for course in tokenized_courses]"
   ]
  },
  {
   "cell_type": "code",
   "execution_count": 14,
   "metadata": {},
   "outputs": [
    {
     "data": {
      "text/plain": [
       "[[(0, 1),\n",
       "  (1, 1),\n",
       "  (2, 1),\n",
       "  (3, 2),\n",
       "  (4, 1),\n",
       "  (5, 1),\n",
       "  (6, 1),\n",
       "  (7, 2),\n",
       "  (8, 1),\n",
       "  (9, 1),\n",
       "  (10, 1)],\n",
       " [(1, 1), (11, 1), (12, 1), (13, 1)]]"
      ]
     },
     "execution_count": 14,
     "metadata": {},
     "output_type": "execute_result"
    }
   ],
   "source": [
    "courses_bow"
   ]
  },
  {
   "cell_type": "markdown",
   "metadata": {},
   "source": [
    "It outputs two BoW arrays where each element is a tuple, e.g., (0, 1) and (7, 2). The first element of the tuple is the token ID and the second element is its count. So `(0, 1)` means `(``an``, 1)` and `(7, 2)` means `(``science``, 2)`.\n"
   ]
  },
  {
   "cell_type": "markdown",
   "metadata": {},
   "source": [
    "We can use the following code snippet to print each token and its count:\n"
   ]
  },
  {
   "cell_type": "code",
   "execution_count": 15,
   "metadata": {},
   "outputs": [
    {
     "name": "stdout",
     "output_type": "stream",
     "text": [
      "Bag of words for course 0:\n",
      "--Token: 'an', Count:1\n",
      "--Token: 'beginners', Count:1\n",
      "--Token: 'course', Count:1\n",
      "--Token: 'data', Count:2\n",
      "--Token: 'introduces', Count:1\n",
      "--Token: 'introduction', Count:1\n",
      "--Token: 'is', Count:1\n",
      "--Token: 'science', Count:2\n",
      "--Token: 'this', Count:1\n",
      "--Token: 'to', Count:1\n",
      "--Token: 'which', Count:1\n",
      "Bag of words for course 1:\n",
      "--Token: 'beginners', Count:1\n",
      "--Token: 'for', Count:1\n",
      "--Token: 'learning', Count:1\n",
      "--Token: 'machine', Count:1\n"
     ]
    }
   ],
   "source": [
    "for course_idx, course_bow in enumerate(courses_bow):\n",
    "    print(f\"Bag of words for course {course_idx}:\")\n",
    "    # For each token index, print its bow value (word count)\n",
    "    for token_index, token_bow in course_bow:\n",
    "        token = tokens_dict.get(token_index)\n",
    "        print(f\"--Token: '{token}', Count:{token_bow}\")"
   ]
  },
  {
   "cell_type": "markdown",
   "metadata": {},
   "source": [
    "If we turn to the long list into a horizontal feature vectors, we can see the two courses become two numerical feature vectors:\n"
   ]
  },
  {
   "cell_type": "markdown",
   "metadata": {},
   "source": [
    "![](https://cf-courses-data.s3.us.cloud-object-storage.appdomain.cloud/IBM-ML321EN-SkillsNetwork/labs/module_2/images/bow.png)\n"
   ]
  },
  {
   "cell_type": "markdown",
   "metadata": {},
   "source": [
    "### BoW dimensionality reduction\n"
   ]
  },
  {
   "cell_type": "markdown",
   "metadata": {},
   "source": [
    "A document may contain tens of thousands of words which makes the dimension of the BoW feature vector huge. To reduce the dimensionality, one common way is to filter the relatively meaningless tokens such as stop words or sometimes add position and adjective words.\n"
   ]
  },
  {
   "cell_type": "markdown",
   "metadata": {},
   "source": [
    "Note there are many other ways to reduce dimensionality such as `stemming` and `lemmatization` but they are beyond the scope of this capstone project. You are encouraged to explore them yourself.\n"
   ]
  },
  {
   "cell_type": "markdown",
   "metadata": {},
   "source": [
    "We can use the english stop words provided in `nltk`:\n"
   ]
  },
  {
   "cell_type": "code",
   "execution_count": 16,
   "metadata": {},
   "outputs": [],
   "source": [
    "stop_words = set(stopwords.words('english'))"
   ]
  },
  {
   "cell_type": "code",
   "execution_count": 17,
   "metadata": {},
   "outputs": [
    {
     "data": {
      "text/plain": [
       "{'a',\n",
       " 'about',\n",
       " 'above',\n",
       " 'after',\n",
       " 'again',\n",
       " 'against',\n",
       " 'ain',\n",
       " 'all',\n",
       " 'am',\n",
       " 'an',\n",
       " 'and',\n",
       " 'any',\n",
       " 'are',\n",
       " 'aren',\n",
       " \"aren't\",\n",
       " 'as',\n",
       " 'at',\n",
       " 'be',\n",
       " 'because',\n",
       " 'been',\n",
       " 'before',\n",
       " 'being',\n",
       " 'below',\n",
       " 'between',\n",
       " 'both',\n",
       " 'but',\n",
       " 'by',\n",
       " 'can',\n",
       " 'couldn',\n",
       " \"couldn't\",\n",
       " 'd',\n",
       " 'did',\n",
       " 'didn',\n",
       " \"didn't\",\n",
       " 'do',\n",
       " 'does',\n",
       " 'doesn',\n",
       " \"doesn't\",\n",
       " 'doing',\n",
       " 'don',\n",
       " \"don't\",\n",
       " 'down',\n",
       " 'during',\n",
       " 'each',\n",
       " 'few',\n",
       " 'for',\n",
       " 'from',\n",
       " 'further',\n",
       " 'had',\n",
       " 'hadn',\n",
       " \"hadn't\",\n",
       " 'has',\n",
       " 'hasn',\n",
       " \"hasn't\",\n",
       " 'have',\n",
       " 'haven',\n",
       " \"haven't\",\n",
       " 'having',\n",
       " 'he',\n",
       " 'her',\n",
       " 'here',\n",
       " 'hers',\n",
       " 'herself',\n",
       " 'him',\n",
       " 'himself',\n",
       " 'his',\n",
       " 'how',\n",
       " 'i',\n",
       " 'if',\n",
       " 'in',\n",
       " 'into',\n",
       " 'is',\n",
       " 'isn',\n",
       " \"isn't\",\n",
       " 'it',\n",
       " \"it's\",\n",
       " 'its',\n",
       " 'itself',\n",
       " 'just',\n",
       " 'll',\n",
       " 'm',\n",
       " 'ma',\n",
       " 'me',\n",
       " 'mightn',\n",
       " \"mightn't\",\n",
       " 'more',\n",
       " 'most',\n",
       " 'mustn',\n",
       " \"mustn't\",\n",
       " 'my',\n",
       " 'myself',\n",
       " 'needn',\n",
       " \"needn't\",\n",
       " 'no',\n",
       " 'nor',\n",
       " 'not',\n",
       " 'now',\n",
       " 'o',\n",
       " 'of',\n",
       " 'off',\n",
       " 'on',\n",
       " 'once',\n",
       " 'only',\n",
       " 'or',\n",
       " 'other',\n",
       " 'our',\n",
       " 'ours',\n",
       " 'ourselves',\n",
       " 'out',\n",
       " 'over',\n",
       " 'own',\n",
       " 're',\n",
       " 's',\n",
       " 'same',\n",
       " 'shan',\n",
       " \"shan't\",\n",
       " 'she',\n",
       " \"she's\",\n",
       " 'should',\n",
       " \"should've\",\n",
       " 'shouldn',\n",
       " \"shouldn't\",\n",
       " 'so',\n",
       " 'some',\n",
       " 'such',\n",
       " 't',\n",
       " 'than',\n",
       " 'that',\n",
       " \"that'll\",\n",
       " 'the',\n",
       " 'their',\n",
       " 'theirs',\n",
       " 'them',\n",
       " 'themselves',\n",
       " 'then',\n",
       " 'there',\n",
       " 'these',\n",
       " 'they',\n",
       " 'this',\n",
       " 'those',\n",
       " 'through',\n",
       " 'to',\n",
       " 'too',\n",
       " 'under',\n",
       " 'until',\n",
       " 'up',\n",
       " 've',\n",
       " 'very',\n",
       " 'was',\n",
       " 'wasn',\n",
       " \"wasn't\",\n",
       " 'we',\n",
       " 'were',\n",
       " 'weren',\n",
       " \"weren't\",\n",
       " 'what',\n",
       " 'when',\n",
       " 'where',\n",
       " 'which',\n",
       " 'while',\n",
       " 'who',\n",
       " 'whom',\n",
       " 'why',\n",
       " 'will',\n",
       " 'with',\n",
       " 'won',\n",
       " \"won't\",\n",
       " 'wouldn',\n",
       " \"wouldn't\",\n",
       " 'y',\n",
       " 'you',\n",
       " \"you'd\",\n",
       " \"you'll\",\n",
       " \"you're\",\n",
       " \"you've\",\n",
       " 'your',\n",
       " 'yours',\n",
       " 'yourself',\n",
       " 'yourselves'}"
      ]
     },
     "execution_count": 17,
     "metadata": {},
     "output_type": "execute_result"
    }
   ],
   "source": [
    "stop_words"
   ]
  },
  {
   "cell_type": "markdown",
   "metadata": {},
   "source": [
    "Then we can filter those English stop words from the tokens in course1:\n"
   ]
  },
  {
   "cell_type": "code",
   "execution_count": 18,
   "metadata": {},
   "outputs": [
    {
     "data": {
      "text/plain": [
       "['this',\n",
       " 'is',\n",
       " 'an',\n",
       " 'introduction',\n",
       " 'data',\n",
       " 'science',\n",
       " 'course',\n",
       " 'which',\n",
       " 'introduces',\n",
       " 'data',\n",
       " 'science',\n",
       " 'to',\n",
       " 'beginners']"
      ]
     },
     "execution_count": 18,
     "metadata": {},
     "output_type": "execute_result"
    }
   ],
   "source": [
    "# Tokens in course 1\n",
    "tokenized_courses[0]"
   ]
  },
  {
   "cell_type": "code",
   "execution_count": 19,
   "metadata": {},
   "outputs": [],
   "source": [
    "processed_tokens = [w for w in tokenized_courses[0] if not w.lower() in stop_words]"
   ]
  },
  {
   "cell_type": "code",
   "execution_count": 20,
   "metadata": {},
   "outputs": [
    {
     "data": {
      "text/plain": [
       "['introduction',\n",
       " 'data',\n",
       " 'science',\n",
       " 'course',\n",
       " 'introduces',\n",
       " 'data',\n",
       " 'science',\n",
       " 'beginners']"
      ]
     },
     "execution_count": 20,
     "metadata": {},
     "output_type": "execute_result"
    }
   ],
   "source": [
    "processed_tokens"
   ]
  },
  {
   "cell_type": "markdown",
   "metadata": {},
   "source": [
    "You can see the number of tokens for ```course1``` has been reduced.\n"
   ]
  },
  {
   "cell_type": "markdown",
   "metadata": {},
   "source": [
    "Another common way is to only keep nouns in the text. We can use the `nltk.pos_tag()` method to analyze the part of speech (POS) and annotate each word.\n"
   ]
  },
  {
   "cell_type": "code",
   "execution_count": 21,
   "metadata": {},
   "outputs": [
    {
     "data": {
      "text/plain": [
       "[('this', 'DT'),\n",
       " ('is', 'VBZ'),\n",
       " ('an', 'DT'),\n",
       " ('introduction', 'NN'),\n",
       " ('data', 'NNS'),\n",
       " ('science', 'NN'),\n",
       " ('course', 'NN'),\n",
       " ('which', 'WDT'),\n",
       " ('introduces', 'VBZ'),\n",
       " ('data', 'NNS'),\n",
       " ('science', 'NN'),\n",
       " ('to', 'TO'),\n",
       " ('beginners', 'NNS')]"
      ]
     },
     "execution_count": 21,
     "metadata": {},
     "output_type": "execute_result"
    }
   ],
   "source": [
    "tags = nltk.pos_tag(tokenized_courses[0])\n",
    "tags"
   ]
  },
  {
   "cell_type": "markdown",
   "metadata": {},
   "source": [
    "As we can see [`introduction`, `data`, `science`, `course`, `beginners`] are all of the nouns and we may keep them in the BoW feature vector.\n"
   ]
  },
  {
   "cell_type": "markdown",
   "metadata": {},
   "source": [
    "### TASK: Extract BoW features for course textual content and build a dataset\n"
   ]
  },
  {
   "cell_type": "markdown",
   "metadata": {},
   "source": [
    "By now you have learned what a BoW feature is, so let's start extracting BoW features from some real course textual content.\n"
   ]
  },
  {
   "cell_type": "code",
   "execution_count": 22,
   "metadata": {},
   "outputs": [],
   "source": [
    "course_url = \"https://cf-courses-data.s3.us.cloud-object-storage.appdomain.cloud/IBM-ML321EN-SkillsNetwork/labs/datasets/course_processed.csv\"\n",
    "course_content_df = pd.read_csv(course_url)"
   ]
  },
  {
   "cell_type": "code",
   "execution_count": 23,
   "metadata": {},
   "outputs": [
    {
     "data": {
      "text/plain": [
       "COURSE_ID                                               ML0201EN\n",
       "TITLE          robots are coming  build iot apps with watson ...\n",
       "DESCRIPTION    have fun with iot and learn along the way  if ...\n",
       "Name: 0, dtype: object"
      ]
     },
     "execution_count": 23,
     "metadata": {},
     "output_type": "execute_result"
    }
   ],
   "source": [
    "course_content_df.iloc[0, :]"
   ]
  },
  {
   "cell_type": "markdown",
   "metadata": {},
   "source": [
    "The course content dataset has three columns `COURSE_ID`, `TITLE`, and `DESCRIPTION`. `TITLE` and `DESCRIPTION` are all text upon which we want to extract BoW features. \n"
   ]
  },
  {
   "cell_type": "markdown",
   "metadata": {},
   "source": [
    "Let's join those two text columns together.\n"
   ]
  },
  {
   "cell_type": "code",
   "execution_count": 24,
   "metadata": {},
   "outputs": [],
   "source": [
    "# Merge TITLE and DESCRIPTION title\n",
    "course_content_df['course_texts'] = course_content_df[['TITLE', 'DESCRIPTION']].agg(' '.join, axis=1)\n",
    "course_content_df = course_content_df.reset_index()\n",
    "course_content_df['index'] = course_content_df.index"
   ]
  },
  {
   "cell_type": "code",
   "execution_count": 25,
   "metadata": {},
   "outputs": [
    {
     "data": {
      "text/plain": [
       "index                                                           0\n",
       "COURSE_ID                                                ML0201EN\n",
       "TITLE           robots are coming  build iot apps with watson ...\n",
       "DESCRIPTION     have fun with iot and learn along the way  if ...\n",
       "course_texts    robots are coming  build iot apps with watson ...\n",
       "Name: 0, dtype: object"
      ]
     },
     "execution_count": 25,
     "metadata": {},
     "output_type": "execute_result"
    }
   ],
   "source": [
    "course_content_df.iloc[0, :]"
   ]
  },
  {
   "cell_type": "markdown",
   "metadata": {},
   "source": [
    "and we have prepared a `tokenize_course()` method for you to tokenize the course content:\n"
   ]
  },
  {
   "cell_type": "code",
   "execution_count": 26,
   "metadata": {},
   "outputs": [],
   "source": [
    "def tokenize_course(course, keep_only_nouns=True):\n",
    "    stop_words = set(stopwords.words('english'))\n",
    "    word_tokens = word_tokenize(course)\n",
    "    # Remove English stop words and numbers\n",
    "    word_tokens = [w for w in word_tokens if (not w.lower() in stop_words) and (not w.isnumeric())]\n",
    "    # Only keep nouns \n",
    "    if keep_only_nouns:\n",
    "        filter_list = ['WDT', 'WP', 'WRB', 'FW', 'IN', 'JJR', 'JJS', 'MD', 'PDT', 'POS', 'PRP', 'RB', 'RBR', 'RBS',\n",
    "                       'RP']\n",
    "        tags = nltk.pos_tag(word_tokens)\n",
    "        word_tokens = [word for word, pos in tags if pos not in filter_list]\n",
    "\n",
    "    return word_tokens"
   ]
  },
  {
   "cell_type": "markdown",
   "metadata": {},
   "source": [
    "Let's try it on the first course.\n"
   ]
  },
  {
   "cell_type": "code",
   "execution_count": 27,
   "metadata": {},
   "outputs": [
    {
     "data": {
      "text/plain": [
       "'robots are coming  build iot apps with watson  swift  and node red have fun with iot and learn along the way  if you re a swift developer and want to learn more about iot and watson ai services in the cloud  raspberry pi   and node red  you ve found the right place  you ll build iot apps to read temperature data  take pictures with a raspcam  use ai to recognize the objects in those pictures  and program an irobot create 2 robot  '"
      ]
     },
     "execution_count": 27,
     "metadata": {},
     "output_type": "execute_result"
    }
   ],
   "source": [
    "a_course = course_content_df.iloc[0, :]['course_texts']\n",
    "a_course"
   ]
  },
  {
   "cell_type": "code",
   "execution_count": 28,
   "metadata": {},
   "outputs": [
    {
     "data": {
      "text/plain": [
       "['robots',\n",
       " 'coming',\n",
       " 'build',\n",
       " 'iot',\n",
       " 'apps',\n",
       " 'watson',\n",
       " 'swift',\n",
       " 'red',\n",
       " 'fun',\n",
       " 'iot',\n",
       " 'learn',\n",
       " 'way',\n",
       " 'swift',\n",
       " 'developer',\n",
       " 'want',\n",
       " 'learn',\n",
       " 'iot',\n",
       " 'watson',\n",
       " 'ai',\n",
       " 'services',\n",
       " 'cloud',\n",
       " 'raspberry',\n",
       " 'pi',\n",
       " 'node',\n",
       " 'red',\n",
       " 'found',\n",
       " 'place',\n",
       " 'build',\n",
       " 'iot',\n",
       " 'apps',\n",
       " 'read',\n",
       " 'temperature',\n",
       " 'data',\n",
       " 'take',\n",
       " 'pictures',\n",
       " 'raspcam',\n",
       " 'use',\n",
       " 'ai',\n",
       " 'recognize',\n",
       " 'objects',\n",
       " 'pictures',\n",
       " 'program',\n",
       " 'irobot',\n",
       " 'create',\n",
       " 'robot']"
      ]
     },
     "execution_count": 28,
     "metadata": {},
     "output_type": "execute_result"
    }
   ],
   "source": [
    "tokenize_course(a_course)"
   ]
  },
  {
   "cell_type": "markdown",
   "metadata": {},
   "source": [
    "Next, you will need to write some code snippets to generate the BoW features for each course. Let's start by tokenzing all courses in the `courses_df`:\n"
   ]
  },
  {
   "cell_type": "markdown",
   "metadata": {},
   "source": [
    "_TODO: Use provided tokenize_course() method to tokenize all courses in courses_df['course_texts']._\n"
   ]
  },
  {
   "cell_type": "code",
   "execution_count": 29,
   "metadata": {},
   "outputs": [
    {
     "data": {
      "text/plain": [
       "['robots',\n",
       " 'coming',\n",
       " 'build',\n",
       " 'iot',\n",
       " 'apps',\n",
       " 'watson',\n",
       " 'swift',\n",
       " 'red',\n",
       " 'fun',\n",
       " 'iot',\n",
       " 'learn',\n",
       " 'way',\n",
       " 'swift',\n",
       " 'developer',\n",
       " 'want',\n",
       " 'learn',\n",
       " 'iot',\n",
       " 'watson',\n",
       " 'ai',\n",
       " 'services',\n",
       " 'cloud',\n",
       " 'raspberry',\n",
       " 'pi',\n",
       " 'node',\n",
       " 'red',\n",
       " 'found',\n",
       " 'place',\n",
       " 'build',\n",
       " 'iot',\n",
       " 'apps',\n",
       " 'read',\n",
       " 'temperature',\n",
       " 'data',\n",
       " 'take',\n",
       " 'pictures',\n",
       " 'raspcam',\n",
       " 'use',\n",
       " 'ai',\n",
       " 'recognize',\n",
       " 'objects',\n",
       " 'pictures',\n",
       " 'program',\n",
       " 'irobot',\n",
       " 'create',\n",
       " 'robot']"
      ]
     },
     "execution_count": 29,
     "metadata": {},
     "output_type": "execute_result"
    }
   ],
   "source": [
    "# WRITE YOUR CODE HERE\n",
    "tokenized_courses = [tokenize_course(course) for course in course_content_df['course_texts']]\n",
    "tokenized_courses[0]"
   ]
  },
  {
   "cell_type": "markdown",
   "metadata": {},
   "source": [
    "\n",
    "<details>\n",
    "    <summary>Click here for Hints</summary>\n",
    "\n",
    "Use `tokenize_course(text, True)` command to tokenize each text in `courses_df['course_texts']`\n"
   ]
  },
  {
   "cell_type": "markdown",
   "metadata": {},
   "source": [
    "Then we need to create a token dictionary `tokens_dict`\n"
   ]
  },
  {
   "cell_type": "markdown",
   "metadata": {},
   "source": [
    "_TODO: Use gensim.corpora.Dictionary(tokenized_courses) to create a token dictionary._\n"
   ]
  },
  {
   "cell_type": "code",
   "execution_count": 30,
   "metadata": {},
   "outputs": [
    {
     "name": "stdout",
     "output_type": "stream",
     "text": [
      "{'ai': 0, 'apps': 1, 'build': 2, 'cloud': 3, 'coming': 4, 'create': 5, 'data': 6, 'developer': 7, 'found': 8, 'fun': 9, 'iot': 10, 'irobot': 11, 'learn': 12, 'node': 13, 'objects': 14, 'pi': 15, 'pictures': 16, 'place': 17, 'program': 18, 'raspberry': 19, 'raspcam': 20, 'read': 21, 'recognize': 22, 'red': 23, 'robot': 24, 'robots': 25, 'services': 26, 'swift': 27, 'take': 28, 'temperature': 29, 'use': 30, 'want': 31, 'watson': 32, 'way': 33, 'accelerate': 34, 'accelerated': 35, 'accelerating': 36, 'analyze': 37, 'based': 38, 'benefit': 39, 'caffe': 40, 'case': 41, 'chips': 42, 'classification': 43, 'comfortable': 44, 'complex': 45, 'computations': 46, 'convolutional': 47, 'course': 48, 'datasets': 49, 'deep': 50, 'dependencies': 51, 'deploy': 52, 'designed': 53, 'feel': 54, 'google': 55, 'gpu': 56, 'hardware': 57, 'house': 58, 'ibm': 59, 'images': 60, 'including': 61, 'inference': 62, 'large': 63, 'learning': 64, 'libraries': 65, 'machine': 66, 'models': 67, 'need': 68, 'needs': 69, 'network': 70, 'networks': 71, 'neural': 72, 'nvidia': 73, 'one': 74, 'overcome': 75, 'platform': 76, 'popular': 77, 'power': 78, 'preferring': 79, 'premise': 80, 'problem': 81, 'problems': 82, 'processing': 83, 'public': 84, 'reduce': 85, 'scalability': 86, 'scaling': 87, 'sensitiveand': 88, 'several': 89, 'solution': 90, 'support': 91, 'supports': 92, 'system': 93, 'systems': 94, 'takes': 95, 'tensor': 96, 'tensorflow': 97, 'theano': 98, 'time': 99, 'torch': 100, 'tpu': 101, 'trained': 102, 'training': 103, 'understand': 104, 'unit': 105, 'uploading': 106, 'videos': 107, 'client': 108, 'consuming': 109, 'http': 110, 'invoke': 111, 'jax': 112, 'microservices': 113, 'reactive': 114, 'restful': 115, 'rs': 116, 'using': 117, 'analysis': 118, 'analyzing': 119, 'apache': 120, 'api': 121, 'big': 122, 'cluster': 123, 'computing': 124, 'distributed': 125, 'enables': 126, 'familiar': 127, 'frame': 128, 'framework': 129, 'performing': 130, 'provides': 131, 'r': 132, 'scale': 133, 'spark': 134, 'sparkr': 135, 'structured': 136, 'syntax': 137, 'used': 138, 'users': 139, 'application': 140, 'boot': 141, 'containerize': 142, 'containerizing': 143, 'liberty': 144, 'modification': 145, 'open': 146, 'package': 147, 'packaging': 148, 'run': 149, 'running': 150, 'server': 151, 'spring': 152, 'conference': 153, 'introduction': 154, 'native': 155, 'security': 156, 'bootcamp': 157, 'day': 158, 'intensive': 159, 'multi': 160, 'offered': 161, 'person': 162, 'proffesors': 163, 'science': 164, 'university': 165, 'containers': 166, 'development': 167, 'docker': 168, 'iterative': 169, 'scorm': 170, 'scron': 171, 'test': 172, 'basic': 173, 'collections': 174, 'creating': 175, 'database': 176, 'document': 177, 'first': 178, 'get': 179, 'guided': 180, 'management': 181, 'mongodb': 182, 'project': 183, 'started': 184, 'working': 185, 'arquillian': 186, 'container': 187, 'develop': 188, 'managed': 189, 'testing': 190, 'tests': 191, 'aiops': 192, 'attending': 193, 'comprehensive': 194, 'demonstrate': 195, 'digital': 196, 'essentials': 197, 'hands': 198, 'integration': 199, 'pak': 200, 'received': 201, 'short': 202, 'analytics': 203, 'assemble': 204, 'base': 205, 'basics': 206, 'dataset': 207, 'fundamentals': 208, 'improve': 209, 'line': 210, 'media': 211, 'refine': 212, 'reports': 213, 'service': 214, 'setup': 215, 'smart': 216, 'social': 217, 'suggestions': 218, 'teaches': 219, 'topic': 220, 'advance': 221, 'professors': 222, 'python': 223, 'algorithm': 224, 'algorithmic': 225, 'cryptocurrency': 226, 'dive': 227, 'earning': 228, 'good': 229, 'money': 230, 'right': 231, 'sleep': 232, 'sound': 233, 'trading': 234, 'true': 235, 'world': 236, 'access': 237, 'control': 238, 'eclipse': 239, 'java': 240, 'json': 241, 'jwt': 242, 'microprofile': 243, 'role': 244, 'securing': 245, 'token': 246, 'user': 247, 'web': 248, 'customize': 249, 'enable': 250, 'enabling': 251, 'methods': 252, 'non': 253, 'opentracing': 254, 'tracing': 255, 'zipkin': 256, 'another': 257, 'applying': 258, 'architecture': 259, 'chance': 260, 'common': 261, 'connect': 262, 'cover': 263, 'curve': 264, 'different': 265, 'easy': 266, 'exercises': 267, 'existing': 268, 'explain': 269, 'file': 270, 'formats': 271, 'hadoop': 272, 'help': 273, 'lab': 274, 'list': 275, 'load': 276, 'orc': 277, 'parquet': 278, 'proprietary': 279, 'relational': 280, 'sample': 281, 'schemas': 282, 'see': 283, 'show': 284, 'sql': 285, 'storage': 286, 'supported': 287, 'table': 288, 'tool': 289, 'types': 290, 'work': 291, '‚äì': 292, 'hybrid': 293, 'pipelines': 294, 'dataops': 295, 'methodology': 296, 'ops': 297, 'introduce': 298, 'journey': 299, 'jumpstart': 300, 'concepts': 301, 'contribute': 302, 'introduces': 303, 'key': 304, 'processes': 305, 'software': 306, 'source': 307, 'tools': 308, 'cloudpak': 309, 'end': 310, 'applications': 311, 'artificial': 312, 'everyone': 313, 'intelligence': 314, 'master': 315, 'understanding': 316, 'composed': 317, 'coupled': 318, 'functions': 319, 'include': 320, 'microservice': 321, 'serverless': 322, 'teach': 323, 'customer': 324, 'moddels': 325, 'predict': 326, 'predicting': 327, 'satisfaction': 328, 'satisfactions': 329, 'bean': 330, 'constraints': 331, 'input': 332, 'javabeans': 333, 'validate': 334, 'validating': 335, 'validation': 336, 'algorithms': 337, 'alternative': 338, 'amounts': 339, 'apis': 340, 'built': 341, 'cassandra': 342, 'combines': 343, 'diverse': 344, 'ease': 345, 'engine': 346, 'getting': 347, 'handle': 348, 'hbase': 349, 'hdfs': 350, 'interactive': 351, 'latency': 352, 'lightning': 353, 'low': 354, 'makers': 355, 'map': 356, 'memory': 357, 'mesos': 358, 'mining': 359, 'performs': 360, 'range': 361, 'requires': 362, 'runs': 363, 's3': 364, 'scala': 365, 'scenarios': 366, 'sources': 367, 'speed': 368, 'speeds': 369, 'standalone': 370, 'streaming': 371, 'times': 372, 'top': 373, 'typical': 374, 'wide': 375, 'company': 376, 'financial': 377, 'performance': 378, 'db2': 379, 'clustering': 380, 'investment': 381, 'portfolio': 382, 'creation': 383, 'lamp': 384, 'linux': 385, 'mysql': 386, 'php': 387, 'scripting': 388, 'stack': 389, 'tutorial': 390, 'ubuntu': 391, 'virtual': 392, 'walks': 393, 'game': 394, 'javascript': 395, 'language': 396, 'paper': 397, 'programming': 398, 'recreating': 399, 'rock': 400, 'scissors': 401, 'databases': 402, 'intent': 403, 'magic': 404, 'modify': 405, 'perform': 406, 'query': 407, 'simple': 408, 'unlock': 409, 'update': 410, 'visualizations': 411, 'acceleration': 412, 'blu': 413, 'c': 414, 'environment': 415, 'express': 416, 'focus': 417, 'interface': 418, 'mangement': 419, 'rdbms': 420, 'rodbc': 421, 'stored': 422, 'building': 423, 'critical': 424, 'exposes': 425, 'field': 426, 'foundational': 427, 'ii': 428, 'knowledge': 429, 'level': 430, 'move': 431, 'operations': 432, 'opportunity': 433, 'resilient': 434, 'set': 435, 'skills': 436, 'success': 437, 'calculate': 438, 'descriptive': 439, 'insurance': 440, 'statistical': 441, 'statistics': 442, 'available': 443, 'catalog': 444, 'cloud‚ñ¢': 445, 'practice': 446, 'put': 447, 'sharing': 448, 'together': 449, 'advanced': 450, 'analytics‚äù': 451, 'associated': 452, 'came': 453, 'class': 454, 'core': 455, 'courses': 456, 'dataframe': 457, 'dataframes': 458, 'ecosystem': 459, 'establish': 460, 'finished': 461, 'general': 462, 'graph': 463, 'history': 464, 'leverage': 465, 'meant': 466, 'modules': 467, 'overview': 468, 'prepared': 469, 'rdd': 470, 'rdds': 471, 'recommend': 472, 'spark‚ñ¢': 473, 'student': 474, 'students': 475, 'topics': 476, '‚': 477, 'ee': 478, 'jakarta': 479, 'microshed': 480, 'activities': 481, 'beautiful': 482, 'becoming': 483, 'completing': 484, 'every': 485, 'factors': 486, 'frames': 487, 'free': 488, 'gained': 489, 'grows': 490, 'increasing': 491, 'leading': 492, 'lists': 493, 'million': 494, 'number': 495, 'online': 496, 'organizations': 497, 'ready': 498, 'today': 499, 'undertake': 500, 'worldwide': 501, 'year': 502, 'text': 503, 'cool': 504, 'expose': 505, 'full': 506, 'make': 507, 'mobile': 508, 'monetize': 509, 'side': 510, 'assessment': 511, 'carlo': 512, 'method': 513, 'monte': 514, 'montecarlo': 515, 'probability': 516, 'risk': 517, 'ruin': 518, 'anlysis': 519, 'teaching': 520, 'convert': 521, 'emotion': 522, 'ios': 523, 'photo': 524, 'sentiment': 525, 'speech': 526, 'three': 527, 'various': 528, 'add': 529, 'animal': 530, 'barking': 531, 'cat': 532, 'dog': 533, 'experience': 534, 'identify': 535, 'image': 536, 'integrate': 537, 'making': 538, 'page': 539, 'purring': 540, 'recognition': 541, 'specific': 542, 'visual': 543, 'communicate': 544, 'fundamental': 545, 'job': 546, 'mapreduce': 547, 'random': 548, 'real': 549, 'writes': 550, 'welcome': 551, 'actuarial': 552, 'business': 553, 'calculations': 554, 'mathematical': 555, 'model': 556, 'modelling': 557, 'process': 558, 'revenue': 559, 'accessing': 560, 'hive': 561, 'projects': 562, 'warehousing': 563, 'health': 564, 'istio': 565, 'kubernetes': 566, 'managing': 567, 'mesh': 568, 'observe': 569, 'secure': 570, 'shows': 571, 'traffic': 572, 'apply': 573, 'capable': 574, 'capture': 575, 'discovering': 576, 'hidden': 577, 'instance': 578, 'kind': 579, 'library': 580, 'majority': 581, 'relevant': 582, 'shallow': 583, 'solve': 584, 'structure': 585, 'structures': 586, 'unlabeled': 587, 'unstructured': 588, 'within¬†these': 589, 'applicable': 590, 'blogs': 591, 'brand': 592, 'call': 593, 'comments': 594, 'competitors': 595, 'constitutes': 596, 'customers': 597, 'emails': 598, 'employees': 599, 'example': 600, 'face': 601, 'find': 602, 'forms': 603, 'forums': 604, 'industries': 605, 'leaked': 606, 'like': 607, 'measure': 608, 'millions': 609, 'negative': 610, 'pain': 611, 'perceptions': 612, 'points': 613, 'positive': 614, 'product': 615, 'products': 616, 'questions': 617, 'secrets': 618, 'suspicious': 619, 'tweets': 620, 'accurate': 621, 'addressed': 622, 'cascading': 623, 'continuation': 624, 'declarative': 625, 'detail': 626, 'domain': 627, 'early': 628, 'enhance': 629, 'explains': 630, 'expressivity': 631, 'extraction': 632, 'extractors': 633, 'formalism': 634, 'grammars': 635, 'information': 636, 'limitations': 637, 'maintain': 638, 'new': 639, 'principles': 640, 'resulting': 641, 'results': 642, 'runtime': 643, 'scalable': 644, 'standard': 645, 'suffer': 646, 'systemt': 647, 'algebra': 648, 'automatic': 649, 'constructs': 650, 'expressed': 651, 'generation': 652, 'includes': 653, 'linear': 654, 'ml': 655, 'optimized': 656, 'plans': 657, 'primitives': 658, 'ranging': 659, 'single': 660, 'style': 661, 'systemml': 662, 'action': 663, 'firewall': 664, 'internet': 665, 'logs': 666, 'task': 667, 'orchestration': 668, 'care': 669, 'covid': 670, 'dynamics': 671, 'prognostication': 672, 'spread': 673, 'areas': 674, 'collection': 675, 'frameworks': 676, 'helping': 677, 'junction': 678, 'sms': 679, 'spam': 680, 'banking': 681, 'area': 682, 'card': 683, 'clients': 684, 'credit': 685, 'preliminary': 686, 'anomaly': 687, 'detection': 688, 'evaluation': 689, 'intrusion': 690, 'iscxids2012': 691, 'nlp': 692, 'backend': 693, 'frontend': 694, 'heard': 695, 'js': 696, 'know': 697, 'technology': 698, 'backup': 699, 'cli': 700, 'command': 701, 'contents': 702, 'dump': 703, 'explore': 704, 'restore': 705, 'tables': 706, 'excited': 707, 'features': 708, 'functionality': 709, 'implement': 710, 'satellite': 711, 'quantum': 712, 'strange': 713, 'app': 714, 'debate': 715, 'detector': 716, 'dollar': 717, 'great': 718, 'hotdog': 719, 'idea': 720, 'land': 721, 'launch': 722, 'let': 723, 'next': 724, 'picture': 725, 'prove': 726, 'pursue': 727, 'settle': 728, 'tells': 729, 'wondered': 730, 'wonder‚': 731, 'you‚': 732, 'eda': 733, 'exploratory': 734, 'pandas': 735, 'articles': 736, 'derive': 737, 'enroll': 738, 'experts': 739, 'hot': 740, 'insights': 741, 'interested': 742, 'news': 743, 'valuable': 744, 'graphical': 745, 'gui': 746, 'phpmyadmin': 747, 'attribute': 748, 'cardinality': 749, 'degree': 750, 'entity': 751, 'learned': 752, 'relation': 753, 'terms': 754, 'achievement': 755, 'certificate': 756, 'completed': 757, 'download': 758, 'labs': 759, 'many': 760, 'modeler': 761, 'modeling': 762, 'predictive': 763, 'print': 764, 'spss': 765, 'trial': 766, 'wish': 767, 'asset': 768, 'blockchain': 769, 'chain': 770, 'configure': 771, 'dashboard': 772, 'device': 773, 'monitor': 774, 'perishable': 775, 'purchase': 776, 'simulated': 777, 'supply': 778, 'tracker': 779, 'tracking': 780, 'chaincode': 781, 'developing': 782, 'postgresql': 783, 'components': 784, 'composer': 785, 'consensus': 786, 'contracts': 787, 'deeper': 788, 'foundation': 789, 'hyperledger': 790, 'ledgers': 791, 'enforce': 792, 'entry': 793, 'keys': 794, 'relationships': 795, 'rules': 796, 'addition': 797, 'allows': 798, 'builders': 799, 'computation': 800, 'edges': 801, 'exploring': 802, 'graphx': 803, 'growing': 804, 'operators': 805, 'paradigm': 806, 'parallel': 807, 'representation': 808, 'simplify': 809, 'tasks': 810, 'vertices': 811, 'blood': 812, 'collected': 813, 'diseases': 814, 'elisa': 815, 'groups': 816, 'igg': 817, 'igm': 818, 'influenza': 819, 'pre': 820, 'preparate': 821, 'previous': 822, 'tuberculosis': 823, 'vaccination': 824, 'pgadmin': 825, 'metrics': 826, 'monitoring': 827, 'provide': 828, 'config': 829, 'configmaps': 830, 'configuration': 831, 'configuring': 832, 'externalize': 833, 'agents': 834, 'cartpole': 835, 'games': 836, 'going': 837, 'play': 838, 'playing': 839, 's4tf': 840, 'tac': 841, 'tic': 842, 'toe': 843, 'code': 844, 'cors': 845, 'cross': 846, 'origin': 847, 'resource': 848, 'writing': 849, 'actual': 850, 'allow': 851, 'anything': 852, 'data‚': 853, 'developed': 854, 'eat': 855, 'hence': 856, 'mapper': 857, 'name': 858, 'people': 859, 'pig': 860, 'pigs': 861, 'programs': 862, 'reducer': 863, 'sets': 864, 'spend': 865, 'write': 866, 'yahoo': 867, 'biginsights': 868, 'contextualize': 869, 'examples': 870, 'manage': 871, 'motivate': 872, 'study': 873, 'tandem': 874, 'zookeeper': 875, 'controlling': 876, 'jobs': 877, 'materials': 878, 'oozie': 879, 'provided': 880, 'click': 881, 'commands': 882, 'covered': 883, 'describes': 884, 'flume': 885, 'moving': 886, 'presented': 887, 'shell': 888, 'sophisticated': 889, 'sqoop': 890, 'techniques': 891, 'variety': 892, 'ways': 893, 'exposure': 894, 'gaining': 895, 'mapreduce1': 896, 'negotiator': 897, 'start': 898, 'string': 899, 'yarn': 900, 'acknowledge': 901, 'acknowledging': 902, 'messages': 903, 'messaging': 904, 'choosing': 905, 'decision': 906, 'django': 907, 'evening': 908, 'handy': 909, 'movie': 910, 'personal': 911, 'recommender': 912, 'watch': 913, 'weekend': 914, 'cdi': 915, 'contexts': 916, 'dependency': 917, 'inject': 918, 'injecting': 919, 'injection': 920, 'scopes': 921, 'essential': 922, 'ignite': 923, 'interest': 924, 'processor': 925, 'deploying': 926, 'kubectl': 927, 'maven': 928, 'rest': 929, 'assistant': 930, 'brings': 931, 'challenging': 932, 'correlation': 933, 'ends': 934, 'evaluations': 935, 'exercise': 936, 'fail': 937, 'gentle': 938, 'haider': 939, 'hot‚äù': 940, 'included': 941, 'looking': 942, 'murtaza': 943, 'professor': 944, 'ryerson': 945, 'taught': 946, 'variance': 947, 'visualization': 948, 'ability': 949, 'able': 950, 'analyst': 951, 'bigsheets': 952, 'capabilities': 953, 'component': 954, 'spreadsheet': 955, 'type': 956, 'ui': 957, 'visualize': 958, 'consultant': 959, 'less': 960, 'openrefine': 961, 'technical': 962, 'solr': 963, 'annotation': 964, 'behaviours': 965, 'failures': 966, 'fallback': 967, 'fault': 968, 'impact': 969, 'retry': 970, 'tolerance': 971, 'tolerant': 972, 'interfaces': 973, 'safe': 974, 'template': 975, 'chatbot': 976, 'chatbots': 977, 'complete': 978, 'conversation': 979, 'conversational': 980, 'culminating': 981, 'depth': 982, 'functional': 983, 'seven': 984, 'bots': 985, 'cognitive': 986, 'facebook': 987, 'messenger': 988, 'send': 989, 'tone': 990, 'translate': 991, 'inconsistency': 992, 'integrity': 993, 'kinds': 994, 'minimize': 995, 'normalization': 996, 'normalizing': 997, 'record': 998, 'redundancy': 999, 'relationship': 1000, 'changed': 1001, 'driven': 1002, 'foundry': 1003, 'practices': 1004, 'pair': 1005, 'agent': 1006, 'called': 1007, 'difference': 1008, 'gym': 1009, 'loses': 1010, 'openai': 1011, 'reinforcement': 1012, 'temporal': 1013, 'tictactoe': 1014, 'openshift': 1015, 'operator': 1016, 'demonstrations': 1017, 'demos': 1018, 'goal': 1019, 'inspiring': 1020, 'providing': 1021, 'showing': 1022, 'answers': 1023, 'approach': 1024, 'holistic': 1025, 'journalism': 1026, 'presents': 1027, 'steps': 1028, 'optimization': 1029, 'academic': 1030, 'bind': 1031, 'created': 1032, 'custom': 1033, 'mini': 1034, 'scaffold': 1035, 'files': 1036, 'ideal': 1037, 'powerful': 1038, 'account': 1039, 'additional': 1040, 'benefits': 1041, 'cloudant': 1042, 'conclude': 1043, 'continue': 1044, 'dbaas': 1045, 'education': 1046, 'fits': 1047, 'landscape': 1048, 'loading': 1049, 'nosql': 1050, 'offering': 1051, 'pointing': 1052, 'querying': 1053, 'replicating': 1054, 'resources': 1055, 'sign': 1056, 'tutorials': 1057, 'we‚': 1058, 'covers': 1059, 'lifecycle': 1060, 'manager': 1061, 'reconciliation': 1062, 'scorecard': 1063, 'upgrade': 1064, 'knative': 1065, 'powered': 1066, 'career': 1067, 'talks': 1068, 'bitcoin': 1069, 'greetings': 1070, 'ide': 1071, 'jupyter': 1072, 'notebooks': 1073, 'rstudio': 1074, 'scientists': 1075, 'zeppelin': 1076, 'beakers': 1077, 'calculator‚wait': 1078, 'coat': 1079, 'determining': 1080, 'emerging': 1081, 'grab': 1082, 'methodologies': 1083, 'passed': 1084, 'path': 1085, 'pocket': 1086, 'wave': 1087, 'waves': 1088, 'wrong': 1089, 'asynchronous': 1090, 'feature': 1091, 'form': 1092, 'scratch': 1093, 'search': 1094, 'share': 1095, 'documenting': 1096, 'openapi': 1097, 'static': 1098, 'patterns': 1099, 'agriculture': 1100, 'transformation': 1101, 'cqrs': 1102, 'event': 1103, 'sourcing': 1104, 'monoliths': 1105, 'talking': 1106, 'term': 1107, 'design': 1108, 'elements': 1109, 'relate': 1110, 'technique': 1111, 'arm': 1112, 'flash': 1113, 'light': 1114, 'simulator': 1115, 'speak': 1116, 'tjbot': 1117, 'administrators': 1118, 'anyone': 1119, 'decisions': 1120, 'delivering': 1121, 'devops': 1122, 'engineering': 1123, 'enterprise': 1124, 'environments': 1125, 'informed': 1126, 'legacy': 1127, 'migrating': 1128, 'migration': 1129, 'modernization': 1130, 'modernizing': 1131, 'multicloud': 1132, 'related': 1133, 'wants': 1134, 'discussions': 1135, 'matter': 1136, 'terminology': 1137, 'badge': 1138, 'earn': 1139, 'options': 1140, 'platforms': 1141, 'forecasting': 1142, 'regression': 1143, 'availability': 1144, 'discovery': 1145, 'high': 1146, 'production': 1147, 'gpus': 1148, 'five': 1149, 'leveraging': 1150, 'minutes': 1151, 'site': 1152, 'display': 1153, 'dynamic': 1154, 'geo': 1155, 'maps': 1156, 'visualisation': 1157, 'ball': 1158, 'beneficial': 1159, 'bit': 1160, 'blue': 1161, 'certain': 1162, 'die': 1163, 'eight': 1164, 'future': 1165, 'hazy': 1166, 'indicator': 1167, 'oil': 1168, 'phrases': 1169, 'point': 1170, 'predictions': 1171, 'rely': 1172, 'reply': 1173, 'room': 1174, 'shelf': 1175, 'signs': 1176, 'trends': 1177, 'try': 1178, 'yes': 1179, 'dimensionality': 1180, 'reduction': 1181, 'give': 1182, 'supervised': 1183, 'unsupervised': 1184, 'b': 1185, 'consume': 1186, 'p': 1187, 'challenges': 1188, 'issues': 1189, 'market': 1190, 'segment': 1191, 'target': 1192, 'acquisition': 1193, 'insight': 1194, 'obtain': 1195, 'check': 1196, 'checking': 1197, 'endpoints': 1198, 'inspect': 1199, 'liveness': 1200, 'probes': 1201, 'readiness': 1202, 'setting': 1203, 'appreciation': 1204, 'assumed': 1205, 'curricula': 1206, 'developers': 1207, 'ensures': 1208, 'experienced': 1209, 'know¬≠how': 1210, 'solid': 1211, 'tooling': 1212, 'typesafe': 1213, 'useful': 1214, 'report': 1215, 'bird': 1216, 'days': 1217, 'detect': 1218, 'lot': 1219, 'machines': 1220, 'object': 1221, 'plane': 1222, 'pytorch': 1223, 'recognizing': 1224, 'repeated': 1225, 'superman': 1226, 'train': 1227, 'external': 1228, 'externalizing': 1229, 'integrating': 1230, 'cql': 1231, 'execute': 1232, 'keyspace': 1233, 'cqlsh': 1234, 'crud': 1235, 'delete': 1236, 'assessments': 1237, 'instructions': 1238, 'preview': 1239, 'publish': 1240, 'version': 1241, 'weeks': 1242, 'artistic': 1243, 'creativity': 1244, 'opencv': 1245, 'painting': 1246, 'paintings': 1247, 'photographs': 1248, 'photos': 1249, 'showcase': 1250, 'sketch': 1251, 'sketches': 1252, 'transform': 1253, 'wanted': 1254, '¬†': 1255, 'allocated': 1256, 'compare': 1257, 'decide': 1258, 'experiment': 1259, 'experimental': 1260, 'quick': 1261, 'refers': 1262, 'something': 1263, 'two': 1264, 'versions': 1265, 'ancient': 1266, 'art': 1267, 'carved': 1268, 'census': 1269, 'distinct': 1270, 'efficiency': 1271, 'egyptians': 1272, 'flooding': 1273, 'increase': 1274, 'meet': 1275, 'practitioners': 1276, 'predicted': 1277, 'river': 1278, 'tax': 1279, 'uncovering': 1280, 'unique': 1281, 'architectures': 1282, 'contrasts': 1283, 'trying': 1284, 'privacy': 1285, 'angularjs': 1286, 'consumer': 1287, 'contract': 1288, 'pact': 1289, 'gain': 1290, 'perspectives': 1291, 'practitioner': 1292, 'required': 1293, 'become': 1294, 'businesses': 1295, 'divide': 1296, 'extract': 1297, 'introduced': 1298, 'meaning': 1299, 'natural': 1300, 'reviews': 1301, 'subjective': 1302, 'yelp': 1303, 'collaborative': 1304, 'featurization': 1305, 'filtering': 1306, 'handing': 1307, 'handling': 1308, 'known': 1309, 'mllib': 1310, 'persistence': 1311, 'utilities': 1312, 'enterprises': 1313, 'offerings': 1314, 'v3': 1315, 'copying': 1316, 'estate': 1317, 'beginner': 1318, 'friendly': 1319, 'hours': 1320, 'scripts': 1321, 'zero': 1322, 'differ': 1323, 'importance': 1324, 'technologies': 1325, 'v2': 1326, 'brewing': 1327, 'broker': 1328, 'category': 1329, 'connected': 1330, 'describe': 1331, 'hear': 1332, 'kafka': 1333, 'means': 1334, 'producer': 1335, 'simplifying': 1336, 'aspects': 1337, 'discuss': 1338, 'guide': 1339, 'appointment': 1340, 'medical': 1341, 'notebook': 1342, 'patients': 1343, 'reasons': 1344, 'charts': 1345, 'customizing': 1346, 'facilitates': 1347, 'findings': 1348, 'graphics': 1349, 'identifying': 1350, 'interpretation': 1351, 'look': 1352, 'presentation': 1353, 'summarize': 1354, 'graphiql': 1355, 'graphql': 1356, 'implementing': 1357, 'multiple': 1358, 'mutations': 1359, 'queries': 1360, 'reactjs': 1361, 'drive': 1362, 'hateoas': 1363, 'hypermedia': 1364, 'state': 1365, 'audience': 1366, 'convey': 1367, 'effective': 1368, 'interesting': 1369, 'order': 1370, 'pleasing': 1371, 'stakeholders': 1372, 'address': 1373, 'arriving': 1374, 'designing': 1375, 'medium': 1376, 'objective': 1377, 'small': 1378, 'uses': 1379, 'approachable': 1380, 'comparison': 1381, 'dives': 1382, 'relates': 1383, 'vs': 1384, 'head': 1385, 'import': 1386, 'jpa': 1387, 'persist': 1388, 'persisting': 1389, 'virus': 1390, 'jaeger': 1391, 'cd': 1392, 'ci': 1393, 'bot': 1394, 'community': 1395, 'computer': 1396, 'discord': 1397, 'fantastic': 1398, 'friends': 1399, 'host': 1400, 'perfect': 1401, 'voice': 1402, 'behave': 1403, 'compared': 1404, 'insert': 1405, 'materialized': 1406, 'regular': 1407, 'result': 1408, 'rows': 1409, 'saved': 1410, 'views': 1411, 'events': 1412, 'front': 1413, 'sent': 1414, 'sse': 1415, 'stream': 1416, 'updates': 1417, 'angular': 1418, 'fast': 1419, 'fit': 1420, 'hyperparameters': 1421, 'optimal': 1422, 'according': 1423, 'analytical': 1424, 'companies': 1425, 'documents': 1426, 'languages': 1427, 'learner': 1428, 'mac': 1429, 'maintainable': 1430, 'operating': 1431, 'reliable': 1432, 'requirements': 1433, 'six': 1434, 'specialization': 1435, 'transactional': 1436, 'virtualbox': 1437, 'vmware': 1438, 'workbench': 1439, 'volume': 1440, 'warehouses': 1441, 'aggregates': 1442, 'atomic': 1443, 'characteristics': 1444, 'columnar': 1445, 'denormalization': 1446, 'differences': 1447, 'main': 1448, 'neo4j': 1449, 'optimize': 1450, 'part': 1451, 'sapiq': 1452, 'value': 1453, 'america': 1454, 'assignments': 1455, 'assumes': 1456, 'begin': 1457, 'combine': 1458, 'come': 1459, 'communicating': 1460, 'deliver': 1461, 'editor': 1462, 'final': 1463, 'glassdoor': 1464, 'governance': 1465, 'inc': 1466, 'increased': 1467, 'institute': 1468, 'interacting': 1469, 'interpret': 1470, 'landing': 1471, 'mathematician': 1472, 'median': 1473, 'necessary': 1474, 'numbers': 1475, 'occupation': 1476, 'openings': 1477, 'organization': 1478, 'pare': 1479, 'prerequisites': 1480, 'primer': 1481, 'professional': 1482, 'profiling': 1483, 'purposes': 1484, 'recommended': 1485, 'retrieve': 1486, 'salary': 1487, 'sas': 1488, 'scientist': 1489, 'select': 1490, 'shape': 1491, 'skilled': 1492, 'spotter': 1493, 'starts': 1494, 'statements': 1495, 'step': 1496, 'strings': 1497, 'targeted': 1498, 'think': 1499, 'thousands': 1500, 'trend': 1501, 'versed': 1502, 'waiting': 1503, 'adaptive': 1504, 'adept': 1505, 'caching': 1506, 'combining': 1507, 'compute': 1508, 'connecting': 1509, 'databricks': 1510, 'delta': 1511, 'distributes': 1512, 'execution': 1513, 'focuses': 1514, 'four': 1515, 'grade': 1516, 'hone': 1517, 'lake': 1518, 'lakehouses': 1519, 'lakes': 1520, 'module': 1521, 'partitions': 1522, 'stage': 1523, 'third': 1524, 'transitioning': 1525, 'troubleshooting': 1526, 'x': 1527, 'acquired': 1528, 'capstone': 1529, 'choose': 1530, 'consider': 1531, 'demands': 1532, 'feedback': 1533, 'fellow': 1534, 'finish': 1535, 'important': 1536, 'initial': 1537, 'learners': 1538, 'participate': 1539, 'peer': 1540, 'piece': 1541, 'present': 1542, 'proposal': 1543, 'qualitative': 1544, 'receive': 1545, 'review': 1546, 'sense': 1547, 'story': 1548, 'successful': 1549, 'surface': 1550, 'taking': 1551, 'tell': 1552, 'worthy': 1553, 'designs': 1554, 'diagramming': 1555, 'diagrams': 1556, 'either': 1557, 'ensure': 1558, 'entire': 1559, 'er': 1560, 'erds': 1561, 'excessive': 1562, 'jump': 1563, 'oracle': 1564, 'reporting': 1565, 'requests': 1566, 'satisfy': 1567, 'book': 1568, 'chapters': 1569, 'crawlers': 1570, 'd3': 1571, 'effort': 1572, 'everybody': 1573, 'gathering': 1574, 'material': 1575, 'sqlite3': 1576, 'storing': 1577, 'succeed': 1578, 'textbook': 1579, 'accomplish': 1580, 'analysts': 1581, 'clean': 1582, 'cleaning': 1583, 'current': 1584, 'dirty': 1585, 'discover': 1586, 'equipped': 1587, 'following': 1588, 'instruct': 1589, 'introductory': 1590, 'spreadsheets': 1591, 'transforming': 1592, 'verify': 1593, 'acid': 1594, 'advantages': 1595, 'atomicity': 1596, 'configurations': 1597, 'consistency': 1598, 'contrast': 1599, 'deployment': 1600, 'durability': 1601, 'elasticsearch': 1602, 'eventual': 1603, 'examine': 1604, 'implemented': 1605, 'implements': 1606, 'indexes': 1607, 'indexing': 1608, 'isolation': 1609, 'soft': 1610, 'supplement': 1611, 'transactions': 1612, 'articulate': 1613, 'conceptual': 1614, 'conduct': 1615, 'dcl': 1616, 'ddl': 1617, 'define': 1618, 'differentiate': 1619, 'dml': 1620, 'erd': 1621, 'etl': 1622, 'logical': 1623, 'manipulation': 1624, 'nature': 1625, 'physical': 1626, 'progression': 1627, 'tcl': 1628, 'aims': 1629, 'inheritance': 1630, 'lectures': 1631, 'lesson': 1632, 'libaries': 1633, 'prepare': 1634, 'series': 1635, 'answering': 1636, 'delve': 1637, 'difficulty': 1638, 'impacts': 1639, 'implementations': 1640, 'summary': 1641, 'equivalent': 1642, 'foreign': 1643, 'installation': 1644, 'installing': 1645, 'join': 1646, 'mamp': 1647, 'needed': 1648, 'operation': 1649, 'represent': 1650, 'roles': 1651, 'walk': 1652, 'xampp': 1653, 'blocks': 1654, 'computers': 1655, 'crash': 1656, 'diving': 1657, 'figure': 1658, 'foundations': 1659, 'multitude': 1660, 'avoids': 1661, 'completes': 1662, 'mathematics': 1663, 'moderate': 1664, 'requisites': 1665, 'accompanying': 1666, 'conditional': 1667, 'debugging': 1668, 'describing': 1669, 'draw': 1670, 'executions': 1671, 'exposition': 1672, 'iteration': 1673, 'newcomer': 1674, 'optional': 1675, 'pretty': 1676, 'reason': 1677, 'reasoning': 1678, 'reference': 1679, 'refresher': 1680, 'screen': 1681, 'turtle': 1682, 'vocabulary': 1683, 'background': 1684, 'concept': 1685, 'concise': 1686, 'followed': 1687, 'grading': 1688, 'install': 1689, 'instruction': 1690, 'integrated': 1691, 'intended': 1692, 'little': 1693, 'pace': 1694, 'preferred': 1695, 'similar': 1696, 'solidify': 1697, 'spyder': 1698, 'submit': 1699, 'tries': 1700, 'coding': 1701, 'conditionals': 1702, 'delves': 1703, 'gets': 1704, 'loops': 1705, 'reading': 1706, 'robust': 1707, 'variables': 1708, 'achieve': 1709, 'applies': 1710, 'columns': 1711, 'confidence': 1712, 'configured': 1713, 'distribution': 1714, 'due': 1715, 'evaluate': 1716, 'frequency': 1717, 'generating': 1718, 'indicators': 1719, 'industry': 1720, 'interval': 1721, 'manipulate': 1722, 'population': 1723, 'practicing': 1724, 'readability': 1725, 'recall': 1726, 'save': 1727, 'simplicity': 1728, 'stock': 1729, 'variable': 1730, 'applied': 1731, 'approaches': 1732, 'carry': 1733, 'charting': 1734, 'clusters': 1735, 'described': 1736, 'discussed': 1737, 'discussion': 1738, 'e': 1739, 'engineer': 1740, 'ensembles': 1741, 'evaluating': 1742, 'focusing': 1743, 'g': 1744, 'generalizability': 1745, 'issue': 1746, 'overfitting': 1747, 'particular': 1748, 'plotting': 1749, 'practical': 1750, 'scikit': 1751, 'tackled': 1752, 'taken': 1753, 'toolkit': 1754, 'abstraction': 1755, 'analyses': 1756, 'central': 1757, 'csv': 1758, 'groupby': 1759, 'inferential': 1760, 'manipulating': 1761, 'merge': 1762, 'pivot': 1763, 'tabular': 1764, 'aggregation': 1765, 'answer': 1766, 'inspecting': 1767, 'joining': 1768, 'matplotlib': 1769, 'numpy': 1770, 'summarization': 1771, 'audiences': 1772, 'aws': 1773, 'block': 1774, 'cdn': 1775, 'com': 1776, 'completion': 1777, 'definition': 1778, 'eligible': 1779, 'emergent': 1780, 'enabled': 1781, 'etc': 1782, 'executive': 1783, 'go': 1784, 'grounding': 1785, 'https': 1786, 'iaas': 1787, 'infrastructure': 1788, 'makes': 1789, 'microsoft': 1790, 'networking': 1791, 'offer': 1792, 'org': 1793, 'paas': 1794, 'perspective': 1795, 'prior': 1796, 'private': 1797, 'prominent': 1798, 'providers': 1799, 'provisioning': 1800, 'require': 1801, 'saas': 1802, 'someone': 1803, 'studies': 1804, 'suitable': 1805, 'usecases': 1806, 'verticals': 1807, 'vms': 1808, 'www': 1809, 'youracclaim': 1810, 'azure': 1811, 'delivered': 1812, 'economics': 1813, 'hosting': 1814, 'last': 1815, 'levels': 1816, 'agile': 1817, 'beginners': 1818, 'github': 1819, 'global': 1820, 'hosted': 1821, 'hugo': 1822, 'infrastructures': 1823, 'intermediate': 1824, 'involving': 1825, 'solutions': 1826, 'website': 1827, 'websites': 1828, 'academia': 1829, 'c++': 1830, 'centered': 1831, 'classical': 1832, 'clouds': 1833, 'homework': 1834, 'interviews': 1835, 'managers': 1836, 'philosophies': 1837, 'researchers': 1838, 'stores': 1839, 'trending': 1840, 'offers': 1841, 'primary': 1842, 'second': 1843, 'amazon': 1844, 'archival': 1845, 'balancing': 1846, 'ceph': 1847, 'change': 1848, 'comparing': 1849, 'comprise': 1850, 'defined': 1851, 'drives': 1852, 'dropbox': 1853, 'hard': 1854, 'introducing': 1855, 'jvm': 1856, 'kubernates': 1857, 'maas': 1858, 'major': 1859, 'metal': 1860, 'middleware': 1861, 'modern': 1862, 'moves': 1863, 'organize': 1864, 'provisioned': 1865, 'pure': 1866, 'revolution': 1867, 'rpc': 1868, 'special': 1869, 'talk': 1870, 'view': 1871, 'virtualization': 1872, 'week': 1873, 'wraps': 1874, 'years': 1875, 'bayes': 1876, 'centers': 1877, 'cloudera': 1878, 'cntk': 1879, 'construction': 1880, 'difficulties': 1881, 'disks': 1882, 'disruptive': 1883, 'distributions': 1884, 'enormous': 1885, 'finding': 1886, 'flexible': 1887, 'flow': 1888, 'fpm': 1889, 'giraph': 1890, 'given': 1891, 'hortonworks': 1892, 'huge': 1893, 'ideas': 1894, 'kappa': 1895, 'kmeans': 1896, 'lambda': 1897, 'log': 1898, 'mapr': 1899, 'memories': 1900, 'middle': 1901, 'mxnet': 1902, 'naive': 1903, 'opens': 1904, 'paxos': 1905, 'pregel': 1906, 'processors': 1907, 'programmability': 1908, 'quantities': 1909, 'redis': 1910, 'society': 1911, 'storm': 1912, 'streamed': 1913, 'subscribe': 1914, 'theme': 1915, 'velocity': 1916, 'visit': 1917, 'volumes': 1918, 'comes': 1919, 'daily': 1920, 'entails': 1921, 'exciting': 1922, 'life': 1923, 'maker': 1924, 'mastering': 1925, 'option': 1926, 'paths': 1927, 'profession': 1928, 'responsibilities': 1929, 'scenario': 1930, 'vendors': 1931, 'aspiring': 1932, 'browser': 1933, 'cleansing': 1934, 'cost': 1935, 'demonstrated': 1936, 'desktop': 1937, 'domains': 1938, 'downloads': 1939, 'excel': 1940, 'expand': 1941, 'follow': 1942, 'formatting': 1943, 'live': 1944, 'made': 1945, 'marketing': 1946, 'organized': 1947, 'plenty': 1948, 'readable': 1949, 'research': 1950, 'sheets': 1951, 'sorting': 1952, 'strong': 1953, 'usage': 1954, 'worked': 1955, 'wrangling': 1956, 'achieved': 1957, 'acquainted': 1958, 'activity': 1959, 'discipline': 1960, 'human': 1961, 'researcher': 1962, 'solved': 1963, 'solving': 1964, 'spheres': 1965, 'underlying': 1966, 'combination': 1967, 'dealing': 1968, 'exponential': 1969, 'fitted': 1970, 'forecasts': 1971, 'goodness': 1972, 'holt': 1973, 'intuition': 1974, 'minnesota': 1975, 'missing': 1976, 'opportunities': 1977, 'selection': 1978, 'smoothing': 1979, 'underfitting': 1980, 'values': 1981, 'winter': 1982, 'equip': 1983, 'lets': 1984, 'markdown': 1985, 'packages': 1986, 'seventh': 1987, 'tidyverse': 1988, 'importing': 1989, 'lecture': 1990, 'meaningful': 1991, 'parts': 1992, 'scipy': 1993, 'summarizing': 1994, 'adding': 1995, 'attracted': 1996, 'automate': 1997, 'becomes': 1998, 'broad': 1999, 'categorise': 2000, 'content': 2001, 'coursera': 2002, 'currency': 2003, 'efficient': 2004, 'hundreds': 2005, 'link': 2006, 'lookup': 2007, 'named': 2008, 'paramount': 2009, 'personalize': 2010, 'ranges': 2011, 'ratings': 2012, 'repertoire': 2013, 'sequel': 2014, 'specializations': 2015, 'trials': 2016, 'tribulations': 2017, 'zara': 2018, 'acquiring': 2019, 'calculus': 2020, 'categorical': 2021, 'detecting': 2022, 'familiarity': 2023, 'hypothesis': 2024, 'ordinal': 2025, 'outliers': 2026, 'quality': 2027, 'realize': 2028, 'targets': 2029, 'aim': 2030, 'functioning': 2031, 'keeping': 2032, 'mind': 2033, 'organizing': 2034, 'peripheral': 2035, 'widespread': 2036, 'ad': 2037, 'constructing': 2038, 'datafframes': 2039, 'deal': 2040, 'disk': 2041, 'doubt': 2042, 'executing': 2043, 'graphframes': 2044, 'graphs': 2045, 'hoc': 2046, 'leaving': 2047, 'maximum': 2048, 'mountain': 2049, 'optimizing': 2050, 'productive': 2051, 'space': 2052, 'stones': 2053, 'stop': 2054, 'strain': 2055, 'struggling': 2056, 'tackle': 2057, 'transformations': 2058, 'translated': 2059, 'workflow': 2060, 'alerts': 2061, 'containerized': 2062, 'deployed': 2063, 'flask': 2064, 'gcp': 2065, 'kaizen': 2066, 'aca': 2067, 'alibaba': 2068, 'certification': 2069, 'commercial': 2070, 'consist': 2071, 'contain': 2072, 'demonstrates': 2073, 'ecr': 2074, 'ecs': 2075, 'eks': 2076, 'elastic': 2077, 'exam': 2078, 'executable': 2079, 'existed': 2080, 'expert': 2081, 'extra': 2082, 'function': 2083, 'helps': 2084, 'implementation': 2085, 'instructors': 2086, 'lightsail': 2087, 'modernize': 2088, 'monolithic': 2089, 'orchestrate': 2090, 'popularity': 2091, 'prevalent': 2092, 'regardless': 2093, 'registry': 2094, 'starting': 2095, 'stopping': 2096, 'traditional': 2097, 'trainers': 2098, 'video': 2099, 'daemon': 2100, 'demand': 2101, 'devoted': 2102, 'drill': 2103, 'fifth': 2104, 'ports': 2105, '—': 2106, 'act': 2107, 'anti': 2108, 'audio': 2109, 'bias': 2110, 'cars': 2111, 'datamining': 2112, 'decade': 2113, 'dozens': 2114, 'driving': 2115, 'genome': 2116, 'iii': 2117, 'improved': 2118, 'informatics': 2119, 'innovation': 2120, 'kernels': 2121, 'knowing': 2122, 'numerous': 2123, 'parametric': 2124, 'past': 2125, 'pattern': 2126, 'perception': 2127, 'pertains': 2128, 'pervasive': 2129, 'programmed': 2130, 'progress': 2131, 'silicon': 2132, 'theoretical': 2133, 'theory': 2134, 'towards': 2135, 'underpinnings': 2136, 'valley': 2137, 'vector': 2138, 'vision': 2139, 'affect': 2140, 'believe': 2141, 'breakthroughs': 2142, 'cocacola': 2143, 'considering': 2144, 'details': 2145, 'diagnostics': 2146, 'ebay': 2147, 'facial': 2148, 'fiction': 2149, 'goldsmiths': 2150, 'guiding': 2151, 'herald': 2152, 'involve': 2153, 'likely': 2154, 'lives': 2155, 'logistic': 2156, 'london': 2157, 'math': 2158, 'moment': 2159, 'multilayer': 2160, 'nb': 2161, 'needing': 2162, 'perceptrons': 2163, 'prediction': 2164, 'recognise': 2165, 'reputation': 2166, 'requiring': 2167, 'revolutionise': 2168, 'self': 2169, 'stories': 2170, 'tech': 2171, 'uber': 2172, 'entities': 2173, 'fields': 2174, 'furthering': 2175, 'instrumental': 2176, 'secret': 2177, 'syntactic': 2178, 'transcription': 2179, 'accuracy': 2180, 'agility': 2181, 'automated': 2182, 'bert': 2183, 'elasticity': 2184, 'exceeds': 2185, 'fine': 2186, 'focused': 2187, 'geared': 2188, 'hugging': 2189, 'local': 2190, 'loop': 2191, 'massive': 2192, 'minimum': 2193, 'originate': 2194, 'pipeline': 2195, 'sagemaker': 2196, 'store': 2197, 'threshold': 2198, 'tune': 2199, 'wikipedia': 2200, 'baseline': 2201, 'drift': 2202, 'expertise': 2203, 'improving': 2204, 'productionized': 2205, 'prototype': 2206, 'scoping': 2207, 'strategies': 2208, 'assessing': 2209, 'evolution': 2210, 'extended': 2211, 'lineage': 2212, 'metadata': 2213, 'provenance': 2214, 'automation': 2215, 'avoid': 2216, 'batch': 2217, 'complies': 2218, 'decay': 2219, 'delivery': 2220, 'depending': 2221, 'drops': 2222, 'fourth': 2223, 'keep': 2224, 'logging': 2225, 'mlops': 2226, 'operate': 2227, 'progressive': 2228, 'remediate': 2229, 'serving': 2230, 'activation': 2231, 'alexnet': 2232, 'cnn': 2233, 'duck': 2234, 'famous': 2235, 'fcn': 2236, 'label': 2237, 'localization': 2238, 'localize': 2239, 'mask': 2240, 'net': 2241, 'pets': 2242, 'rcnn': 2243, 'regional': 2244, 'resnet': 2245, 'rubber': 2246, 'saliency': 2247, 'segmentation': 2248, 'transfer': 2249, 'u': 2250, 'variations': 2251, 'zombies': 2252, 'admissions': 2253, 'boulder': 2254, 'classic': 2255, 'cu': 2256, 'departments': 2257, 'drawbacks': 2258, 'ds': 2259, 'estimation': 2260, 'faculty': 2261, 'individuals': 2262, 'interdisciplinary': 2263, 'ms': 2264, 'others': 2265, 'pose': 2266, 'suggested': 2267, 'undergraduate': 2268, 'added': 2269, 'boost': 2270, 'editing': 2271, 'everyday': 2272, 'internal': 2273, 'mechanics': 2274, 'motion': 2275, 'movies': 2276, 'stylization': 2277, 'turning': 2278, 'tv': 2279, '3d': 2280, 'co': 2281, 'color': 2282, 'crucial': 2283, 'curious': 2284, 'derivatives': 2285, 'desire': 2286, 'else': 2287, 'formation': 2288, 'html': 2289, 'humans': 2290, 'imaging': 2291, 'mathworks': 2292, 'matlab': 2293, 'matrix': 2294, 'mid': 2295, 'mission': 2296, 'neuroscience': 2297, 'notation': 2298, 'onramp': 2299, 'ordinate': 2300, 'receiving': 2301, 'signal': 2302, 'astronomical': 2303, 'bio': 2304, 'blur': 2305, 'car': 2306, 'cases': 2307, 'compression': 2308, 'continues': 2309, 'degradations': 2310, 'dimensional': 2311, 'economical': 2312, 'electromagnetic': 2313, 'emphasis': 2314, 'enhancement': 2315, 'experiencing': 2316, 'gamma': 2317, 'industrial': 2318, 'infrared': 2319, 'interests': 2320, 'multimedia': 2321, 'pertaining': 2322, 'plays': 2323, 'rays': 2324, 'recovery': 2325, 'removal': 2326, 'removing': 2327, 'scientific': 2328, 'signals': 2329, 'skill': 2330, 'sparsity': 2331, 'spatial': 2332, 'spatio': 2333, 'spectrum': 2334, 'toolboxes': 2335, 'transmission': 2336, 'utilized': 2337, 'visible': 2338, '–': 2339, 'andrew': 2340, 'deeplearning': 2341, 'ng': 2342, 'upcoming': 2343, 'augmentation': 2344, 'convolutions': 2345, 'dropout': 2346, 'extracted': 2347, 'loss': 2348, 'plot': 2349, 'prevent': 2350, 'sees': 2351, 'shapes': 2352, 'sizes': 2353, '“': 2354, '”': 2355, 'convenient': 2356, 'fluff': 2357, 'left': 2358, 'mean': 2359, 'possible': 2360, 'sacrificing': 2361, 'team': 2362, 'unsuccessful': 2363, 'actionable': 2364, 'active': 2365, 'analytic': 2366, 'assembling': 2367, 'assumptions': 2368, 'causal': 2369, 'challenge': 2370, 'clear': 2371, 'conclusions': 2372, 'confounding': 2373, 'contrasting': 2374, 'counterfactuals': 2375, 'errors': 2376, 'facing': 2377, 'glimpse': 2378, 'happened': 2379, 'happens': 2380, 'hypotheses': 2381, 'merging': 2382, 'messy': 2383, 'obvious': 2384, 'outlined': 2385, 'performed': 2386, 'pitfalls': 2387, 'plan': 2388, 'pull': 2389, 'pulling': 2390, 'pulls': 2391, 'randomization': 2392, 'statisticians': 2393, 'strengths': 2394, 'treatment': 2395, 'versus': 2396, 'weaknesses': 2397, 'went': 2398, 'assess': 2399, 'conducted': 2400, 'drawn': 2401, 'employers': 2402, 'government': 2403, 'partners': 2404, 'potential': 2405, 'usable': 2406, 'collaboration': 2407, 'datacamp': 2408, 'eds': 2409, 'evaluated': 2410, 'graded': 2411, 'lead': 2412, 'marketplace': 2413, 'participants': 2414, 'rental': 2415, 'shepherd': 2416, 'zillow': 2417, 'accessible': 2418, 'architectural': 2419, 'conversant': 2420, 'era': 2421, 'explanation': 2422, 'recast': 2423, 'sensors': 2424, 'thinking': 2425, 'utilize': 2426, 'v': 2427, 'valence': 2428, 'veracity': 2429, 'appreciate': 2430, 'appropriate': 2431, 'asterixdb': 2432, 'collect': 2433, 'connections': 2434, 'evolving': 2435, 'frequent': 2436, 'genres': 2437, 'hp': 2438, 'identified': 2439, 'impala': 2440, 'intro': 2441, 'plethora': 2442, 'refer': 2443, 'semi': 2444, 'sparksql': 2445, 'specifications': 2446, 'suit': 2447, 'untapped': 2448, 'vertica': 2449, 'construct': 2450, 'incorporate': 2451, 'bring': 2452, 'catch': 2453, 'compelling': 2454, 'engaging': 2455, 'generated': 2456, 'gephi': 2457, 'imaginary': 2458, 'knime': 2459, 'leadership': 2460, 'office': 2461, 'pink': 2462, 'preparing': 2463, 'presentations': 2464, 'recruiters': 2465, 'simulating': 2466, 'slide': 2467, 'splunk': 2468, 'computational': 2469, 'exist': 2470, 'finance': 2471, 'grasp': 2472, 'internals': 2473, 'miss': 2474, 'missed': 2475, 'serve': 2476, 'telecommunications': 2477, 'texts': 2478, 'workhorse': 2479, 'affects': 2480, 'choice': 2481, 'dialects': 2482, 'distinguish': 2483, 'exploration': 2484, 'operational': 2485, 'addresses': 2486, 'clauses': 2487, 'engines': 2488, 'filter': 2489, 'grouping': 2490, 'limiting': 2491, 'navigate': 2492, 'statement': 2493, '•': 2494, 'cycle': 2495, 'enrolling': 2496, 'phases': 2497, 'conversations': 2498, 'empowered': 2499, 'explaining': 2500, 'novice': 2501, 'programmers': 2502, 'wrangle': 2503, 'adaptable': 2504, 'hourly': 2505, 'noaa': 2506, 'period': 2507, 'precipitation': 2508, 'rates': 2509, 'studio': 2510, 'suited': 2511, 'ten': 2512, 'wisconsin': 2513, 'attention': 2514, 'author': 2515, 'bensouda': 2516, 'brain': 2517, 'decoder': 2518, 'encoder': 2519, 'english': 2520, 'german': 2521, 'helped': 2522, 'instructor': 2523, 'keras': 2524, 'mourri': 2525, 'please': 2526, 'question': 2527, 'sentences': 2528, 'sequence': 2529, 'staff': 2530, 'stanford': 2531, 'sure': 2532, 't5': 2533, 'tensor2tensor': 2534, 'transformer': 2535, 'trax': 2536, 'younes': 2537, 'corpus': 2538, 'embeddings': 2539, 'gated': 2540, 'generate': 2541, 'glove': 2542, 'gru': 2543, 'layers': 2544, 'lstm': 2545, 'lstms': 2546, 'recurrent': 2547, 'shakespeare': 2548, 'siamese': 2549, 'synthetic': 2550, 'word': 2551, 'worded': 2552, '‘': 2553, 'auto': 2554, 'bag': 2555, 'better': 2556, 'continuous': 2557, 'correct': 2558, 'distance': 2559, 'edit': 2560, 'gram': 2561, 'linguistics': 2562, 'n': 2563, 'pos': 2564, 'probabilistic': 2565, 'tagging': 2566, 'vital': 2567, 'viterbi': 2568, 'word2vec': 2569, 'words': 2570, 'commenting': 2571, 'generic': 2572, 'conjunction': 2573, 'difficult': 2574, 'figures': 2575, 'fill': 2576, 'guidance': 2577, 'intimidating': 2578, 'limited': 2579, 'quantitative': 2580, 'reproducible': 2581, 'say': 2582, 'sort': 2583, 'worker': 2584, 'numeric': 2585, 'rule': 2586, 'sampling': 2587, 'scope': 2588, '1st': 2589, 'assumption': 2590, 'balance': 2591, 'bonds': 2592, 'earnings': 2593, 'excellent': 2594, 'expected': 2595, 'extend': 2596, 'lasso': 2597, 'regressions': 2598, 'ridge': 2599, 'stocks': 2600, 'ggplot': 2601, 'ggplot2': 2602, 'hopkins': 2603, 'johns': 2604, 'polish': 2605, 'scenes': 2606, 'works': 2607, 'console': 2608, 'contributions': 2609, 'fluency': 2610, 'rigorous': 2611, 'settings': 2612, 'textual': 2613, 'tidy': 2614, 'ajax': 2615, 'coder': 2616, 'css': 2617, 'desired': 2618, 'devices': 2619, 'expects': 2620, 'ground': 2621, 'interacts': 2622, 'irrelevant': 2623, 'pages': 2624, 'phone': 2625, 'phones': 2626, 'pinch': 2627, 'rearrange': 2628, 'resize': 2629, 'size': 2630, 'tablets': 2631, 'thorough': 2632, 'ubiquitous': 2633, 'utilizes': 2634, 'zoom': 2635, 'ample': 2636, 'arrays': 2637, 'assessed': 2638, 'assign': 2639, 'interactions': 2640, 'lacking': 2641, 'recommendations': 2642, 'releases': 2643, 'written': 2644, 'aspect': 2645, 'brief': 2646, 'dom': 2647, 'exchange': 2648, 'jquery': 2649, 'oo': 2650, 'oriented': 2651, 'alert': 2652, 'button': 2653, 'canvas': 2654, 'classes': 2655, 'divs': 2656, 'filters': 2657, 'ids': 2658, 'links': 2659, 'onchange': 2660, 'onclick': 2661, 'paragraphs': 2662, 'slider': 2663, 'styles': 2664, 'upload': 2665, 'animation': 2666, 'bootstrap': 2667, 'communication': 2668, 'controlled': 2669, 'es': 2670, 'es6': 2671, 'explores': 2672, 'fetch': 2673, 'flux': 2674, 'react': 2675, 'reactstrap': 2676, 'redux': 2677, 'responsive': 2678, 'rounds': 2679, 'router': 2680, 'tour': 2681, 'billion': 2682, 'browsers': 2683, 'entertainment': 2684, 'interact': 2685, 'webpages': 2686, 'breaking': 2687, 'deleting': 2688, 'interactivity': 2689, 'manageable': 2690, 'modifying': 2691, 'objectives': 2692, 'pieces': 2693, 'plugins': 2694, 'populate': 2695}\n"
     ]
    }
   ],
   "source": [
    "# WRITE YOUR CODE HERE\n",
    "\n",
    "tokens_dict = gensim.corpora.Dictionary(tokenized_courses)\n",
    "print(tokens_dict.token2id)"
   ]
  },
  {
   "cell_type": "markdown",
   "metadata": {},
   "source": [
    "Then we can use `doc2bow()` method to generate BoW features for each tokenized course.\n"
   ]
  },
  {
   "cell_type": "markdown",
   "metadata": {},
   "source": [
    "_TODO: Use tokens_dict.doc2bow() to generate BoW features for each tokenized course._\n"
   ]
  },
  {
   "cell_type": "code",
   "execution_count": 31,
   "metadata": {},
   "outputs": [],
   "source": [
    "# WRITE YOUR CODE HERE\n",
    "\n",
    "courses_bow = [tokens_dict.doc2bow(course) for course in tokenized_courses]"
   ]
  },
  {
   "cell_type": "markdown",
   "metadata": {},
   "source": [
    "<details>\n",
    "    <summary>Click here for Hints</summary>\n",
    "    \n",
    "You can use `tokens_dict.doc2bow(course)` command  for each course in `tokenized_courses`\n"
   ]
  },
  {
   "cell_type": "markdown",
   "metadata": {},
   "source": [
    "Lastly, you need to append the BoW features for each course into a new BoW dataframe. The new dataframe needs to include the following columns (you may include other relevant columns as well):\n",
    "- 'doc_index': the course index starting from 0\n",
    "- 'doc_id': the actual course id such as `ML0201EN`\n",
    "- 'token': the tokens for each course\n",
    "- 'bow': the bow value for each token\n"
   ]
  },
  {
   "cell_type": "markdown",
   "metadata": {},
   "source": [
    "_TODO: Create a new course_bow dataframe based on the extracted BoW features._\n"
   ]
  },
  {
   "cell_type": "code",
   "execution_count": 32,
   "metadata": {},
   "outputs": [
    {
     "data": {
      "text/html": [
       "<div>\n",
       "<style scoped>\n",
       "    .dataframe tbody tr th:only-of-type {\n",
       "        vertical-align: middle;\n",
       "    }\n",
       "\n",
       "    .dataframe tbody tr th {\n",
       "        vertical-align: top;\n",
       "    }\n",
       "\n",
       "    .dataframe thead th {\n",
       "        text-align: right;\n",
       "    }\n",
       "</style>\n",
       "<table border=\"1\" class=\"dataframe\">\n",
       "  <thead>\n",
       "    <tr style=\"text-align: right;\">\n",
       "      <th></th>\n",
       "      <th>index</th>\n",
       "      <th>COURSE_ID</th>\n",
       "      <th>TITLE</th>\n",
       "      <th>DESCRIPTION</th>\n",
       "      <th>course_texts</th>\n",
       "    </tr>\n",
       "  </thead>\n",
       "  <tbody>\n",
       "    <tr>\n",
       "      <th>0</th>\n",
       "      <td>0</td>\n",
       "      <td>ML0201EN</td>\n",
       "      <td>robots are coming  build iot apps with watson ...</td>\n",
       "      <td>have fun with iot and learn along the way  if ...</td>\n",
       "      <td>robots are coming  build iot apps with watson ...</td>\n",
       "    </tr>\n",
       "    <tr>\n",
       "      <th>1</th>\n",
       "      <td>1</td>\n",
       "      <td>ML0122EN</td>\n",
       "      <td>accelerating deep learning with gpu</td>\n",
       "      <td>training complex deep learning models with lar...</td>\n",
       "      <td>accelerating deep learning with gpu training c...</td>\n",
       "    </tr>\n",
       "    <tr>\n",
       "      <th>2</th>\n",
       "      <td>2</td>\n",
       "      <td>GPXX0ZG0EN</td>\n",
       "      <td>consuming restful services using the reactive ...</td>\n",
       "      <td>learn how to use a reactive jax rs client to a...</td>\n",
       "      <td>consuming restful services using the reactive ...</td>\n",
       "    </tr>\n",
       "    <tr>\n",
       "      <th>3</th>\n",
       "      <td>3</td>\n",
       "      <td>RP0105EN</td>\n",
       "      <td>analyzing big data in r using apache spark</td>\n",
       "      <td>apache spark is a popular cluster computing fr...</td>\n",
       "      <td>analyzing big data in r using apache spark apa...</td>\n",
       "    </tr>\n",
       "    <tr>\n",
       "      <th>4</th>\n",
       "      <td>4</td>\n",
       "      <td>GPXX0Z2PEN</td>\n",
       "      <td>containerizing  packaging  and running a sprin...</td>\n",
       "      <td>learn how to containerize  package  and run a ...</td>\n",
       "      <td>containerizing  packaging  and running a sprin...</td>\n",
       "    </tr>\n",
       "    <tr>\n",
       "      <th>...</th>\n",
       "      <td>...</td>\n",
       "      <td>...</td>\n",
       "      <td>...</td>\n",
       "      <td>...</td>\n",
       "      <td>...</td>\n",
       "    </tr>\n",
       "    <tr>\n",
       "      <th>302</th>\n",
       "      <td>302</td>\n",
       "      <td>excourse89</td>\n",
       "      <td>javascript  jquery  and json</td>\n",
       "      <td>in this course  we ll look at the javascript l...</td>\n",
       "      <td>javascript  jquery  and json in this course  w...</td>\n",
       "    </tr>\n",
       "    <tr>\n",
       "      <th>303</th>\n",
       "      <td>303</td>\n",
       "      <td>excourse90</td>\n",
       "      <td>programming foundations with javascript  html ...</td>\n",
       "      <td>learn foundational programming concepts  e g  ...</td>\n",
       "      <td>programming foundations with javascript  html ...</td>\n",
       "    </tr>\n",
       "    <tr>\n",
       "      <th>304</th>\n",
       "      <td>304</td>\n",
       "      <td>excourse91</td>\n",
       "      <td>front end web development with react</td>\n",
       "      <td>this course explores javascript based front en...</td>\n",
       "      <td>front end web development with react this cour...</td>\n",
       "    </tr>\n",
       "    <tr>\n",
       "      <th>305</th>\n",
       "      <td>305</td>\n",
       "      <td>excourse92</td>\n",
       "      <td>introduction to web development</td>\n",
       "      <td>this course is designed to start you on a path...</td>\n",
       "      <td>introduction to web development this course is...</td>\n",
       "    </tr>\n",
       "    <tr>\n",
       "      <th>306</th>\n",
       "      <td>306</td>\n",
       "      <td>excourse93</td>\n",
       "      <td>interactivity with javascript and jquery</td>\n",
       "      <td>this course is the third in our javascript for...</td>\n",
       "      <td>interactivity with javascript and jquery this ...</td>\n",
       "    </tr>\n",
       "  </tbody>\n",
       "</table>\n",
       "<p>307 rows × 5 columns</p>\n",
       "</div>"
      ],
      "text/plain": [
       "     index   COURSE_ID                                              TITLE  \\\n",
       "0        0    ML0201EN  robots are coming  build iot apps with watson ...   \n",
       "1        1    ML0122EN                accelerating deep learning with gpu   \n",
       "2        2  GPXX0ZG0EN  consuming restful services using the reactive ...   \n",
       "3        3    RP0105EN         analyzing big data in r using apache spark   \n",
       "4        4  GPXX0Z2PEN  containerizing  packaging  and running a sprin...   \n",
       "..     ...         ...                                                ...   \n",
       "302    302  excourse89                       javascript  jquery  and json   \n",
       "303    303  excourse90  programming foundations with javascript  html ...   \n",
       "304    304  excourse91               front end web development with react   \n",
       "305    305  excourse92                    introduction to web development   \n",
       "306    306  excourse93           interactivity with javascript and jquery   \n",
       "\n",
       "                                           DESCRIPTION  \\\n",
       "0    have fun with iot and learn along the way  if ...   \n",
       "1    training complex deep learning models with lar...   \n",
       "2    learn how to use a reactive jax rs client to a...   \n",
       "3    apache spark is a popular cluster computing fr...   \n",
       "4    learn how to containerize  package  and run a ...   \n",
       "..                                                 ...   \n",
       "302  in this course  we ll look at the javascript l...   \n",
       "303  learn foundational programming concepts  e g  ...   \n",
       "304  this course explores javascript based front en...   \n",
       "305  this course is designed to start you on a path...   \n",
       "306  this course is the third in our javascript for...   \n",
       "\n",
       "                                          course_texts  \n",
       "0    robots are coming  build iot apps with watson ...  \n",
       "1    accelerating deep learning with gpu training c...  \n",
       "2    consuming restful services using the reactive ...  \n",
       "3    analyzing big data in r using apache spark apa...  \n",
       "4    containerizing  packaging  and running a sprin...  \n",
       "..                                                 ...  \n",
       "302  javascript  jquery  and json in this course  w...  \n",
       "303  programming foundations with javascript  html ...  \n",
       "304  front end web development with react this cour...  \n",
       "305  introduction to web development this course is...  \n",
       "306  interactivity with javascript and jquery this ...  \n",
       "\n",
       "[307 rows x 5 columns]"
      ]
     },
     "execution_count": 32,
     "metadata": {},
     "output_type": "execute_result"
    }
   ],
   "source": [
    "course_content_df"
   ]
  },
  {
   "cell_type": "code",
   "execution_count": 33,
   "metadata": {},
   "outputs": [
    {
     "data": {
      "text/html": [
       "<div>\n",
       "<style scoped>\n",
       "    .dataframe tbody tr th:only-of-type {\n",
       "        vertical-align: middle;\n",
       "    }\n",
       "\n",
       "    .dataframe tbody tr th {\n",
       "        vertical-align: top;\n",
       "    }\n",
       "\n",
       "    .dataframe thead th {\n",
       "        text-align: right;\n",
       "    }\n",
       "</style>\n",
       "<table border=\"1\" class=\"dataframe\">\n",
       "  <thead>\n",
       "    <tr style=\"text-align: right;\">\n",
       "      <th></th>\n",
       "      <th>doc_index</th>\n",
       "      <th>doc_id</th>\n",
       "      <th>token</th>\n",
       "      <th>bow</th>\n",
       "    </tr>\n",
       "  </thead>\n",
       "  <tbody>\n",
       "    <tr>\n",
       "      <th>0</th>\n",
       "      <td>0</td>\n",
       "      <td>ML0201EN</td>\n",
       "      <td>ai</td>\n",
       "      <td>2</td>\n",
       "    </tr>\n",
       "    <tr>\n",
       "      <th>1</th>\n",
       "      <td>0</td>\n",
       "      <td>ML0201EN</td>\n",
       "      <td>apps</td>\n",
       "      <td>2</td>\n",
       "    </tr>\n",
       "    <tr>\n",
       "      <th>2</th>\n",
       "      <td>0</td>\n",
       "      <td>ML0201EN</td>\n",
       "      <td>build</td>\n",
       "      <td>2</td>\n",
       "    </tr>\n",
       "    <tr>\n",
       "      <th>3</th>\n",
       "      <td>0</td>\n",
       "      <td>ML0201EN</td>\n",
       "      <td>cloud</td>\n",
       "      <td>1</td>\n",
       "    </tr>\n",
       "    <tr>\n",
       "      <th>4</th>\n",
       "      <td>0</td>\n",
       "      <td>ML0201EN</td>\n",
       "      <td>coming</td>\n",
       "      <td>1</td>\n",
       "    </tr>\n",
       "  </tbody>\n",
       "</table>\n",
       "</div>"
      ],
      "text/plain": [
       "   doc_index    doc_id   token  bow\n",
       "0          0  ML0201EN      ai    2\n",
       "1          0  ML0201EN    apps    2\n",
       "2          0  ML0201EN   build    2\n",
       "3          0  ML0201EN   cloud    1\n",
       "4          0  ML0201EN  coming    1"
      ]
     },
     "execution_count": 33,
     "metadata": {},
     "output_type": "execute_result"
    }
   ],
   "source": [
    "# WRITE YOUR CODE HERE\n",
    "\n",
    "doc_indices = []\n",
    "doc_ids = []\n",
    "tokens = []\n",
    "bow_values = []\n",
    "\n",
    "for course_idx, course_bow in enumerate(courses_bow):\n",
    "    # print(f\"Bag of words for course {course_idx}:\")\n",
    "    # For each token index, print its bow value (word count)\n",
    "    for token_index, token_bow in course_bow:\n",
    "        token = tokens_dict.get(token_index)\n",
    "        \n",
    "        doc_indices.append(course_idx)\n",
    "        doc_ids.append(course_content_df.loc[course_idx].COURSE_ID)\n",
    "        tokens.append(token)\n",
    "        bow_values.append(token_bow)\n",
    "        \n",
    "        # print(f\"--Token: '{token}', Count:{token_bow}\")\n",
    "\n",
    "bow_dicts = {\"doc_index\": doc_indices,\n",
    "       \"doc_id\": doc_ids,\n",
    "       \"token\": tokens,\n",
    "       \"bow\": bow_values}\n",
    "pd.DataFrame(bow_dicts).head()"
   ]
  },
  {
   "cell_type": "markdown",
   "metadata": {},
   "source": [
    "<details>\n",
    "    <summary>Click here for Hints</summary>\n",
    "    \n",
    "You can use 2 for-loops to create your data frame: first one will be `for doc_index, doc_bow in enumerate(bow_docs):` where bow_docs is the list of BoW features for each tokenized course and within this for-loop you will have another loop `for token_index, token_bow in doc_bow:`. Then you can get each \"token\" by applying the `token_index` to your `token_dict`,  `token_bow` will give you \"bow\" values, `doc_indices` will give you values for  \"doc_index\" and you can get \"doc_id\" by using `courses_df['COURSE_ID']` list and `doc_index` as indexes.\n"
   ]
  },
  {
   "cell_type": "markdown",
   "metadata": {},
   "source": [
    "Your course BoW dataframe may look like the following:\n"
   ]
  },
  {
   "cell_type": "markdown",
   "metadata": {},
   "source": [
    "![](https://cf-courses-data.s3.us.cloud-object-storage.appdomain.cloud/IBM-ML321EN-SkillsNetwork/labs/module_2/images/bow_dataset.png)\n"
   ]
  },
  {
   "cell_type": "markdown",
   "metadata": {},
   "source": [
    "You may refer to previous code examples in this lab if you need help with creating the BoW dataframe.\n"
   ]
  },
  {
   "cell_type": "markdown",
   "metadata": {},
   "source": [
    "### Other popular textual features\n"
   ]
  },
  {
   "cell_type": "markdown",
   "metadata": {},
   "source": [
    "In addition to the basic token BoW feature, there are two other types of widely used textual features. If you are interested, you may explore them yourself to learn how to extract them from the course textual content: \n"
   ]
  },
  {
   "cell_type": "markdown",
   "metadata": {},
   "source": [
    "- **tf-idf**: tf-idf refers to Term Frequency–Inverse Document Frequency. Similar to BoW, the tf-idf also counts the word frequencies in each document. Furthermore, tf-idf will  offset the number of documents in the corpus that contain the word in order to adjust for the fact that some words appear more frequently in general. The higher the tf-idf normally means the greater the importance the word/token is.\n",
    "- **Text embedding vector**. Embedding means projecting an object into a latent feature space. We normally employ neural networks or deep neural networks to learn the latent features of a textual object such as a word, a sentence, or the entire document. The learned latent feature vectors will be used to represent the original textual entities. \n"
   ]
  },
  {
   "cell_type": "markdown",
   "metadata": {},
   "source": [
    "### Summary\n"
   ]
  },
  {
   "cell_type": "markdown",
   "metadata": {},
   "source": [
    "Congratulations, you have completed the BoW feature extraction lab. In this lab, you have learned and practiced extracting BoW features from course titles and descriptions. Once the feature vectors on the courses has been built, we can then apply machine learning algorithms such as similarity measurements, clustering, or classification on the courses in later labs.\n"
   ]
  },
  {
   "cell_type": "markdown",
   "metadata": {},
   "source": [
    "## Authors\n"
   ]
  },
  {
   "cell_type": "markdown",
   "metadata": {},
   "source": [
    "[Yan Luo](https://www.linkedin.com/in/yan-luo-96288783/?utm_medium=Exinfluencer&utm_source=Exinfluencer&utm_content=000026UJ&utm_term=10006555&utm_id=NA-SkillsNetwork-Channel-SkillsNetworkCoursesIBMML321ENSkillsNetwork817-2022-01-01)\n"
   ]
  },
  {
   "cell_type": "markdown",
   "metadata": {},
   "source": [
    "### Other Contributors\n"
   ]
  },
  {
   "cell_type": "markdown",
   "metadata": {},
   "source": [
    "## Change Log\n"
   ]
  },
  {
   "cell_type": "markdown",
   "metadata": {},
   "source": [
    "|Date (YYYY-MM-DD)|Version|Changed By|Change Description|\n",
    "|-|-|-|-|\n",
    "|2021-10-25|1.0|Yan|Created the initial version|\n"
   ]
  },
  {
   "cell_type": "markdown",
   "metadata": {},
   "source": [
    "Copyright © 2021 IBM Corporation. All rights reserved.\n"
   ]
  }
 ],
 "metadata": {
  "kernelspec": {
   "display_name": "Python",
   "language": "python",
   "name": "conda-env-python-py"
  },
  "language_info": {
   "codemirror_mode": {
    "name": "ipython",
    "version": 3
   },
   "file_extension": ".py",
   "mimetype": "text/x-python",
   "name": "python",
   "nbconvert_exporter": "python",
   "pygments_lexer": "ipython3",
   "version": "3.7.12"
  }
 },
 "nbformat": 4,
 "nbformat_minor": 4
}
