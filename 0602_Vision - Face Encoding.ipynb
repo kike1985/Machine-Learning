{
 "cells": [
  {
   "cell_type": "code",
   "execution_count": 1,
   "id": "8091ea6f",
   "metadata": {
    "ExecuteTime": {
     "end_time": "2022-08-06T15:36:24.736902Z",
     "start_time": "2022-08-06T15:36:24.688535Z"
    },
    "colab": {
     "base_uri": "https://localhost:8080/"
    },
    "executionInfo": {
     "elapsed": 34839,
     "status": "ok",
     "timestamp": 1659726371573,
     "user": {
      "displayName": "Enrique Reyes",
      "userId": "15575275169582460234"
     },
     "user_tz": 300
    },
    "id": "8091ea6f",
    "outputId": "c6cfa400-121f-425a-dbf3-4ca74f8ca37e"
   },
   "outputs": [],
   "source": [
    "w_python = !which python\n",
    "if 'home' in w_python[0]:\n",
    "    resources_prefix = ''\n",
    "else:\n",
    "    !pip install watermark filetype face_recognition\n",
    "\n",
    "    from google.colab import drive\n",
    "    drive.mount('/content/drive')\n",
    "\n",
    "    resources_prefix = '/content/drive/MyDrive/Machine Learning/Notebooks/0602_Vision - Face Encoding/'"
   ]
  },
  {
   "cell_type": "code",
   "execution_count": null,
   "id": "2bf47582",
   "metadata": {
    "ExecuteTime": {
     "end_time": "2022-08-05T19:12:54.007426Z",
     "start_time": "2022-08-05T19:12:54.002457Z"
    },
    "executionInfo": {
     "elapsed": 10,
     "status": "ok",
     "timestamp": 1659726371574,
     "user": {
      "displayName": "Enrique Reyes",
      "userId": "15575275169582460234"
     },
     "user_tz": 300
    },
    "id": "2bf47582"
   },
   "outputs": [],
   "source": [
    "# !conda install -y watermark"
   ]
  },
  {
   "cell_type": "code",
   "execution_count": 2,
   "id": "047bcce3",
   "metadata": {
    "ExecuteTime": {
     "end_time": "2022-08-06T15:36:26.363969Z",
     "start_time": "2022-08-06T15:36:26.339934Z"
    },
    "colab": {
     "base_uri": "https://localhost:8080/"
    },
    "executionInfo": {
     "elapsed": 8,
     "status": "ok",
     "timestamp": 1659726371574,
     "user": {
      "displayName": "Enrique Reyes",
      "userId": "15575275169582460234"
     },
     "user_tz": 300
    },
    "id": "047bcce3",
    "outputId": "d2f6364d-6a79-44bf-a9da-2951ef604c78"
   },
   "outputs": [
    {
     "name": "stdout",
     "output_type": "stream",
     "text": [
      "Last updated: 2022-08-06T10:36:26.358196-05:00\n",
      "\n",
      "Python implementation: CPython\n",
      "Python version       : 3.9.13\n",
      "IPython version      : 8.4.0\n",
      "\n",
      "Compiler    : GCC 10.3.0\n",
      "OS          : Linux\n",
      "Release     : 5.10.102.1-microsoft-standard-WSL2\n",
      "Machine     : x86_64\n",
      "Processor   : x86_64\n",
      "CPU cores   : 12\n",
      "Architecture: 64bit\n",
      "\n"
     ]
    }
   ],
   "source": [
    "%load_ext watermark\n",
    "%watermark"
   ]
  },
  {
   "cell_type": "code",
   "execution_count": 3,
   "id": "e339cb99",
   "metadata": {
    "ExecuteTime": {
     "end_time": "2022-08-06T15:36:29.713309Z",
     "start_time": "2022-08-06T15:36:27.768721Z"
    },
    "colab": {
     "base_uri": "https://localhost:8080/",
     "height": 397
    },
    "executionInfo": {
     "elapsed": 6023,
     "status": "error",
     "timestamp": 1659726382676,
     "user": {
      "displayName": "Enrique Reyes",
      "userId": "15575275169582460234"
     },
     "user_tz": 300
    },
    "id": "e339cb99",
    "outputId": "c07eca76-cfd8-47ff-f163-3fd9ce1bce84"
   },
   "outputs": [],
   "source": [
    "import cv2\n",
    "\n",
    "import os\n",
    "\n",
    "import filetype\n",
    "\n",
    "import matplotlib.pyplot as plt\n",
    "\n",
    "from ipywidgets import interact\n",
    "\n",
    "import os\n",
    "\n",
    "import face_recognition\n",
    "\n",
    "from concurrent.futures import ThreadPoolExecutor, wait, ALL_COMPLETED\n",
    "\n",
    "import pickle\n",
    "\n",
    "from collections import Counter"
   ]
  },
  {
   "cell_type": "markdown",
   "id": "24b17415",
   "metadata": {
    "ExecuteTime": {
     "end_time": "2021-10-13T14:37:41.810050Z",
     "start_time": "2021-10-13T14:37:41.794942Z"
    },
    "id": "24b17415"
   },
   "source": [
    "## Resume"
   ]
  },
  {
   "cell_type": "markdown",
   "id": "89feda7a",
   "metadata": {
    "id": "89feda7a"
   },
   "source": [
    "- El objetivo es realizar una identificación de los rostros de las personas.\n",
    "- En la carpeta `photos` se encuentran las fotos con los rostros de las personas. Algunas fotos tienen más de un rostro.\n",
    "- En la carpeta `targets` se encuentra una carpeta por cada persona que se desea encontrar. Las fotos se utilizarán para comparar cada rostro encontrado en las fotos de la carpeta `photos`. Las fotos incluidad en la carpeta `targets` sólo deben contener a la persona que se desea encontrar, no pueden haber fotos con más de 1 persona."
   ]
  },
  {
   "cell_type": "markdown",
   "id": "abdac2db",
   "metadata": {
    "id": "abdac2db"
   },
   "source": [
    "https://github.com/ageitgey/face_recognition"
   ]
  },
  {
   "cell_type": "markdown",
   "id": "3cf80993",
   "metadata": {
    "id": "3cf80993"
   },
   "source": [
    "## Encoding targets"
   ]
  },
  {
   "cell_type": "markdown",
   "id": "500e64f5",
   "metadata": {
    "id": "500e64f5"
   },
   "source": [
    "Loading encoded targets."
   ]
  },
  {
   "cell_type": "code",
   "execution_count": 6,
   "id": "de8ae3e9",
   "metadata": {
    "ExecuteTime": {
     "end_time": "2022-08-06T15:36:52.602551Z",
     "start_time": "2022-08-06T15:36:52.592102Z"
    },
    "executionInfo": {
     "elapsed": 15,
     "status": "aborted",
     "timestamp": 1659726301062,
     "user": {
      "displayName": "Enrique Reyes",
      "userId": "15575275169582460234"
     },
     "user_tz": 300
    },
    "id": "de8ae3e9",
    "scrolled": false
   },
   "outputs": [
    {
     "data": {
      "text/plain": [
       "array([-1.16092019e-01,  1.03129551e-01,  8.36261660e-02, -1.50132045e-01,\n",
       "       -1.83266118e-01,  5.45580275e-02, -6.81164861e-02, -1.17516182e-01,\n",
       "        2.66883522e-01, -9.79346260e-02,  1.81765631e-01, -9.41361941e-04,\n",
       "       -2.67173111e-01,  8.16731229e-02, -3.99477594e-02,  1.77978113e-01,\n",
       "       -2.51921743e-01, -1.30731344e-01, -2.42961869e-02, -1.58387527e-01,\n",
       "       -6.72391057e-02,  4.76138033e-02,  2.98736803e-02,  1.00888580e-01,\n",
       "       -1.64397836e-01, -2.91150272e-01, -1.55865327e-01, -4.29766774e-02,\n",
       "        4.95762639e-02, -1.10525250e-01,  7.09766448e-02,  8.04018155e-02,\n",
       "       -1.88522056e-01,  2.44915579e-02,  3.79643217e-02,  1.37328103e-01,\n",
       "       -4.72211801e-02, -1.93583176e-01,  1.22214742e-01, -3.06461416e-02,\n",
       "       -1.72326997e-01, -1.23831324e-01,  1.75987661e-01,  2.20831513e-01,\n",
       "        2.65693694e-01, -7.99519867e-02,  5.74457720e-02, -3.03756949e-02,\n",
       "        1.82638213e-01, -3.13914299e-01,  6.96756020e-02,  1.37328207e-01,\n",
       "        4.19544317e-02,  6.74351007e-02,  1.11206636e-01, -1.95950955e-01,\n",
       "       -1.63852461e-02,  2.30597004e-01, -4.15292643e-02,  1.12666510e-01,\n",
       "        1.13660194e-01, -4.75288257e-02,  2.18951534e-02,  3.02411932e-02,\n",
       "        2.57057220e-01,  1.29589617e-01, -1.81300297e-01, -1.87315002e-01,\n",
       "        2.03210846e-01, -1.28175318e-01, -3.59346010e-02,  1.06018320e-01,\n",
       "       -1.67718425e-01, -1.83280930e-01, -2.73326844e-01,  5.37405014e-02,\n",
       "        5.05946636e-01,  3.61752473e-02, -5.17107546e-02,  9.67993960e-02,\n",
       "       -9.59033221e-02, -2.39473600e-02, -5.48152998e-02,  1.72141939e-01,\n",
       "       -6.23510070e-02, -5.32652289e-02, -1.35097191e-01,  9.17252973e-02,\n",
       "        3.41178656e-01, -1.77203268e-02,  7.50572979e-03,  2.92774200e-01,\n",
       "       -4.33782786e-02,  5.02018398e-03,  2.94125290e-03,  1.59788400e-01,\n",
       "       -1.19072296e-01, -2.23851819e-02, -1.16177268e-01, -2.70785240e-04,\n",
       "        2.94438470e-02, -7.09094927e-02, -6.66539893e-02,  1.27183780e-01,\n",
       "       -1.89200968e-01,  1.51128516e-01,  1.65287666e-02,  1.67607944e-02,\n",
       "       -3.94587293e-02, -5.13006113e-02, -1.18842244e-01,  2.84475670e-03,\n",
       "        2.43147165e-01, -3.06780577e-01,  1.61365017e-01,  1.18291348e-01,\n",
       "        2.48856414e-02,  1.54354915e-01,  6.40613958e-02,  9.95217189e-02,\n",
       "        1.16081163e-01, -9.21720341e-02, -4.09482233e-02, -4.20357697e-02,\n",
       "       -3.67760248e-02, -1.12267800e-01, -6.38669580e-02,  6.90879226e-02])"
      ]
     },
     "execution_count": 6,
     "metadata": {},
     "output_type": "execute_result"
    }
   ],
   "source": [
    "try:\n",
    "    pkl_targets = f'{resources_prefix}_resources/target_encoded.pkl'\n",
    "    \n",
    "    with open(pkl_targets, 'rb') as file:\n",
    "        target_dict = pickle.load(file)\n",
    "except:\n",
    "    target_dict = {}\n",
    "\n",
    "target_dict['Courteney Cox'][0]"
   ]
  },
  {
   "cell_type": "markdown",
   "id": "bb93b23f",
   "metadata": {
    "id": "bb93b23f"
   },
   "source": [
    "Se genera un diccionario con los nombres de las personas y la cantidad de fotos codificadas."
   ]
  },
  {
   "cell_type": "code",
   "execution_count": 7,
   "id": "a323ecea",
   "metadata": {
    "ExecuteTime": {
     "end_time": "2022-08-06T15:36:57.035690Z",
     "start_time": "2022-08-06T15:36:57.030092Z"
    },
    "executionInfo": {
     "elapsed": 16,
     "status": "aborted",
     "timestamp": 1659726301063,
     "user": {
      "displayName": "Enrique Reyes",
      "userId": "15575275169582460234"
     },
     "user_tz": 300
    },
    "id": "a323ecea"
   },
   "outputs": [
    {
     "data": {
      "text/plain": [
       "{'Courteney Cox': 10,\n",
       " 'David Schwimmer': 11,\n",
       " 'Jennifer Aniston': 9,\n",
       " 'Lisa Kudrow': 10,\n",
       " 'Matt Leblanc': 12,\n",
       " 'Matthew Perry': 12}"
      ]
     },
     "execution_count": 7,
     "metadata": {},
     "output_type": "execute_result"
    }
   ],
   "source": [
    "target_dict_count = {}\n",
    "\n",
    "for target in target_dict:\n",
    "    target_dict_count[target] = len(target_dict[target])\n",
    "\n",
    "target_dict_count"
   ]
  },
  {
   "cell_type": "markdown",
   "id": "de0b2b64",
   "metadata": {
    "id": "de0b2b64"
   },
   "source": [
    "Verificando si se necesita codificar nuevamente."
   ]
  },
  {
   "cell_type": "code",
   "execution_count": 8,
   "id": "f1cd8381",
   "metadata": {
    "ExecuteTime": {
     "end_time": "2022-08-06T15:36:58.834435Z",
     "start_time": "2022-08-06T15:36:58.594408Z"
    },
    "executionInfo": {
     "elapsed": 14,
     "status": "aborted",
     "timestamp": 1659726301063,
     "user": {
      "displayName": "Enrique Reyes",
      "userId": "15575275169582460234"
     },
     "user_tz": 300
    },
    "id": "f1cd8381"
   },
   "outputs": [
    {
     "data": {
      "text/plain": [
       "False"
      ]
     },
     "execution_count": 8,
     "metadata": {},
     "output_type": "execute_result"
    }
   ],
   "source": [
    "targets_path = f'{resources_prefix}_resources/targets'\n",
    "\n",
    "targets_dict_folder = {}\n",
    "\n",
    "for target_name in os.listdir(targets_path):\n",
    "    target_path = f'{targets_path}/{target_name}'\n",
    "\n",
    "    if not os.path.isdir(target_path):\n",
    "        continue\n",
    "\n",
    "    count = 0\n",
    "\n",
    "    for photo in os.listdir(target_path):\n",
    "        image_path = f'{target_path}/{photo}'\n",
    "\n",
    "        if not filetype.is_image(image_path):\n",
    "            continue\n",
    "\n",
    "        count += 1\n",
    "\n",
    "    targets_dict_folder[target_name] = count\n",
    "\n",
    "encode_targets = targets_dict_folder != target_dict_count\n",
    "\n",
    "encode_targets"
   ]
  },
  {
   "cell_type": "code",
   "execution_count": 9,
   "id": "8907afd9",
   "metadata": {
    "ExecuteTime": {
     "end_time": "2022-08-06T15:37:01.080049Z",
     "start_time": "2022-08-06T15:37:01.074765Z"
    },
    "executionInfo": {
     "elapsed": 15,
     "status": "aborted",
     "timestamp": 1659726301064,
     "user": {
      "displayName": "Enrique Reyes",
      "userId": "15575275169582460234"
     },
     "user_tz": 300
    },
    "id": "8907afd9"
   },
   "outputs": [
    {
     "data": {
      "text/plain": [
       "{'Courteney Cox': 10,\n",
       " 'David Schwimmer': 11,\n",
       " 'Jennifer Aniston': 9,\n",
       " 'Lisa Kudrow': 10,\n",
       " 'Matt Leblanc': 12,\n",
       " 'Matthew Perry': 12}"
      ]
     },
     "execution_count": 9,
     "metadata": {},
     "output_type": "execute_result"
    }
   ],
   "source": [
    "target_dict_count"
   ]
  },
  {
   "cell_type": "markdown",
   "id": "187179fd",
   "metadata": {
    "ExecuteTime": {
     "end_time": "2021-12-24T19:35:22.483738Z",
     "start_time": "2021-12-24T19:35:22.468495Z"
    },
    "id": "187179fd"
   },
   "source": [
    "Encoding"
   ]
  },
  {
   "cell_type": "code",
   "execution_count": 10,
   "id": "f863bb5e",
   "metadata": {
    "ExecuteTime": {
     "end_time": "2022-08-06T15:37:02.288884Z",
     "start_time": "2022-08-06T15:37:02.282335Z"
    },
    "executionInfo": {
     "elapsed": 13,
     "status": "aborted",
     "timestamp": 1659726301064,
     "user": {
      "displayName": "Enrique Reyes",
      "userId": "15575275169582460234"
     },
     "user_tz": 300
    },
    "id": "f863bb5e"
   },
   "outputs": [],
   "source": [
    "def encoding_thread(target_path, target_name):\n",
    "    for photo in os.listdir(target_path):\n",
    "        image_path = f'{target_path}/{photo}'\n",
    "\n",
    "        if not filetype.is_image(image_path):\n",
    "            continue\n",
    "\n",
    "        img = face_recognition.load_image_file(image_path)\n",
    "        encodings = face_recognition.face_encodings(img)\n",
    "\n",
    "        if len(encodings) != 1:\n",
    "            print(f'\\nInvalid {photo}, found {len(encodings)} faces instead of 1')\n",
    "            continue\n",
    "\n",
    "        target_dict[target_name].append(encodings[0])\n",
    "\n",
    "\n",
    "def encoding():\n",
    "    if not encode_targets:\n",
    "        return\n",
    "\n",
    "    with ThreadPoolExecutor(max_workers=1) as executor:\n",
    "        targets_name = []\n",
    "        futures = []\n",
    "\n",
    "        for target_name in os.listdir(targets_path):\n",
    "\n",
    "            target_path = f'{targets_path}/{target_name}'\n",
    "\n",
    "            if not os.path.isdir(target_path):\n",
    "                continue\n",
    "\n",
    "            targets_name.append(target_name)\n",
    "            target_dict[target_name] = []\n",
    "\n",
    "            futures.append(executor.submit(encoding_thread, target_path, target_name))\n",
    "\n",
    "        print(targets_name)\n",
    "        n = len(futures)\n",
    "\n",
    "        for i, future in enumerate(futures):\n",
    "            wait(fs=[future], return_when=ALL_COMPLETED)\n",
    "            print(\"\\r Items {0} of {1}\".format(i+1, n), end='')\n",
    "\n",
    "        executor.shutdown(wait=True)\n",
    "\n",
    "\n",
    "encoding()"
   ]
  },
  {
   "cell_type": "code",
   "execution_count": 13,
   "id": "e7cd87b1",
   "metadata": {
    "ExecuteTime": {
     "end_time": "2022-08-06T15:37:20.866110Z",
     "start_time": "2022-08-06T15:37:20.859680Z"
    },
    "executionInfo": {
     "elapsed": 14,
     "status": "aborted",
     "timestamp": 1659726301065,
     "user": {
      "displayName": "Enrique Reyes",
      "userId": "15575275169582460234"
     },
     "user_tz": 300
    },
    "id": "e7cd87b1"
   },
   "outputs": [
    {
     "data": {
      "text/plain": [
       "array([-1.16092019e-01,  1.03129551e-01,  8.36261660e-02, -1.50132045e-01,\n",
       "       -1.83266118e-01,  5.45580275e-02, -6.81164861e-02, -1.17516182e-01,\n",
       "        2.66883522e-01, -9.79346260e-02,  1.81765631e-01, -9.41361941e-04,\n",
       "       -2.67173111e-01,  8.16731229e-02, -3.99477594e-02,  1.77978113e-01,\n",
       "       -2.51921743e-01, -1.30731344e-01, -2.42961869e-02, -1.58387527e-01,\n",
       "       -6.72391057e-02,  4.76138033e-02,  2.98736803e-02,  1.00888580e-01,\n",
       "       -1.64397836e-01, -2.91150272e-01, -1.55865327e-01, -4.29766774e-02,\n",
       "        4.95762639e-02, -1.10525250e-01,  7.09766448e-02,  8.04018155e-02,\n",
       "       -1.88522056e-01,  2.44915579e-02,  3.79643217e-02,  1.37328103e-01,\n",
       "       -4.72211801e-02, -1.93583176e-01,  1.22214742e-01, -3.06461416e-02,\n",
       "       -1.72326997e-01, -1.23831324e-01,  1.75987661e-01,  2.20831513e-01,\n",
       "        2.65693694e-01, -7.99519867e-02,  5.74457720e-02, -3.03756949e-02,\n",
       "        1.82638213e-01, -3.13914299e-01,  6.96756020e-02,  1.37328207e-01,\n",
       "        4.19544317e-02,  6.74351007e-02,  1.11206636e-01, -1.95950955e-01,\n",
       "       -1.63852461e-02,  2.30597004e-01, -4.15292643e-02,  1.12666510e-01,\n",
       "        1.13660194e-01, -4.75288257e-02,  2.18951534e-02,  3.02411932e-02,\n",
       "        2.57057220e-01,  1.29589617e-01, -1.81300297e-01, -1.87315002e-01,\n",
       "        2.03210846e-01, -1.28175318e-01, -3.59346010e-02,  1.06018320e-01,\n",
       "       -1.67718425e-01, -1.83280930e-01, -2.73326844e-01,  5.37405014e-02,\n",
       "        5.05946636e-01,  3.61752473e-02, -5.17107546e-02,  9.67993960e-02,\n",
       "       -9.59033221e-02, -2.39473600e-02, -5.48152998e-02,  1.72141939e-01,\n",
       "       -6.23510070e-02, -5.32652289e-02, -1.35097191e-01,  9.17252973e-02,\n",
       "        3.41178656e-01, -1.77203268e-02,  7.50572979e-03,  2.92774200e-01,\n",
       "       -4.33782786e-02,  5.02018398e-03,  2.94125290e-03,  1.59788400e-01,\n",
       "       -1.19072296e-01, -2.23851819e-02, -1.16177268e-01, -2.70785240e-04,\n",
       "        2.94438470e-02, -7.09094927e-02, -6.66539893e-02,  1.27183780e-01,\n",
       "       -1.89200968e-01,  1.51128516e-01,  1.65287666e-02,  1.67607944e-02,\n",
       "       -3.94587293e-02, -5.13006113e-02, -1.18842244e-01,  2.84475670e-03,\n",
       "        2.43147165e-01, -3.06780577e-01,  1.61365017e-01,  1.18291348e-01,\n",
       "        2.48856414e-02,  1.54354915e-01,  6.40613958e-02,  9.95217189e-02,\n",
       "        1.16081163e-01, -9.21720341e-02, -4.09482233e-02, -4.20357697e-02,\n",
       "       -3.67760248e-02, -1.12267800e-01, -6.38669580e-02,  6.90879226e-02])"
      ]
     },
     "execution_count": 13,
     "metadata": {},
     "output_type": "execute_result"
    }
   ],
   "source": [
    "target_dict['Courteney Cox'][0]"
   ]
  },
  {
   "cell_type": "markdown",
   "id": "606de57d",
   "metadata": {
    "id": "606de57d"
   },
   "source": [
    "Saving encoded targets."
   ]
  },
  {
   "cell_type": "code",
   "execution_count": 14,
   "id": "a26eeebd",
   "metadata": {
    "ExecuteTime": {
     "end_time": "2022-08-06T15:37:23.135046Z",
     "start_time": "2022-08-06T15:37:23.131226Z"
    },
    "executionInfo": {
     "elapsed": 11,
     "status": "aborted",
     "timestamp": 1659726301065,
     "user": {
      "displayName": "Enrique Reyes",
      "userId": "15575275169582460234"
     },
     "user_tz": 300
    },
    "id": "a26eeebd"
   },
   "outputs": [],
   "source": [
    "if encode_targets:\n",
    "    with open(pkl_targets, 'wb') as file:\n",
    "        pickle.dump(target_dict, file)"
   ]
  },
  {
   "cell_type": "markdown",
   "id": "b600a8b2",
   "metadata": {
    "id": "b600a8b2"
   },
   "source": [
    "## Detecting faces from images"
   ]
  },
  {
   "cell_type": "code",
   "execution_count": 15,
   "id": "fb0b87e6",
   "metadata": {
    "ExecuteTime": {
     "end_time": "2022-08-06T15:37:24.678499Z",
     "start_time": "2022-08-06T15:37:24.574826Z"
    },
    "executionInfo": {
     "elapsed": 12,
     "status": "aborted",
     "timestamp": 1659726301066,
     "user": {
      "displayName": "Enrique Reyes",
      "userId": "15575275169582460234"
     },
     "user_tz": 300
    },
    "id": "fb0b87e6"
   },
   "outputs": [],
   "source": [
    "photos_path = f'{resources_prefix}_resources/photos'\n",
    "photo_list = []\n",
    "\n",
    "for photo in os.listdir(photos_path):\n",
    "    image_path = f'{photos_path}/{photo}'\n",
    "\n",
    "    if not filetype.is_image(image_path):\n",
    "        continue\n",
    "\n",
    "    photo_list.append(image_path)"
   ]
  },
  {
   "cell_type": "code",
   "execution_count": 16,
   "id": "bb035487",
   "metadata": {
    "ExecuteTime": {
     "end_time": "2022-08-06T15:37:26.762068Z",
     "start_time": "2022-08-06T15:37:25.917843Z"
    },
    "executionInfo": {
     "elapsed": 11,
     "status": "aborted",
     "timestamp": 1659726301066,
     "user": {
      "displayName": "Enrique Reyes",
      "userId": "15575275169582460234"
     },
     "user_tz": 300
    },
    "id": "bb035487"
   },
   "outputs": [
    {
     "data": {
      "application/vnd.jupyter.widget-view+json": {
       "model_id": "d26a0370673f4d84b40aa365a43f001d",
       "version_major": 2,
       "version_minor": 0
      },
      "text/plain": [
       "interactive(children=(Dropdown(description='photo_list', options=('_resources/photos/064206_1157388.jpg', '_re…"
      ]
     },
     "metadata": {},
     "output_type": "display_data"
    }
   ],
   "source": [
    "@interact(photo_list=photo_list)\n",
    "def detect(photo_list):\n",
    "    plt.rcParams['figure.figsize'] = (15, 15)\n",
    "\n",
    "    # Cargando la imagen\n",
    "    # img = face_recognition.load_image_file(photo_list) # No reconoce cuando la imagen esta rotada\n",
    "\n",
    "    img = cv2.imread(photo_list)\n",
    "    img = cv2.cvtColor(img, cv2.COLOR_BGR2RGB)\n",
    "\n",
    "    # Ubicación de los rostros\n",
    "    face_locations = face_recognition.face_locations(img)\n",
    "\n",
    "    # Codificando los rostros encontrados\n",
    "    face_encodings = face_recognition.face_encodings(img, face_locations)\n",
    "\n",
    "    # Por cada rostro encontrado\n",
    "    for pos, encode in enumerate(face_encodings):\n",
    "        # Se colocan los nombres que coincidan\n",
    "        face_names = []\n",
    "\n",
    "        # Por cada target almacenado\n",
    "        for target_name in target_dict:\n",
    "            # Se compara el rostro con el los rostro de los target almacenados y se obtiene una lista de bool\n",
    "            result = face_recognition.compare_faces(known_face_encodings=target_dict[target_name], \n",
    "                                                    face_encoding_to_check=encode, tolerance=0.6)\n",
    "\n",
    "            # Se pasa a un Counter para verificar si existen más True que False\n",
    "            counter = Counter(result)\n",
    "\n",
    "            if counter[True] > counter[False]:\n",
    "                face_names.append(target_name)\n",
    "\n",
    "        # Se concatenan los nombres que coincidan\n",
    "        names = ', '.join(face_names)\n",
    "\n",
    "        # Al ser face_encodings y face_locations listas paralelas, se puede usar el mismo pos\n",
    "        top, right, bottom, left = face_locations[pos]\n",
    "        \n",
    "        org = (left, top - 10)\n",
    "        font = cv2.FONT_HERSHEY_COMPLEX\n",
    "        color = (0, 0, 200)\n",
    "        \n",
    "        cv2.putText(img=img, text=names, org=org, fontFace=font, fontScale=0.4, color=color, thickness=1)\n",
    "        \n",
    "        cv2.rectangle(img=img, pt1=(left, top), pt2=(right, bottom), color=color, thickness=1)    \n",
    "    \n",
    "    plt.imshow(img)\n",
    "    plt.show()"
   ]
  },
  {
   "cell_type": "markdown",
   "id": "5a978fc2",
   "metadata": {
    "id": "5a978fc2"
   },
   "source": [
    "## Detecting faces from camera"
   ]
  },
  {
   "cell_type": "markdown",
   "id": "57d66f72",
   "metadata": {
    "id": "57d66f72"
   },
   "source": [
    "Listando las cámaras disponibles."
   ]
  },
  {
   "cell_type": "code",
   "execution_count": 17,
   "id": "a51f11d4",
   "metadata": {
    "ExecuteTime": {
     "end_time": "2022-08-06T15:37:36.735086Z",
     "start_time": "2022-08-06T15:37:36.727658Z"
    },
    "executionInfo": {
     "elapsed": 12,
     "status": "aborted",
     "timestamp": 1659726301067,
     "user": {
      "displayName": "Enrique Reyes",
      "userId": "15575275169582460234"
     },
     "user_tz": 300
    },
    "id": "a51f11d4"
   },
   "outputs": [
    {
     "data": {
      "text/plain": [
       "[]"
      ]
     },
     "execution_count": 17,
     "metadata": {},
     "output_type": "execute_result"
    }
   ],
   "source": [
    "devs = os.listdir('/dev')\n",
    "\n",
    "vid_indices = [int(dev[-1]) for dev in devs if dev.startswith('video')]\n",
    "vid_indices = sorted(vid_indices)\n",
    "vid_indices"
   ]
  },
  {
   "cell_type": "markdown",
   "id": "18c7929e",
   "metadata": {
    "id": "18c7929e"
   },
   "source": [
    "Load camera."
   ]
  },
  {
   "cell_type": "code",
   "execution_count": 18,
   "id": "526358f2",
   "metadata": {
    "ExecuteTime": {
     "end_time": "2022-08-06T15:37:38.116190Z",
     "start_time": "2022-08-06T15:37:38.086352Z"
    },
    "executionInfo": {
     "elapsed": 12,
     "status": "aborted",
     "timestamp": 1659726301067,
     "user": {
      "displayName": "Enrique Reyes",
      "userId": "15575275169582460234"
     },
     "user_tz": 300
    },
    "id": "526358f2"
   },
   "outputs": [
    {
     "name": "stderr",
     "output_type": "stream",
     "text": [
      "[ WARN:0] global ../modules/videoio/src/cap_v4l.cpp (893) open VIDEOIO(V4L2:/dev/video2): can't open camera by index\n"
     ]
    }
   ],
   "source": [
    "cap = cv2.VideoCapture(2)"
   ]
  },
  {
   "cell_type": "markdown",
   "id": "58d7c22e",
   "metadata": {
    "id": "58d7c22e"
   },
   "source": [
    "Read camera."
   ]
  },
  {
   "cell_type": "code",
   "execution_count": null,
   "id": "eed18181",
   "metadata": {
    "ExecuteTime": {
     "end_time": "2022-08-05T19:12:59.485354Z",
     "start_time": "2022-08-05T19:12:59.480344Z"
    },
    "executionInfo": {
     "elapsed": 13,
     "status": "aborted",
     "timestamp": 1659726301068,
     "user": {
      "displayName": "Enrique Reyes",
      "userId": "15575275169582460234"
     },
     "user_tz": 300
    },
    "id": "eed18181"
   },
   "outputs": [],
   "source": [
    "# while True:\n",
    "#     ret, frame = cap.read()\n",
    "\n",
    "#     # Detect Faces\n",
    "#     face_locations, face_names = sfr.detect_known_faces(frame)\n",
    "\n",
    "#     for face_loc, name in zip(face_locations, face_names):\n",
    "#         y1, x2, y2, x1 = face_loc[0], face_loc[1], face_loc[2], face_loc[3]\n",
    "\n",
    "#         cv2.putText(frame, name, (x1, y1 - 10), cv2.FONT_HERSHEY_DUPLEX, 1, (0, 0, 200), 2)\n",
    "#         cv2.rectangle(frame, (x1, y1), (x2, y2), (0, 0, 200), 4)\n",
    "\n",
    "#     cv2.imshow(\"Frame\", frame)\n",
    "\n",
    "#     key = cv2.waitKey(1)\n",
    "#     if key == 27:\n",
    "#         break"
   ]
  },
  {
   "cell_type": "code",
   "execution_count": null,
   "id": "98431e6a",
   "metadata": {
    "ExecuteTime": {
     "end_time": "2022-08-05T19:12:59.499485Z",
     "start_time": "2022-08-05T19:12:59.490584Z"
    },
    "executionInfo": {
     "elapsed": 13,
     "status": "aborted",
     "timestamp": 1659726301068,
     "user": {
      "displayName": "Enrique Reyes",
      "userId": "15575275169582460234"
     },
     "user_tz": 300
    },
    "id": "98431e6a"
   },
   "outputs": [],
   "source": [
    "# # Analizar el sguiente codigo\n",
    "\n",
    "# import cv2\n",
    "# from simple_facerec import SimpleFacerec\n",
    "\n",
    "# # Encode faces from a folder\n",
    "# sfr = SimpleFacerec()\n",
    "# sfr.load_encoding_images(\"images/\")\n",
    "\n",
    "# # Load Camera\n",
    "# cap = cv2.VideoCapture(2)\n",
    "\n",
    "\n",
    "# while True:\n",
    "#     ret, frame = cap.read()\n",
    "\n",
    "#     # Detect Faces\n",
    "#     face_locations, face_names = sfr.detect_known_faces(frame)\n",
    "#     for face_loc, name in zip(face_locations, face_names):\n",
    "#         y1, x2, y2, x1 = face_loc[0], face_loc[1], face_loc[2], face_loc[3]\n",
    "\n",
    "#         cv2.putText(frame, name,(x1, y1 - 10), cv2.FONT_HERSHEY_DUPLEX, 1, (0, 0, 200), 2)\n",
    "#         cv2.rectangle(frame, (x1, y1), (x2, y2), (0, 0, 200), 4)\n",
    "\n",
    "#     cv2.imshow(\"Frame\", frame)\n",
    "\n",
    "#     key = cv2.waitKey(1)\n",
    "#     if key == 27:\n",
    "#         break\n",
    "\n",
    "# cap.release()\n",
    "# cv2.destroyAllWindows()\n",
    "\n",
    "# def detect_known_faces(self, frame):\n",
    "#         small_frame = cv2.resize(frame, (0, 0), fx=self.frame_resizing, fy=self.frame_resizing)\n",
    "#         # Find all the faces and face encodings in the current frame of video\n",
    "#         # Convert the image from BGR color (which OpenCV uses) to RGB color (which face_recognition uses)\n",
    "#         rgb_small_frame = cv2.cvtColor(small_frame, cv2.COLOR_BGR2RGB)\n",
    "#         face_locations = face_recognition.face_locations(rgb_small_frame)\n",
    "#         face_encodings = face_recognition.face_encodings(rgb_small_frame, face_locations)\n",
    "\n",
    "#         face_names = []\n",
    "#         for face_encoding in face_encodings:\n",
    "#             # See if the face is a match for the known face(s)\n",
    "#             matches = face_recognition.compare_faces(self.known_face_encodings, face_encoding)\n",
    "#             name = \"Unknown\"\n",
    "\n",
    "#             # # If a match was found in known_face_encodings, just use the first one.\n",
    "#             # if True in matches:\n",
    "#             #     first_match_index = matches.index(True)\n",
    "#             #     name = known_face_names[first_match_index]\n",
    "\n",
    "#             # Or instead, use the known face with the smallest distance to the new face\n",
    "#             face_distances = face_recognition.face_distance(self.known_face_encodings, face_encoding)\n",
    "#             best_match_index = np.argmin(face_distances)\n",
    "#             if matches[best_match_index]:\n",
    "#                 name = self.known_face_names[best_match_index]\n",
    "#             face_names.append(name)\n",
    "\n",
    "#         # Convert to numpy array to adjust coordinates with frame resizing quickly\n",
    "#         face_locations = np.array(face_locations)\n",
    "#         face_locations = face_locations / self.frame_resizing\n",
    "#         return face_locations.astype(int), face_names"
   ]
  }
 ],
 "metadata": {
  "accelerator": "GPU",
  "colab": {
   "collapsed_sections": [],
   "name": "notebook.ipynb",
   "provenance": [],
   "toc_visible": true
  },
  "gpuClass": "standard",
  "hide_input": false,
  "interpreter": {
   "hash": "cbac44ffe0935cbf06a3471c3f8650bd74107fa4a8b1a2a1bf15c46b563c1cb2"
  },
  "kernelspec": {
   "display_name": "Python [conda env:env39]",
   "language": "python",
   "name": "conda-env-env39-py"
  },
  "language_info": {
   "codemirror_mode": {
    "name": "ipython",
    "version": 3
   },
   "file_extension": ".py",
   "mimetype": "text/x-python",
   "name": "python",
   "nbconvert_exporter": "python",
   "pygments_lexer": "ipython3",
   "version": "3.9.13"
  },
  "toc": {
   "base_numbering": 1,
   "nav_menu": {
    "height": "516px",
    "width": "232px"
   },
   "number_sections": true,
   "sideBar": true,
   "skip_h1_title": false,
   "title_cell": "Table of Contents",
   "title_sidebar": "Contents",
   "toc_cell": false,
   "toc_position": {
    "height": "calc(100% - 180px)",
    "left": "10px",
    "top": "150px",
    "width": "384px"
   },
   "toc_section_display": true,
   "toc_window_display": true
  },
  "varInspector": {
   "cols": {
    "lenName": 16,
    "lenType": 16,
    "lenVar": 40
   },
   "kernels_config": {
    "python": {
     "delete_cmd_postfix": "",
     "delete_cmd_prefix": "del ",
     "library": "var_list.py",
     "varRefreshCmd": "print(var_dic_list())"
    },
    "r": {
     "delete_cmd_postfix": ") ",
     "delete_cmd_prefix": "rm(",
     "library": "var_list.r",
     "varRefreshCmd": "cat(var_dic_list()) "
    }
   },
   "types_to_exclude": [
    "module",
    "function",
    "builtin_function_or_method",
    "instance",
    "_Feature"
   ],
   "window_display": false
  }
 },
 "nbformat": 4,
 "nbformat_minor": 5
}
